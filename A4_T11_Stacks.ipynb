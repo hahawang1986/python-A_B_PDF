{
 "cells": [
  {
   "cell_type": "markdown",
   "metadata": {},
   "source": [
    "### Instructions:\n",
    "\n",
    "- You can attempt any number of questions and in any order.  \n",
    "  See the assignment page for a description of the hurdle requirement for this assessment.\n",
    "- You may submit your practical for autograding as many times as you like to check on progress, however you will save time by checking and testing your own code before submitting.\n",
    "- Develop and check your answers in the spaces provided.\n",
    "- **Replace** the code `raise NotImplementedError()` with your solution to the question.\n",
    "- Do **NOT** remove any variables other provided markings already provided in the answer spaces.\n",
    "- Do **NOT** make any changes to this notebook outside of the spaces indicated.  \n",
    "  (If you do this, the submission system might not accept your work)\n",
    "\n",
    "### Submitting:\n",
    "\n",
    "1. Before you turn this problem in, make sure everything runs as expected by resetting this notebook.    \n",
    "   (You can do this from the menubar above by selecting `Kernel`&#8594;`Restart Kernel and Run All Cells...`)\n",
    "1. Don't forget to save your notebook after this step.\n",
    "1. Submit your .ipynb file to Gradescope via file upload or GitHub repository.\n",
    "1. You can submit as many times as needed.\n",
    "1. You **must** give your submitted file the **identical** filename to that which you downloaded without changing **any** aspects - spaces, underscores, capitalisation etc. If your operating system has changed the filename because you downloaded the file twice or more you **must** also fix this.  \n",
    "\n"
   ]
  },
  {
   "cell_type": "markdown",
   "metadata": {},
   "source": [
    "---"
   ]
  },
  {
   "cell_type": "markdown",
   "metadata": {},
   "source": [
    "# <mark style=\"background: #a48752; color: #ffffff;\" >&nbsp;A4&nbsp;</mark> Topic 11: Stacks"
   ]
  },
  {
   "cell_type": "markdown",
   "metadata": {},
   "source": [
    "#### Question 1&nbsp;&nbsp;&nbsp;&nbsp;&nbsp;&nbsp;(10 Points)\n",
    "Suppose we have two stacks and no other temporary variable. Construct a queue data structure using only these two stacks. Use the following template for `Q1Queue` when developing the solution and raise an `IndexError` when dequeue is called on an empty queue. Next, create a instance `q1` and check if the enqueue and dequeue operations are correctly working."
   ]
  },
  {
   "cell_type": "code",
   "execution_count": 12,
   "metadata": {
    "ExecuteTime": {
     "end_time": "2022-03-28T08:13:13.775211Z",
     "start_time": "2022-03-28T08:13:13.754711Z"
    },
    "deletable": false,
    "nbgrader": {
     "cell_type": "code",
     "checksum": "594baf897103fe46f0eb1d25d47ab479",
     "grade": false,
     "grade_id": "A1",
     "locked": false,
     "schema_version": 3,
     "solution": true,
     "task": false
    }
   },
   "outputs": [],
   "source": [
    "\n",
    "class Q1Queue:\n",
    "    \n",
    "    def __init__(self):\n",
    "        self.s1 = [] # stack 1\n",
    "        self.s2 = [] # stack 2\n",
    " \n",
    "    # enqueue an item from the queue\n",
    "    def enqueue(self, x):\n",
    "        self.s1.insert(0,x)\n",
    " \n",
    "    # dequeue an item from the queue\n",
    "    def dequeue(self):\n",
    "        if not self.s1:\n",
    "            raise IndexError(\"Dequeue from an empty queue\")\n",
    "        else:\n",
    "            self.s2 = self.s1.pop()\n",
    "            return self.s2\n",
    "      \n",
    "    \n"
   ]
  },
  {
   "cell_type": "code",
   "execution_count": 13,
   "metadata": {},
   "outputs": [],
   "source": [
    "# Sample test case\n",
    "\n",
    "q1 = Q1Queue()\n",
    "q1.enqueue(1)\n",
    "q1.enqueue(2)\n",
    "q1.enqueue(3)\n",
    "q1.s1\n",
    "assert q1.s1 == [3, 2, 1]\n",
    "\n",
    "popped = q1.dequeue()\n",
    "assert popped == 1 and q1.s1 == [3, 2]"
   ]
  },
  {
   "cell_type": "code",
   "execution_count": null,
   "metadata": {
    "ExecuteTime": {
     "end_time": "2022-03-28T08:18:53.367624Z",
     "start_time": "2022-03-28T08:18:53.356749Z"
    },
    "deletable": false,
    "editable": false,
    "nbgrader": {
     "cell_type": "code",
     "checksum": "f20db386cb347ea1f9f37a094c28efa4",
     "grade": true,
     "grade_id": "test_A1-queue",
     "locked": true,
     "points": 10,
     "schema_version": 3,
     "solution": false,
     "task": false
    }
   },
   "outputs": [],
   "source": [
    "# Testing Cell (Do NOT modify this cell)"
   ]
  },
  {
   "cell_type": "markdown",
   "metadata": {},
   "source": [
    "#### Question 2&nbsp;&nbsp;&nbsp;&nbsp;&nbsp;&nbsp;(10 Points)\n",
    "Given two queues with their standard operations (e.g., enqueue, dequeue, size), implement a stack with its standard operations (pop, push, top, size). Next, create a instance `q2` and push 1, 2, 3, 4 and then pop once."
   ]
  },
  {
   "cell_type": "code",
   "execution_count": 13,
   "metadata": {
    "ExecuteTime": {
     "end_time": "2022-03-28T23:24:01.886602Z",
     "start_time": "2022-03-28T23:24:01.865661Z"
    },
    "deletable": false,
    "nbgrader": {
     "cell_type": "code",
     "checksum": "97558107cd9a345a24709c5faf8eb162",
     "grade": false,
     "grade_id": "A2",
     "locked": false,
     "schema_version": 3,
     "solution": true,
     "task": false
    }
   },
   "outputs": [],
   "source": [
    "from queue import Queue\n",
    "import copy\n",
    "\n",
    "class Q2Stack:\n",
    "    \n",
    "    def __init__(self):\n",
    "        self.q1 = Queue()\n",
    "        self.q2 = Queue()\n",
    "        \n",
    "        # To maintain current number of elements\n",
    "        self.curr_size = 0\n",
    "\n",
    "        \n",
    "    # Push operation\n",
    "    def push(self, x):\n",
    "        self.curr_size += 1\n",
    "        \n",
    "        # Add the new element to q2\n",
    "        self.q1.put(x)\n",
    "        \n",
    "#         # Move all elements from q1 to q2\n",
    "#         while not self.q1.empty():\n",
    "#             self.q2.put(self.q1.get())\n",
    "        \n",
    "#         # Swap the queues\n",
    "#         self.q1, self.q2 = self.q2, self.q1\n",
    "        \n",
    "    # Pop operation\n",
    "    def pop(self):\n",
    "        if self.q1.empty():\n",
    "            return None\n",
    "        self.curr_size -= 1\n",
    "        \n",
    "        l = self.q1.qsize()\n",
    "        for i in range(l-1):\n",
    "            self.q2.put(self.q1.get()) \n",
    "        self.q1,self.q2 = self.q2,self.q1\n",
    "        return self.q2.get()\n",
    "    \n",
    "    # Top operation\n",
    "    def top(self):\n",
    "        if self.q1.empty():\n",
    "            return None\n",
    "        \n",
    "        return self.q1.queue[-1]\n",
    "    \n",
    "    # Size operation\n",
    "    def size(self):\n",
    "        return self.curr_size\n",
    "\n",
    "#     def push(self, x):\n",
    "#         self.q2.put(x)\n",
    "#         return self.q2\n",
    "    \n",
    "#     def pop(self):\n",
    "#         self.q1 = copy.copy(self.q2)\n",
    "#         self.q2.queue.clear()\n",
    "#         l = self.q1.qsize()\n",
    "#         for i in range(l-1):\n",
    "#             self.q2.put(self.q1.get())\n",
    "#         return self.q1.get()\n",
    " \n",
    "#     def top(self):\n",
    "#         self.q1 = copy.copy(self.q2)\n",
    "#         l = self.q1.qsize()\n",
    "#         for i in range(l-1):\n",
    "#             self.q1.get()\n",
    "#         top = self.q1.get()\n",
    "\n",
    "#         return top # return the top value\n",
    "    \n",
    "#     def size(self):\n",
    "#         size = self.q2.qsize()\n",
    "#         return size # return the size\n",
    "    \n"
   ]
  },
  {
   "cell_type": "code",
   "execution_count": 21,
   "metadata": {},
   "outputs": [
    {
     "name": "stdout",
     "output_type": "stream",
     "text": [
      "3\n",
      "3\n",
      "2\n"
     ]
    }
   ],
   "source": [
    "# Sample test case\n",
    "q2 = Q2Stack()\n",
    "q2.push(1)\n",
    "q2.push(2)\n",
    "q2.push(3)\n",
    "print(q2.q1.queue[-1])\n",
    "print(q2.top())\n",
    "assert q2.top() == 3\n",
    "q2.pop()\n",
    "print(q2.top())\n",
    "assert q2.top() == 2"
   ]
  },
  {
   "cell_type": "code",
   "execution_count": null,
   "metadata": {
    "ExecuteTime": {
     "end_time": "2022-03-28T23:06:47.614853Z",
     "start_time": "2022-03-28T23:06:47.601888Z"
    },
    "deletable": false,
    "editable": false,
    "nbgrader": {
     "cell_type": "code",
     "checksum": "0f818387e9ca4fecdaabb4b53f22b981",
     "grade": true,
     "grade_id": "test_A2-stack",
     "locked": true,
     "points": 10,
     "schema_version": 3,
     "solution": false,
     "task": false
    }
   },
   "outputs": [],
   "source": [
    "# Testing Cell (Do NOT modify this cell)"
   ]
  },
  {
   "cell_type": "markdown",
   "metadata": {},
   "source": [
    "#### Question 3&nbsp;&nbsp;&nbsp;&nbsp;&nbsp;&nbsp;(10 Points)\n",
    "Write a Python program to reverse a string using a stack. Use the following template when developing the solution. Next, create a instance `q3` and check if the reverse operation is correctly working. You should raise an `IndexError` when pop is called on an empty stack."
   ]
  },
  {
   "cell_type": "code",
   "execution_count": 35,
   "metadata": {
    "ExecuteTime": {
     "end_time": "2022-03-28T23:25:21.296007Z",
     "start_time": "2022-03-28T23:25:21.281020Z"
    },
    "deletable": false,
    "nbgrader": {
     "cell_type": "code",
     "checksum": "3404abbb82227f08d7f77223a01e68cd",
     "grade": false,
     "grade_id": "A3",
     "locked": false,
     "schema_version": 3,
     "solution": true,
     "task": false
    },
    "run_control": {
     "marked": true
    }
   },
   "outputs": [],
   "source": [
    "class Q3Stack:\n",
    "    \n",
    "    def __init__(self):\n",
    "        self.stack = []\n",
    "    \n",
    "    def isEmpty(self):\n",
    "        return not bool(len(self.stack))\n",
    "    \n",
    "    def push(self,x):\n",
    "        self.stack.append(x)\n",
    "        \n",
    "    \n",
    "    def pop(self):\n",
    "        if self.isEmpty():\n",
    "            raise IndexError(\"underflow\")\n",
    "        else:\n",
    "            return self.stack.pop()\n",
    " \n",
    "    def reverse(self, string):\n",
    "        for i in string:\n",
    "            self.stack.append(i)\n",
    "        lst =[]\n",
    "        for i in range(len(string)):\n",
    "            lst.append(self.stack.pop())\n",
    "        string = \"\".join(lst)\n",
    "  \n",
    "       \n",
    "        return string # return the reversed string\n",
    "    \n"
   ]
  },
  {
   "cell_type": "code",
   "execution_count": 36,
   "metadata": {},
   "outputs": [
    {
     "name": "stdout",
     "output_type": "stream",
     "text": [
      "True\n",
      "olleh\n"
     ]
    }
   ],
   "source": [
    "# Sample test case\n",
    "\n",
    "stack = Q3Stack()\n",
    "assert stack.isEmpty()\n",
    "print(stack.isEmpty())\n",
    "assert stack.reverse('hello') == 'olleh'\n",
    "print(stack.reverse('hello'))"
   ]
  },
  {
   "cell_type": "code",
   "execution_count": null,
   "metadata": {
    "ExecuteTime": {
     "end_time": "2022-03-28T23:28:14.565766Z",
     "start_time": "2022-03-28T23:28:14.562767Z"
    },
    "deletable": false,
    "editable": false,
    "nbgrader": {
     "cell_type": "code",
     "checksum": "eb028a6b523ee31e6553edfe87867182",
     "grade": true,
     "grade_id": "test_A3-stackReverse",
     "locked": true,
     "points": 10,
     "schema_version": 3,
     "solution": false,
     "task": false
    }
   },
   "outputs": [],
   "source": [
    "# Testing Cell (Do NOT modify this cell)"
   ]
  },
  {
   "cell_type": "markdown",
   "metadata": {},
   "source": [
    "#### Question 4&nbsp;&nbsp;&nbsp;&nbsp;&nbsp;&nbsp;(10 Points)\n",
    "Given a stack of integers, write a Python program to sort it in ascending order using another temporary stack. For example, give a stack [3, 5, 1, 4, 2, 8] the output should be [1, 2, 3, 4, 5, 8]. Use the following template when developing the solution. Next, create a instance `q4` and check if the enqueue and dequeue operations are correctly working."
   ]
  },
  {
   "cell_type": "code",
   "execution_count": 97,
   "metadata": {
    "ExecuteTime": {
     "end_time": "2022-03-28T23:29:22.345970Z",
     "start_time": "2022-03-28T23:29:22.329287Z"
    },
    "deletable": false,
    "nbgrader": {
     "cell_type": "code",
     "checksum": "c24bdf0686eb7ea5dd18e31d90eb1897",
     "grade": false,
     "grade_id": "A4",
     "locked": false,
     "schema_version": 3,
     "solution": true,
     "task": false
    }
   },
   "outputs": [],
   "source": [
    "class Q4Stack(Q3Stack):\n",
    "\n",
    "    def __init__(self):\n",
    "        self.stack = []\n",
    "        \n",
    "\n",
    "    def size(self):\n",
    "        return len(self.stack)\n",
    "    \n",
    "    def peek(self):\n",
    "        return self.stack[0]\n",
    "    \n",
    "    def sort_stack(self):\n",
    "        if self.stack == []:\n",
    "            return\n",
    "        else:\n",
    "            # create a temporary stack\n",
    "            temp_stack = []\n",
    "\n",
    "            # sort the elements in ascending order using the temporary stack\n",
    "            while self.stack:\n",
    "                # pop an element from the original stack\n",
    "                current_element = self.stack.pop()\n",
    "\n",
    "                # move all elements greater than current element from temp stack to original stack\n",
    "                while temp_stack and temp_stack[-1] > current_element:\n",
    "                    self.stack.append(temp_stack.pop())\n",
    "\n",
    "                # push the current element to the temp stack\n",
    "                temp_stack.append(current_element)\n",
    "\n",
    "        # return the sorted stack\n",
    "        return temp_stack\n",
    "        \n",
    "        \n",
    "\n"
   ]
  },
  {
   "cell_type": "code",
   "execution_count": 33,
   "metadata": {},
   "outputs": [
    {
     "data": {
      "text/plain": [
       "[1, 3, 4, 7, 9, 12]"
      ]
     },
     "execution_count": 33,
     "metadata": {},
     "output_type": "execute_result"
    }
   ],
   "source": [
    "# Sample test case\n",
    "\n",
    "q4 = Q4Stack()\n",
    "q4.push(4)\n",
    "q4.push(7)\n",
    "q4.push(9)\n",
    "q4.push(1)\n",
    "q4.push(12)\n",
    "q4.push(3)\n",
    "q4.sort_stack()"
   ]
  },
  {
   "cell_type": "code",
   "execution_count": null,
   "metadata": {
    "ExecuteTime": {
     "end_time": "2022-03-28T23:31:32.251198Z",
     "start_time": "2022-03-28T23:31:32.241222Z"
    },
    "deletable": false,
    "editable": false,
    "nbgrader": {
     "cell_type": "code",
     "checksum": "08a7b020979f0cf3dea6675a7522ebcf",
     "grade": true,
     "grade_id": "test_A4-stackNode",
     "locked": true,
     "points": 10,
     "schema_version": 3,
     "solution": false,
     "task": false
    }
   },
   "outputs": [],
   "source": [
    "# Testing Cell (Do NOT modify this cell)"
   ]
  },
  {
   "cell_type": "markdown",
   "metadata": {},
   "source": [
    "#### Question 5&nbsp;&nbsp;&nbsp;&nbsp;&nbsp;&nbsp;(10 Points)\n",
    "Write a Python program to check if parentheses are balanced using a stack. Use the method `q5_parentheses`, which returns `True` if balanced. Otherwise, `False`. A set of parentheses is balanced if for every opening parenthesis there is a closing and matching parenthesis.  Hence:\n",
    "```python\n",
    "    ({[]})()\n",
    "```\n",
    "is balanced, while:\n",
    "```python\n",
    "    ({[}])\n",
    "```\n",
    "is not.\n"
   ]
  },
  {
   "cell_type": "code",
   "execution_count": 17,
   "metadata": {
    "ExecuteTime": {
     "end_time": "2022-03-28T23:39:29.623205Z",
     "start_time": "2022-03-28T23:39:29.616253Z"
    },
    "deletable": false,
    "nbgrader": {
     "cell_type": "code",
     "checksum": "3d4ad6fedae4fd00afa5b9e1f83d98ad",
     "grade": false,
     "grade_id": "A5",
     "locked": false,
     "schema_version": 3,
     "solution": true,
     "task": false
    }
   },
   "outputs": [],
   "source": [
    "def q5_parentheses(rstring):\n",
    "    stack = []\n",
    "    if not rstring:\n",
    "        return False\n",
    "    else:\n",
    "        lst = list(rstring)\n",
    "\n",
    "        for i in lst:\n",
    "            if i in \"{[(\":\n",
    "                stack.append(i)\n",
    "            elif i in \"}])\":  \n",
    "                if len(stack) == 0:\n",
    "                    return False\n",
    "                else:\n",
    "                    if i == \")\" and stack.pop()!=\"(\" :\n",
    "                        return False\n",
    "                    elif i == \"]\" and stack.pop()!=\"[\" :\n",
    "                        return False\n",
    "                    elif i == \"}\" and stack.pop()!=\"{\" :\n",
    "                        return False\n",
    "\n",
    "        if len(stack) != 0:\n",
    "            return False\n",
    "        else:\n",
    "            return True\n",
    "        \n",
    "        \n",
    "        "
   ]
  },
  {
   "cell_type": "code",
   "execution_count": 99,
   "metadata": {},
   "outputs": [],
   "source": [
    "# sample test cases\n",
    "\n",
    "assert not q5_parentheses (\"{\")\n",
    "assert q5_parentheses (\"{[()]}\")\n",
    "assert not q5_parentheses (\"{[(])}\")"
   ]
  },
  {
   "cell_type": "code",
   "execution_count": null,
   "metadata": {
    "ExecuteTime": {
     "end_time": "2022-03-28T23:35:10.510048Z",
     "start_time": "2022-03-28T23:35:10.504094Z"
    },
    "deletable": false,
    "editable": false,
    "nbgrader": {
     "cell_type": "code",
     "checksum": "7c967496a2bbd5a4896162b95a60528d",
     "grade": true,
     "grade_id": "test_A5-paranthesis",
     "locked": true,
     "points": 10,
     "schema_version": 3,
     "solution": false,
     "task": false
    }
   },
   "outputs": [],
   "source": [
    "# Testing Cell (Do NOT modify this cell)"
   ]
  },
  {
   "cell_type": "markdown",
   "metadata": {},
   "source": [
    "#### Question 6&nbsp;&nbsp;&nbsp;&nbsp;&nbsp;&nbsp;(10 Points)\n",
    "Write a Python program to check if an expression has duplicate parenthesis or not using stacks. Use the method `q6_duplicate_parentheses`, which returns `True` if it has duplicates. Otherwise, `False`.\n",
    "\n",
    "For example: \n",
    "```python\n",
    "    (((x+(y))+(m+n)))\n",
    "```\n",
    "has duplicate parenthesis since the whole expression is surrounded by two pairs of brackets. While\n",
    "```python\n",
    "    ((x+y)+(m+n))\n",
    "```\n",
    "does not have any duplicate parenthesis since no subsexpression is surrounded by duplicate brackets."
   ]
  },
  {
   "cell_type": "code",
   "execution_count": 20,
   "metadata": {
    "ExecuteTime": {
     "end_time": "2022-03-28T23:48:06.994956Z",
     "start_time": "2022-03-28T23:48:06.983971Z"
    },
    "deletable": false,
    "nbgrader": {
     "cell_type": "code",
     "checksum": "61933801f037d8a8d6a7e022b2971ad2",
     "grade": false,
     "grade_id": "A6",
     "locked": false,
     "schema_version": 3,
     "solution": true,
     "task": false
    }
   },
   "outputs": [],
   "source": [
    "def q6_duplicate_parentheses(dstring):\n",
    "    if q5_parentheses(dstring):#首先你得判断平衡\n",
    "        stack = []\n",
    "        lst = list(dstring)\n",
    "        count_para = 0\n",
    "        for i in lst:\n",
    "            if i in \"(+-\":\n",
    "                stack.append(i)\n",
    "                if i == \"(\":\n",
    "                    count_para += 1 \n",
    "                print(stack)\n",
    "            elif i == \")\" and stack.pop() == \"(\" :\n",
    "                count_para -= 1  #only one pair of parentheses is right,like (a), \n",
    "                if count_para != 0: \n",
    "                    return True\n",
    "            elif i == \")\" and stack.pop() != \"(\" :# like((x+y+z+c)+(m+n)),when we check a \")\" ,\n",
    "                                    #we should find the \"(\" and delete it and the other element between \"(\" and \")\"\n",
    "               \n",
    "                while stack.pop() != \"(\" :\n",
    "                      continue\n",
    "      \n",
    "        return False\n",
    "    else:\n",
    "        print(\"no-balance\")\n",
    "    \n",
    "                    \n",
    "            \n",
    "            "
   ]
  },
  {
   "cell_type": "code",
   "execution_count": 21,
   "metadata": {},
   "outputs": [
    {
     "name": "stdout",
     "output_type": "stream",
     "text": [
      "no-balance\n",
      "None\n"
     ]
    }
   ],
   "source": [
    " print(q6_duplicate_parentheses (\"+++)\"))"
   ]
  },
  {
   "cell_type": "code",
   "execution_count": 82,
   "metadata": {},
   "outputs": [
    {
     "name": "stdout",
     "output_type": "stream",
     "text": [
      "['(']\n",
      "['(']\n",
      "['(', '(']\n",
      "['(', '(', '(']\n",
      "['(', '(', '(', '+']\n",
      "['(', '(', '(', '+', '(']\n",
      "['(']\n",
      "['(', '(']\n",
      "['(', '(', '+']\n",
      "['(', '+']\n",
      "['(', '+', '(']\n",
      "['(', '+', '(', '+']\n"
     ]
    }
   ],
   "source": [
    "# Sample test cases\n",
    "\n",
    "assert not q6_duplicate_parentheses (\"(a)\")\n",
    "assert q6_duplicate_parentheses (\"(((x+(y))+(m+n)))\")\n",
    "assert not q6_duplicate_parentheses (\"((x+y)+(m+n))\")"
   ]
  },
  {
   "cell_type": "code",
   "execution_count": null,
   "metadata": {
    "ExecuteTime": {
     "end_time": "2022-03-28T23:48:11.530251Z",
     "start_time": "2022-03-28T23:48:11.519274Z"
    },
    "deletable": false,
    "editable": false,
    "nbgrader": {
     "cell_type": "code",
     "checksum": "506cf28ea489c5d501a6f7d5ab4333e0",
     "grade": true,
     "grade_id": "test_A6-paranthesis",
     "locked": true,
     "points": 10,
     "schema_version": 3,
     "solution": false,
     "task": false
    }
   },
   "outputs": [],
   "source": [
    "# Testing Cell (Do NOT modify this cell)"
   ]
  },
  {
   "cell_type": "markdown",
   "metadata": {},
   "source": [
    "#### Question 7&nbsp;&nbsp;&nbsp;&nbsp;&nbsp;&nbsp;(10 Points) \n",
    "Write a Python program to to check if parentheses are balanced using a queue. Use the method `q7_balanced`, which returns `True` if balanced. Otherwise, `False`. Parentheses are balanced when for every opening parenthesis, there is an appropriately placed closing parenthesis. Hence:\n",
    "```python\n",
    "    ({[]})()\n",
    "```\n",
    "is balanced, while:\n",
    "```python\n",
    "    ({[}])\n",
    "```\n",
    "is not."
   ]
  },
  {
   "cell_type": "code",
   "execution_count": 24,
   "metadata": {
    "ExecuteTime": {
     "end_time": "2022-03-29T00:40:03.117011Z",
     "start_time": "2022-03-29T00:40:03.102599Z"
    },
    "deletable": false,
    "nbgrader": {
     "cell_type": "code",
     "checksum": "eea671e6e40d128259853f73670ecdfb",
     "grade": false,
     "grade_id": "A7",
     "locked": false,
     "schema_version": 3,
     "solution": true,
     "task": false
    }
   },
   "outputs": [],
   "source": [
    "def q7_balanced (expression):\n",
    "    queue = []\n",
    "    lst =list(expression)\n",
    "    for i in lst:\n",
    "        if i in \"[{(\":\n",
    "            queue.append(i)\n",
    "\n",
    "        elif i in \"}])\": \n",
    "            if len(queue) == 0:\n",
    "                return False\n",
    "            else:\n",
    "                if i == \")\" and queue[-1] != \"(\" :\n",
    "                    return False\n",
    "                elif i == \"[\" and queue[-1] != \"]\" :\n",
    "                    return False\n",
    "                elif i == \"{\" and queue[-1] != \"}\" :  #queue的操作是可以查看特定位置的值\n",
    "                    return False\n",
    "                else:\n",
    "                    l = len(queue)\n",
    "                    queue_temp = []\n",
    "                    for i in range(l-1):  #通过循环就将队末的值去掉\n",
    "                        queue_temp.append(queue.pop(0))\n",
    "                    queue = queue_temp\n",
    "    if len(queue) != 0:\n",
    "        return False\n",
    "    else:\n",
    "        return True\n"
   ]
  },
  {
   "cell_type": "code",
   "execution_count": 23,
   "metadata": {},
   "outputs": [
    {
     "name": "stdout",
     "output_type": "stream",
     "text": [
      "False\n"
     ]
    },
    {
     "ename": "AssertionError",
     "evalue": "",
     "output_type": "error",
     "traceback": [
      "\u001b[1;31m---------------------------------------------------------------------------\u001b[0m",
      "\u001b[1;31mAssertionError\u001b[0m                            Traceback (most recent call last)",
      "Input \u001b[1;32mIn [23]\u001b[0m, in \u001b[0;36m<cell line: 4>\u001b[1;34m()\u001b[0m\n\u001b[0;32m      2\u001b[0m \u001b[38;5;28mprint\u001b[39m(q7_balanced (\u001b[38;5;124m\"\u001b[39m\u001b[38;5;124m(\u001b[39m\u001b[38;5;124m{\u001b[39m\u001b[38;5;124m[]})[()\u001b[39m\u001b[38;5;124m\"\u001b[39m))\n\u001b[0;32m      3\u001b[0m \u001b[38;5;28;01massert\u001b[39;00m q7_balanced (\u001b[38;5;124m\"\u001b[39m\u001b[38;5;124m(a)\u001b[39m\u001b[38;5;124m\"\u001b[39m)\n\u001b[1;32m----> 4\u001b[0m \u001b[38;5;28;01massert\u001b[39;00m q7_balanced (\u001b[38;5;124m\"\u001b[39m\u001b[38;5;124m(\u001b[39m\u001b[38;5;124m{\u001b[39m\u001b[38;5;124m[]})()\u001b[39m\u001b[38;5;124m\"\u001b[39m)\n\u001b[0;32m      5\u001b[0m \u001b[38;5;28;01massert\u001b[39;00m \u001b[38;5;129;01mnot\u001b[39;00m q7_balanced (\u001b[38;5;124m\"\u001b[39m\u001b[38;5;124m((())\u001b[39m\u001b[38;5;124m\"\u001b[39m)\n\u001b[0;32m      6\u001b[0m \u001b[38;5;28;01massert\u001b[39;00m q7_balanced (\u001b[38;5;124m\"\u001b[39m\u001b[38;5;124m((x+y)+(m+n))\u001b[39m\u001b[38;5;124m\"\u001b[39m)\n",
      "\u001b[1;31mAssertionError\u001b[0m: "
     ]
    }
   ],
   "source": [
    "# Sample test cases\n",
    "print(q7_balanced (\"({[]})[()\"))\n",
    "assert q7_balanced (\"(a)\")\n",
    "assert q7_balanced (\"({[]})()\")\n",
    "assert not q7_balanced (\"((())\")\n",
    "assert q7_balanced (\"((x+y)+(m+n))\")"
   ]
  },
  {
   "cell_type": "code",
   "execution_count": null,
   "metadata": {
    "ExecuteTime": {
     "end_time": "2022-03-29T00:14:59.668116Z",
     "start_time": "2022-03-29T00:14:59.654644Z"
    },
    "deletable": false,
    "editable": false,
    "nbgrader": {
     "cell_type": "code",
     "checksum": "53635cafeb8086883e10e3422eb9fe47",
     "grade": true,
     "grade_id": "test_A7-expression",
     "locked": true,
     "points": 10,
     "schema_version": 3,
     "solution": false,
     "task": false
    }
   },
   "outputs": [],
   "source": [
    "# Testing Cell (Do NOT modify this cell)"
   ]
  },
  {
   "cell_type": "markdown",
   "metadata": {},
   "source": [
    "#### Question 8&nbsp;&nbsp;&nbsp;&nbsp;&nbsp;&nbsp;(10 Points) \n",
    "Using the `queue` class from the `Queue` module, write a function `q8_sortqueue` to sort a queue of integers without using any other interim data structure. The function should return the sorted queue as a list. The queue is essentially to be sorted \"in-place\".\n",
    "\n",
    "Create a queue with the elements 30, 11, 15 and assign it to the variable `q8`. Use `q8_sortqueue(q8)` to check if the method is correctly working."
   ]
  },
  {
   "cell_type": "code",
   "execution_count": 132,
   "metadata": {
    "ExecuteTime": {
     "end_time": "2022-03-29T00:51:11.957562Z",
     "start_time": "2022-03-29T00:51:11.942572Z"
    },
    "deletable": false,
    "nbgrader": {
     "cell_type": "code",
     "checksum": "e89d874bd7513e35fb845a901b130574",
     "grade": false,
     "grade_id": "A8",
     "locked": false,
     "schema_version": 3,
     "solution": true,
     "task": false
    }
   },
   "outputs": [],
   "source": [
    "from queue import Queue\n",
    "\n",
    "def q8_sortqueue(q):\n",
    "\n",
    "# Check if the queue is empty or contains only one element\n",
    "    if q.empty() or q.qsize() == 1:\n",
    "        return list(q.queue)\n",
    "\n",
    "    # Initialize variables\n",
    "    length = q.qsize()\n",
    "    last = length - 1\n",
    "\n",
    "    # Bubble sort the queue\n",
    "    for i in range(length):\n",
    "        for j in range(last):\n",
    "            current = q.get()\n",
    "            if current > q.queue[0]:\n",
    "                current, q.queue[0] = q.queue[0], current\n",
    "            q.put(current)\n",
    "        last -= 1\n",
    "        \n",
    "    return list(q.queue)\n",
    "\n"
   ]
  },
  {
   "cell_type": "code",
   "execution_count": 133,
   "metadata": {},
   "outputs": [
    {
     "data": {
      "text/plain": [
       "[30, 15, 11]"
      ]
     },
     "execution_count": 133,
     "metadata": {},
     "output_type": "execute_result"
    }
   ],
   "source": [
    "# Sample test case\n",
    "\n",
    "q8 = Queue()\n",
    "q8.put(30)\n",
    "q8.put(11)\n",
    "q8.put(15)\n",
    "q8_sortqueue(q8)"
   ]
  },
  {
   "cell_type": "code",
   "execution_count": null,
   "metadata": {
    "ExecuteTime": {
     "end_time": "2022-03-29T00:44:15.950238Z",
     "start_time": "2022-03-29T00:44:15.933283Z"
    },
    "deletable": false,
    "editable": false,
    "nbgrader": {
     "cell_type": "code",
     "checksum": "28ac9be8302bff52e63e3788d6792b3a",
     "grade": true,
     "grade_id": "test_A8-shortQueue",
     "locked": true,
     "points": 10,
     "schema_version": 3,
     "solution": false,
     "task": false
    }
   },
   "outputs": [],
   "source": [
    "# Testing Cell (Do NOT modify this cell)"
   ]
  },
  {
   "cell_type": "markdown",
   "metadata": {},
   "source": [
    "#### Question 9&nbsp;&nbsp;&nbsp;&nbsp;&nbsp;&nbsp;(10 Points)\n",
    "Write a function, `q9_reversequeue`, to **reverse** the elements in a `queue.Queue`. The elements of the reversed queue should be returned as a list. Create a queue with the elements 1, 2, 3, 4, 5 and assign it to the variable `q9`. Use `q9_reversequeue(q9)` to check if the method is correctly working."
   ]
  },
  {
   "cell_type": "code",
   "execution_count": 126,
   "metadata": {
    "ExecuteTime": {
     "end_time": "2022-03-29T00:54:49.136543Z",
     "start_time": "2022-03-29T00:54:49.117557Z"
    },
    "deletable": false,
    "nbgrader": {
     "cell_type": "code",
     "checksum": "ed9aa4a7e057208c804bd15a9eac17ac",
     "grade": false,
     "grade_id": "A9",
     "locked": false,
     "schema_version": 3,
     "solution": true,
     "task": false
    }
   },
   "outputs": [],
   "source": [
    "from queue import Queue\n",
    "\n",
    "def q9_reversequeue(queue):\n",
    "    q = queue\n",
    "    reverse_list = []\n",
    "    while not q.empty():\n",
    "        reverse_list.insert(0,q.get()) \n",
    "        \n",
    "    return reverse_list\n",
    "\n",
    "\n"
   ]
  },
  {
   "cell_type": "code",
   "execution_count": 127,
   "metadata": {},
   "outputs": [
    {
     "name": "stdout",
     "output_type": "stream",
     "text": [
      "[5, 4, 3, 2, 1]\n"
     ]
    }
   ],
   "source": [
    "# Sample test case\n",
    "\n",
    "q9 = Queue()\n",
    "q9.put(1)\n",
    "q9.put(2)\n",
    "q9.put(3)\n",
    "q9.put(4)\n",
    "q9.put(5)\n",
    "q9_reversequeue(q9)\n",
    "print(q9_reversequeue(q9))"
   ]
  },
  {
   "cell_type": "code",
   "execution_count": null,
   "metadata": {
    "ExecuteTime": {
     "end_time": "2022-03-29T00:52:31.001297Z",
     "start_time": "2022-03-29T00:52:30.997308Z"
    },
    "deletable": false,
    "editable": false,
    "nbgrader": {
     "cell_type": "code",
     "checksum": "be44ade7b49c05fa1784c4b84c5e9360",
     "grade": true,
     "grade_id": "test_A9-reverseQueue",
     "locked": true,
     "points": 10,
     "schema_version": 3,
     "solution": false,
     "task": false
    }
   },
   "outputs": [],
   "source": [
    "# Testing Cell (Do NOT modify this cell)"
   ]
  },
  {
   "cell_type": "markdown",
   "metadata": {},
   "source": [
    "#### Question 10&nbsp;&nbsp;&nbsp;&nbsp;&nbsp;&nbsp;(10 Points)\n",
    "Write a Python function, `q10_is_palindrome`, to check if a sequence of characters is a [palindrome](https://en.wikipedia.org/wiki/Palindrome) by using a Stack **and** a Queue. In comparing characters, all whitespace and the case of the characters should be ignored - however, puncatuation should be considered. For example:\n",
    "```python\n",
    "   \"Live on time, emit no evil\"\n",
    "```\n",
    "is a palindrome, while:\n",
    "```python\n",
    "    \"Was it a car or a cat I saw?\"\n",
    "```\n",
    "is not because of the unbalanced `'?'` at the end.\n",
    "\n",
    "If the input string is a palindrome, return `True`. Otherwise, `False`."
   ]
  },
  {
   "cell_type": "code",
   "execution_count": 130,
   "metadata": {
    "ExecuteTime": {
     "end_time": "2022-03-29T01:18:35.258063Z",
     "start_time": "2022-03-29T01:18:35.236899Z"
    },
    "deletable": false,
    "nbgrader": {
     "cell_type": "code",
     "checksum": "5ddc13dbc88e1d1c9ed82f643366085a",
     "grade": false,
     "grade_id": "A10",
     "locked": false,
     "schema_version": 3,
     "solution": true,
     "task": false
    }
   },
   "outputs": [
    {
     "data": {
      "text/plain": [
       "True"
      ]
     },
     "execution_count": 130,
     "metadata": {},
     "output_type": "execute_result"
    }
   ],
   "source": [
    "def q10_is_palindrome(sequence):\n",
    "    if not len(sequence):\n",
    "        return False\n",
    "    else:\n",
    "        sequence = sequence.replace(\" \",\"\").lower()\n",
    "        stack = []\n",
    "        queue = []\n",
    "        for i in list(sequence):\n",
    "            stack.append(i)\n",
    "            queue.append(i)\n",
    "        for i in range(len(sequence)):\n",
    "            if stack.pop() == queue.pop(0):\n",
    "                return True\n",
    "            else:\n",
    "                return False\n",
    "\n",
    "#q10_is_palindrome (\"Step on no pets\")"
   ]
  },
  {
   "cell_type": "code",
   "execution_count": 131,
   "metadata": {},
   "outputs": [],
   "source": [
    "# Sample test cases\n",
    "\n",
    "assert q10_is_palindrome (\"Step on no pets\")\n",
    "assert q10_is_palindrome(\"No x in Nixon\")\n",
    "assert not q10_is_palindrome(\"Was it a car or a cat I saw?\") # note the '?'\n",
    "assert q10_is_palindrome (\"Live on time, emit no evil\")"
   ]
  },
  {
   "cell_type": "code",
   "execution_count": null,
   "metadata": {
    "ExecuteTime": {
     "end_time": "2022-03-29T01:16:06.709957Z",
     "start_time": "2022-03-29T01:16:06.707452Z"
    },
    "deletable": false,
    "editable": false,
    "nbgrader": {
     "cell_type": "code",
     "checksum": "aeedcc397247fb63216c9fe454487e0f",
     "grade": true,
     "grade_id": "test_A11-stacks",
     "locked": true,
     "points": 10,
     "schema_version": 3,
     "solution": false,
     "task": false
    }
   },
   "outputs": [],
   "source": [
    "# Testing Cell (Do NOT modify this cell)"
   ]
  }
 ],
 "metadata": {
  "hide_input": false,
  "kernelspec": {
   "display_name": "Python 3 (ipykernel)",
   "language": "python",
   "name": "python3"
  },
  "language_info": {
   "codemirror_mode": {
    "name": "ipython",
    "version": 3
   },
   "file_extension": ".py",
   "mimetype": "text/x-python",
   "name": "python",
   "nbconvert_exporter": "python",
   "pygments_lexer": "ipython3",
   "version": "3.9.12"
  },
  "nbTranslate": {
   "displayLangs": [
    "*"
   ],
   "hotkey": "alt-t",
   "langInMainMenu": true,
   "sourceLang": "en",
   "targetLang": "fr",
   "useGoogleTranslate": true
  },
  "toc": {
   "base_numbering": 1,
   "nav_menu": {},
   "number_sections": true,
   "sideBar": true,
   "skip_h1_title": false,
   "title_cell": "Table of Contents",
   "title_sidebar": "Contents",
   "toc_cell": false,
   "toc_position": {},
   "toc_section_display": true,
   "toc_window_display": false
  },
  "varInspector": {
   "cols": {
    "lenName": 16,
    "lenType": 16,
    "lenVar": 40
   },
   "kernels_config": {
    "python": {
     "delete_cmd_postfix": "",
     "delete_cmd_prefix": "del ",
     "library": "var_list.py",
     "varRefreshCmd": "print(var_dic_list())"
    },
    "r": {
     "delete_cmd_postfix": ") ",
     "delete_cmd_prefix": "rm(",
     "library": "var_list.r",
     "varRefreshCmd": "cat(var_dic_list()) "
    }
   },
   "types_to_exclude": [
    "module",
    "function",
    "builtin_function_or_method",
    "instance",
    "_Feature"
   ],
   "window_display": false
  }
 },
 "nbformat": 4,
 "nbformat_minor": 4
}
