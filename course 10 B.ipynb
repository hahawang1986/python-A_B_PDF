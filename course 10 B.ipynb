{
 "cells": [
  {
   "cell_type": "code",
   "execution_count": null,
   "id": "909b4fa1",
   "metadata": {},
   "outputs": [],
   "source": [
    "  1 2 3 4 5\n",
    "1 0 2 0 5 0\n",
    "2 0 0 1 0 0\n",
    "3 0 0 0 3 0\n",
    "4 0 0 0 0 4\n",
    "5 0 0 0 0 0\n",
    "第一行表示从顶点1指向其他顶点的边的权重，\n",
    "第二行表示从顶点2指向其他顶点的边的权重，\n",
    "依此类推。例如，第1行第2列的元素为2，表示从顶点1指向顶点2的边的权重为2。\n"
   ]
  },
  {
   "cell_type": "code",
   "execution_count": 6,
   "id": "24796881",
   "metadata": {},
   "outputs": [
    {
     "name": "stdout",
     "output_type": "stream",
     "text": [
      "<class 'list'>\n",
      "id: a, adjacent: ['b', 'e']\n",
      "id: b, adjacent: ['a', 'c', 'd']\n",
      "id: c, adjacent: ['b', 'd']\n",
      "id: d, adjacent: ['c', 'b', 'd', 'e']\n",
      "id: e, adjacent: ['d', 'a']\n",
      "id: f, adjacent: []\n",
      "('a', 'e')\n",
      "('a', 'b')\n",
      "('b', 'c')\n",
      "('b', 'd')\n",
      "('c', 'd')\n",
      "('d', 'e')\n",
      "('d', 'd')\n"
     ]
    },
    {
     "data": {
      "text/plain": [
       "{('a', 'b'),\n",
       " ('a', 'e'),\n",
       " ('b', 'c'),\n",
       " ('b', 'd'),\n",
       " ('c', 'd'),\n",
       " ('d', 'd'),\n",
       " ('d', 'e')}"
      ]
     },
     "execution_count": 6,
     "metadata": {},
     "output_type": "execute_result"
    }
   ],
   "source": [
    "graph = dict()\n",
    "graph['a'] = ['b', 'e']\n",
    "graph['b'] = ['a', 'c', 'd']\n",
    "graph['c'] = ['b', 'd']\n",
    "graph['d'] = ['e', 'd', 'b', 'c']\n",
    "graph['e'] = ['a', 'd']\n",
    "\n",
    "class Vertex:\n",
    "\n",
    "    def __init__(self, vertex_id):\n",
    "        self.id = vertex_id\n",
    "        self.adjacent = {}\n",
    "        \n",
    "    def __str__(self):\n",
    "        return 'id: ' + str(self.id) + ', adjacent: ' + str([x.id for x in self.adjacent.values()])\n",
    "\n",
    "    def add_neighbour(self, neighbour): #neighbour是aggregation\n",
    "        self.adjacent[neighbour.id] = neighbour\n",
    "\n",
    "    def get_connections(self):\n",
    "        return list(self.adjacent.values() ) \n",
    "\n",
    "    def get_id(self):\n",
    "        return self.id\n",
    "    \n",
    "    def get_edge_set(self):\n",
    "        \"\"\"\n",
    "        Returns a set of vertex id's in an undirected graph as tuples\n",
    "        like (v1, v2) for all edges in the graph.\n",
    "        \"\"\"\n",
    "        edge_set = set()\n",
    "        for neighbour in self.adjacent.values():\n",
    "            if self.id <= neighbour.id:\n",
    "                edge_set.add((self.id, neighbour.id))\n",
    "        return edge_set\n",
    "V1 = Vertex(\"a\")\n",
    "V2 = Vertex(\"b\")\n",
    "V3 = Vertex(\"c\")\n",
    "\n",
    "V1.add_neighbour(V2)\n",
    "print(type(V1.get_connections()))\n",
    "#dict.values() 返回的确实是一个值视图，而不是一个列表。它类似于列表，因为它可以被迭代，但是它不是一个列表对象，所以不支持列表的所有方法\n",
    "# print(V1)\n",
    "# V1.get_id()\n",
    "\n",
    "class Graph:\n",
    "    \n",
    "    def __init__(self, vertices = []):\n",
    "        self.vertex_dict = {}\n",
    "        for vid in vertices:\n",
    "            self.add_vertex(vid)\n",
    "        \n",
    "    def print_graph(self):\n",
    "        for v in self.vertex_dict.values():\n",
    "            print (v)\n",
    "\n",
    "    def add_vertex(self, vertex_id):\n",
    "        v = Vertex(vertex_id)\n",
    "        self.vertex_dict[vertex_id] = v\n",
    "        return v\n",
    "    \n",
    "    def get_vertex(self, vertex_id):\n",
    "        return self.vertex_dict[vertex_id]\n",
    "\n",
    "    def get_vertex_dict (self):\n",
    "        return self.vertex_dict\n",
    "    \n",
    "    def add_edge (self, v1, v2):\n",
    "        v1.add_neighbour (v2)\n",
    "        v2.add_neighbour (v1)\n",
    "    \n",
    "    def get_edge_set(self):\n",
    "        \"\"\"\n",
    "        Returns a set of vertex id's in an undirected graph as tuples\n",
    "        like (v1, v2) for all edges in the graph.\n",
    "        \"\"\"\n",
    "        edge_set = set()\n",
    "        for v in self.vertex_dict.values():\n",
    "            for edge in v.get_edge_set():\n",
    "                print(edge)\n",
    "                edge_set.add(edge)\n",
    "        return edge_set\n",
    "        \n",
    "# 在无向图中，两个节点之间的连线被称为一条边，因此通过将一个节点添加为另一个节点的相邻节点，\n",
    "# 相当于在这两个节点之间添加了一条无向边。在这个类中，\n",
    "# add_neighbour方法实际上是将另一个节点作为当前节点的相邻节点添加到当前节点的相邻节点字典中，\n",
    "# 也就是添加了一条从当前节点指向另一个节点的边。\n",
    "\n",
    "# 至于Graph类，它的作用是将所有节点（Vertex对象）集合在一起，从而构成一个无向图。\n",
    "# 它提供了方法来添加节点、添加边、获取节点等，从而可以方便地构建和操作图。\n",
    "# 通过在Graph对象中保存所有节点，我们可以轻松地遍历整个图，并找到任意节点的相邻节点。\n",
    "\n",
    "g = Graph()\n",
    "va = g.add_vertex('a')\n",
    "vb = g.add_vertex('b')\n",
    "vc = g.add_vertex('c')\n",
    "vd = g.add_vertex('d')\n",
    "ve = g.add_vertex('e')\n",
    "\n",
    "# Add isolated vertex\n",
    "vf = g.add_vertex('f')\n",
    "\n",
    "g.add_edge (va, vb)\n",
    "g.add_edge (vb, vc)\n",
    "g.add_edge (vc, vd)\n",
    "g.add_edge (vb, vd)\n",
    "g.add_edge (vd, vd)\n",
    "g.add_edge (vd, ve)\n",
    "g.add_edge (va, ve)\n",
    "\n",
    "g.print_graph()\n",
    "g.get_edge_set()"
   ]
  },
  {
   "cell_type": "code",
   "execution_count": 24,
   "id": "bb2f395f",
   "metadata": {},
   "outputs": [
    {
     "data": {
      "image/png": "[encoded data removed]",
      "text/plain": [
       "<Figure size 432x288 with 1 Axes>"
      ]
     },
     "metadata": {},
     "output_type": "display_data"
    }
   ],
   "source": [
    "import networkx as nx\n",
    "\n",
    "g = nx.Graph()\n",
    "g.add_nodes_from(['A', 'B', 'C', 'D', 'E'])\n",
    "g.add_edges_from([('A', 'B'), ('B', 'E'), ('B', 'C'), ('E', 'C'), ('C', 'D')])\n",
    "nx.draw_networkx(g, with_labels = True, font_color = 'white', \\\n",
    "                 font_weight = 'bold', font_size = 14, node_size = 700)"
   ]
  },
  {
   "cell_type": "code",
   "execution_count": 1,
   "id": "a5180533",
   "metadata": {},
   "outputs": [
    {
     "data": {
      "image/png": "[encoded data removed]",
      "text/plain": [
       "<Figure size 432x288 with 1 Axes>"
      ]
     },
     "metadata": {},
     "output_type": "display_data"
    }
   ],
   "source": [
    "import networkx as nx\n",
    "import matplotlib.pyplot as plt\n",
    "G = nx.DiGraph()\n",
    "G.add_node(\"A\")\n",
    "G.add_node(\"B\")\n",
    "G.add_node(\"C\")\n",
    "G.add_edge(\"A\", \"B\", weight=4)\n",
    "G.add_edge(\"B\", \"C\", weight=2)\n",
    "G.add_edge(\"C\", \"A\", weight=1)\n",
    "pos = nx.spring_layout(G)\n",
    "nx.draw(G, pos, with_labels=True)\n",
    "labels = nx.get_edge_attributes(G, \"weight\")\n",
    "nx.draw_networkx_edge_labels(G, pos, edge_labels=labels)\n",
    "plt.show()\n"
   ]
  }
 ],
 "metadata": {
  "kernelspec": {
   "display_name": "Python 3 (ipykernel)",
   "language": "python",
   "name": "python3"
  },
  "language_info": {
   "codemirror_mode": {
    "name": "ipython",
    "version": 3
   },
   "file_extension": ".py",
   "mimetype": "text/x-python",
   "name": "python",
   "nbconvert_exporter": "python",
   "pygments_lexer": "ipython3",
   "version": "3.9.12"
  }
 },
 "nbformat": 4,
 "nbformat_minor": 5
}
