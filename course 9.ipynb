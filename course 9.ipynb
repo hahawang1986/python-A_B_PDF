{
 "cells": [
  {
   "cell_type": "code",
   "execution_count": 3,
   "id": "72b1f759",
   "metadata": {},
   "outputs": [],
   "source": [
    "def linear_search(lst,item):\n",
    "    index = 0\n",
    "    found = False\n",
    "    while not found and index <len(lst):\n",
    "        if lst[index] == items:\n",
    "            found = True\n",
    "        else:\n",
    "            index+=1\n",
    "    return index, found"
   ]
  },
  {
   "cell_type": "code",
   "execution_count": 4,
   "id": "53a66786",
   "metadata": {},
   "outputs": [
    {
     "data": {
      "text/plain": [
       "(True, 6)"
      ]
     },
     "execution_count": 4,
     "metadata": {},
     "output_type": "execute_result"
    }
   ],
   "source": [
    "def binary_search(slist, low, high, match):\n",
    "\n",
    " \n",
    "    # Check base case\n",
    "    if high >= low:\n",
    " \n",
    "        mid = (high + low) // 2\n",
    " \n",
    "        # If element is present at the middle itself\n",
    "        if slist[mid] == match:\n",
    "            return True, mid\n",
    " \n",
    "        # If element is smaller than mid, then it can only\n",
    "        # be present in left subslist\n",
    "        elif slist[mid] > match:\n",
    "            return binary_search(slist, low, mid - 1, match)\n",
    " \n",
    "        # Else the element can only be present in right sublist\n",
    "        else:\n",
    "            return binary_search(slist, mid + 1, high, match)\n",
    " \n",
    "    else:\n",
    "        # Element is not present in the list\n",
    "        return False, -1\n",
    "    \n",
    "a = [1,2,3,4,5,6,7,8]\n",
    "binary_search(a, 0, len(a)-1, 7)"
   ]
  },
  {
   "cell_type": "code",
   "execution_count": 4,
   "id": "9ce797c4",
   "metadata": {},
   "outputs": [
    {
     "data": {
      "text/plain": [
       "(True, 6)"
      ]
     },
     "execution_count": 4,
     "metadata": {},
     "output_type": "execute_result"
    }
   ],
   "source": [
    "def binary_search(lst,low,high,item):\n",
    "    if low <= high:\n",
    "        mid = (low+high)//2\n",
    "        if lst[mid] == item:\n",
    "            return True, mid\n",
    "        else:\n",
    "            if lst[mid] > item:\n",
    "                return binary_search(lst,low,mid-1,item)\n",
    "               \n",
    "            else:\n",
    "                 return binary_search(lst,mid+1,high,item)\n",
    "    else:\n",
    "        return False, -1\n",
    "    \n",
    "a = [1,2,3,4,5,6,7,8]\n",
    "binary_search(a, 0, len(a)-1, 7)"
   ]
  },
  {
   "cell_type": "code",
   "execution_count": 10,
   "id": "edd0039a",
   "metadata": {},
   "outputs": [
    {
     "data": {
      "text/plain": [
       "(True, 2)"
      ]
     },
     "execution_count": 10,
     "metadata": {},
     "output_type": "execute_result"
    }
   ],
   "source": [
    "#参数里不放入low和high\n",
    "def weighted_binary_search (or_list, match):\n",
    "    low = 0\n",
    "    high = len(or_list)-1\n",
    "        \n",
    "    while low <= high:\n",
    "        mid = (low+high)//2\n",
    "        if or_list[mid] > match:\n",
    "            high = mid -1\n",
    "        elif or_list[mid] < match:\n",
    "            low = mid + 1\n",
    "        else:\n",
    "            return match * mid\n",
    "    return False    \n",
    "\n",
    "#参数里不放入low和high,只能检测出有没有匹配项，位置找不出来，可以用tuple将原始的值跟位置配对\n",
    "def weighted_binary_search (lst, match):\n",
    "    low = 0\n",
    "    high = len(lst)-1\n",
    "        \n",
    "    while low <= high:\n",
    "        mid = (low+high)//2\n",
    "        if lst[mid] == match:\n",
    "            return True, mid\n",
    "        else: \n",
    "            if lst[mid] > match:\n",
    "                return weighted_binary_search(lst[low:mid],match)\n",
    "            else:\n",
    "                return weighted_binary_search(lst[mid:],match)\n",
    "    return False   \n",
    "\n",
    "a = [1,2,3,4,5,6,7,8]\n",
    "weighted_binary_search(a, 6)  "
   ]
  },
  {
   "cell_type": "code",
   "execution_count": 2,
   "id": "c18326c0",
   "metadata": {},
   "outputs": [
    {
     "data": {
      "text/plain": [
       "4"
      ]
     },
     "execution_count": 2,
     "metadata": {},
     "output_type": "execute_result"
    }
   ],
   "source": [
    " def interpolation_search(arr, match):\n",
    "        low = 0\n",
    "        high = len(arr) - 1\n",
    "\n",
    "        while arr[low]!=arr[high] and match >= arr[low] and match <= arr[high]: #避免arr[low]!=arr[high]\n",
    "            #arr[low]!=arr[high]是用来避免除以0的情况出现\n",
    "            mid = low+(high-low)*(match-arr[low])//(arr[high]-arr[low])\n",
    "            if arr[mid] > match:\n",
    "                high = mid - 1\n",
    "            elif arr[mid] < match:\n",
    "                low = mid +1\n",
    "            else:\n",
    "                return mid\n",
    "        if arr[low] == match: \n",
    "        #个人认为这是arr[low]==arr[high] 条件下，即data都是相同值，判断match是不是跟arr相等\n",
    "            return low\n",
    "        else:\n",
    "            return False, -1\n",
    "\n",
    "\n",
    "a = [1,2,3,3,5,6,7,8]\n",
    "interpolation_search(a,5)\n",
    "\n",
    "\n"
   ]
  },
  {
   "cell_type": "code",
   "execution_count": 19,
   "id": "5e56f775",
   "metadata": {},
   "outputs": [
    {
     "data": {
      "text/plain": [
       "6"
      ]
     },
     "execution_count": 19,
     "metadata": {},
     "output_type": "execute_result"
    }
   ],
   "source": [
    "import math\n",
    "\n",
    "def jump_search(arr, target):\n",
    "    block_size = int(math.sqrt(len(arr)))   # 确定块大小\n",
    "    left, right = 0, block_size            # 初始时，left指向块的第一个元素，right指向块的最后一个元素\n",
    "\n",
    "    # 查找块\n",
    "    while right < len(arr) and arr[right] < target:\n",
    "        left = right + 1\n",
    "        right += block_size\n",
    "\n",
    "    # 线性搜索\n",
    "    for i in range(left, min(right + 1, len(arr))):\n",
    "        if arr[i] == target:\n",
    "            return i\n",
    "\n",
    "    return -1   # 未找到目标元素\n",
    "\n",
    "a = [1,2,3,4,5,6,7,8]\n",
    "jump_search(a,7)"
   ]
  },
  {
   "cell_type": "code",
   "execution_count": 24,
   "id": "5fb83770",
   "metadata": {},
   "outputs": [
    {
     "data": {
      "text/plain": [
       "(True, 0)"
      ]
     },
     "execution_count": 24,
     "metadata": {},
     "output_type": "execute_result"
    }
   ],
   "source": [
    "import math\n",
    "def jump_sort(lst,match):\n",
    "    block_size = int(math.sqrt(len(lst)))\n",
    "    left = 0\n",
    "    right = block_size\n",
    "    #以下while条件 right < len(lst)必须放在前面，不然某些情况下\n",
    "    #会有错误，参看assignment 第三题的第二个while。\n",
    "    while right < len(lst) and lst[right] < match:\n",
    "        left  = right\n",
    "        right += block_size\n",
    "        \n",
    "    for i in range(left,min(len(lst),right+1)):\n",
    "        if lst[i] == match:\n",
    "            return True, i\n",
    "    return False, -1\n",
    "        \n",
    "a = [1,2,3,4,5,6,7,8]\n",
    "jump_sort(a,1)"
   ]
  }
 ],
 "metadata": {
  "kernelspec": {
   "display_name": "Python 3 (ipykernel)",
   "language": "python",
   "name": "python3"
  },
  "language_info": {
   "codemirror_mode": {
    "name": "ipython",
    "version": 3
   },
   "file_extension": ".py",
   "mimetype": "text/x-python",
   "name": "python",
   "nbconvert_exporter": "python",
   "pygments_lexer": "ipython3",
   "version": "3.9.12"
  }
 },
 "nbformat": 4,
 "nbformat_minor": 5
}
