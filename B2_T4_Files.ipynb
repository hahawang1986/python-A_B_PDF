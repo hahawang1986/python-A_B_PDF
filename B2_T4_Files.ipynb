{
 "cells": [
  {
   "cell_type": "markdown",
   "metadata": {},
   "source": [
    "### Instructions:\n",
    "\n",
    "- You can attempt any number of questions and in any order.  \n",
    "  See the assignment page for a description of the hurdle requirement for this assessment.\n",
    "- You may submit your practical for autograding as many times as you like to check on progress, however you will save time by checking and testing your own code before submitting.\n",
    "- Develop and check your answers in the spaces provided.\n",
    "- **Replace** the code `raise NotImplementedError()` with your solution to the question.\n",
    "- Do **NOT** remove any variables other provided markings already provided in the answer spaces.\n",
    "- Do **NOT** make any changes to this notebook outside of the spaces indicated.  \n",
    "  (If you do this, the submission system might not accept your work)\n",
    "\n",
    "### Submitting:\n",
    "\n",
    "1. Before you turn this problem in, make sure everything runs as expected by resetting this notebook.    \n",
    "   (You can do this from the menubar above by selecting `Kernel`&#8594;`Restart Kernel and Run All Cells...`)\n",
    "1. Don't forget to save your notebook after this step.\n",
    "1. Submit your .ipynb file to Gradescope via file upload or GitHub repository.\n",
    "1. You can submit as many times as needed.\n",
    "\n"
   ]
  },
  {
   "cell_type": "markdown",
   "metadata": {},
   "source": [
    "---"
   ]
  },
  {
   "cell_type": "markdown",
   "metadata": {
    "tags": []
   },
   "source": [
    "# <mark style=\"background: #801010; color: #ffffff;\" >B2</mark> Topic 4: Working with Files"
   ]
  },
  {
   "cell_type": "markdown",
   "metadata": {},
   "source": [
    "#### Question 01 &nbsp;&nbsp;&nbsp;&nbsp;&nbsp;&nbsp;(4 Points)\n",
    "\n",
    "Create a Python program to read the file `q1.txt`.\n",
    "\n",
    "Create a string variable `output1` and read the contents of the file to it."
   ]
  },
  {
   "cell_type": "code",
   "execution_count": 56,
   "metadata": {
    "deletable": false,
    "nbgrader": {
     "cell_type": "code",
     "checksum": "59ea011245cce71c48c31e4c91f86ce1",
     "grade": false,
     "grade_id": "q1",
     "locked": false,
     "schema_version": 3,
     "solution": true,
     "task": false
    },
    "tags": []
   },
   "outputs": [],
   "source": [
    "# Write your solution here\n",
    "\n",
    "# YOUR CODE HERE\n",
    "with open(\"q1.txt\",'r') as f:\n",
    "    reader = f.read()\n",
    "    output1 = reader"
   ]
  },
  {
   "cell_type": "code",
   "execution_count": null,
   "metadata": {
    "deletable": false,
    "editable": false,
    "nbgrader": {
     "cell_type": "code",
     "checksum": "0696204ac42efc56025e8f3805f810fa",
     "grade": true,
     "grade_id": "q1-1",
     "locked": true,
     "points": 4,
     "schema_version": 3,
     "solution": false,
     "task": false
    },
    "tags": []
   },
   "outputs": [],
   "source": [
    "# Testing Cell (Do NOT modify this cell)"
   ]
  },
  {
   "cell_type": "markdown",
   "metadata": {},
   "source": [
    "#### Question 02 &nbsp;&nbsp;&nbsp;&nbsp;&nbsp;&nbsp;(4 Points)\n",
    "\n",
    "Create a Python program to read the first line of the file `q2.txt`.\n",
    "\n",
    "Create a string variable `output2` and assign the solution to it."
   ]
  },
  {
   "cell_type": "code",
   "execution_count": 57,
   "metadata": {
    "deletable": false,
    "nbgrader": {
     "cell_type": "code",
     "checksum": "43e7c08b2bba22f2290b849253be95d8",
     "grade": false,
     "grade_id": "q2",
     "locked": false,
     "schema_version": 3,
     "solution": true,
     "task": false
    },
    "tags": []
   },
   "outputs": [],
   "source": [
    "# Write your solution here\n",
    "\n",
    "# YOUR CODE HERE\n",
    "with open(\"q2.txt\",'r') as f:\n",
    "    reader = f.readline()\n",
    "    output2 = reader"
   ]
  },
  {
   "cell_type": "code",
   "execution_count": null,
   "metadata": {
    "deletable": false,
    "editable": false,
    "nbgrader": {
     "cell_type": "code",
     "checksum": "5edee970079122440c928d8656318972",
     "grade": true,
     "grade_id": "q2-1",
     "locked": true,
     "points": 4,
     "schema_version": 3,
     "solution": false,
     "task": false
    },
    "tags": []
   },
   "outputs": [],
   "source": [
    "# Testing Cell (Do NOT modify this cell)"
   ]
  },
  {
   "cell_type": "markdown",
   "metadata": {},
   "source": [
    "#### Question 03 &nbsp;&nbsp;&nbsp;&nbsp;&nbsp;&nbsp;(4 Points)\n",
    "\n",
    "Create a Python program to read the first 8 characters of the file `q3.txt`.\n",
    "\n",
    "Create a string variable `output3` and assign the solution to it."
   ]
  },
  {
   "cell_type": "code",
   "execution_count": 75,
   "metadata": {
    "deletable": false,
    "nbgrader": {
     "cell_type": "code",
     "checksum": "47e3c47f174a3538a2caaf1d19e4f575",
     "grade": false,
     "grade_id": "q3",
     "locked": false,
     "schema_version": 3,
     "solution": true,
     "task": false
    },
    "tags": []
   },
   "outputs": [],
   "source": [
    "# Write your solution here\n",
    "\n",
    "# YOUR CODE HERE\n",
    "with open(\"q3.txt\",'r') as f:\n",
    "    reader = f.readline(8)\n",
    "    output3 = reader"
   ]
  },
  {
   "cell_type": "code",
   "execution_count": null,
   "metadata": {
    "deletable": false,
    "editable": false,
    "nbgrader": {
     "cell_type": "code",
     "checksum": "a857e4907538543e361ad31a868faf34",
     "grade": true,
     "grade_id": "q3-1",
     "locked": true,
     "points": 4,
     "schema_version": 3,
     "solution": false,
     "task": false
    },
    "tags": []
   },
   "outputs": [],
   "source": [
    "# Testing Cell (Do NOT modify this cell)"
   ]
  },
  {
   "cell_type": "markdown",
   "metadata": {},
   "source": [
    "#### Question 04 &nbsp;&nbsp;&nbsp;&nbsp;&nbsp;&nbsp;(4 Points)\n",
    "\n",
    "Create a Python program to create a new empty file named `q4.txt`."
   ]
  },
  {
   "cell_type": "code",
   "execution_count": 59,
   "metadata": {
    "deletable": false,
    "nbgrader": {
     "cell_type": "code",
     "checksum": "8e44eec03aea1735226d35be43969550",
     "grade": false,
     "grade_id": "q4",
     "locked": false,
     "schema_version": 3,
     "solution": true,
     "task": false
    },
    "tags": []
   },
   "outputs": [],
   "source": [
    "# Write your solution here\n",
    "\n",
    "# YOUR CODE HERE\n",
    "with open(\"q4.txt\",'w') as f:\n",
    "    pass"
   ]
  },
  {
   "cell_type": "code",
   "execution_count": null,
   "metadata": {
    "deletable": false,
    "editable": false,
    "nbgrader": {
     "cell_type": "code",
     "checksum": "b8708cc2758bdc3e7fabf31c95957b76",
     "grade": true,
     "grade_id": "q4-1",
     "locked": true,
     "points": 4,
     "schema_version": 3,
     "solution": false,
     "task": false
    },
    "tags": []
   },
   "outputs": [],
   "source": [
    "# Testing Cell (Do NOT modify this cell)"
   ]
  },
  {
   "cell_type": "markdown",
   "metadata": {},
   "source": [
    "#### Question 05 &nbsp;&nbsp;&nbsp;&nbsp;&nbsp;&nbsp;(4 Points)\n",
    "\n",
    "Create a Python program to create a new file named `q5.txt`. Write the string `hello world` to that file."
   ]
  },
  {
   "cell_type": "code",
   "execution_count": 60,
   "metadata": {
    "deletable": false,
    "nbgrader": {
     "cell_type": "code",
     "checksum": "a709818024c3ba51e1637274fbd1a6b5",
     "grade": false,
     "grade_id": "q5",
     "locked": false,
     "schema_version": 3,
     "solution": true,
     "task": false
    },
    "tags": []
   },
   "outputs": [],
   "source": [
    "# Write your solution here\n",
    "\n",
    "# YOUR CODE HERE\n",
    "with open(\"q5.txt\",'w') as f:\n",
    "    f.write(\"hello world\")"
   ]
  },
  {
   "cell_type": "code",
   "execution_count": null,
   "metadata": {
    "deletable": false,
    "editable": false,
    "nbgrader": {
     "cell_type": "code",
     "checksum": "ec9e308536d050b63046b16e2d4f5175",
     "grade": true,
     "grade_id": "q5-1",
     "locked": true,
     "points": 4,
     "schema_version": 3,
     "solution": false,
     "task": false
    },
    "tags": []
   },
   "outputs": [],
   "source": [
    "# Testing Cell (Do NOT modify this cell)"
   ]
  },
  {
   "cell_type": "markdown",
   "metadata": {},
   "source": [
    "#### Question 06 &nbsp;&nbsp;&nbsp;&nbsp;&nbsp;&nbsp;(4 Points)\n",
    "\n",
    "Create a Python program to create a new file named file `q6.txt`. Write `hello` to the first line and `world` to the second."
   ]
  },
  {
   "cell_type": "code",
   "execution_count": 77,
   "metadata": {
    "deletable": false,
    "nbgrader": {
     "cell_type": "code",
     "checksum": "02b4715bdf7d63a5f176212713595412",
     "grade": false,
     "grade_id": "q6",
     "locked": false,
     "schema_version": 3,
     "solution": true,
     "task": false
    },
    "tags": []
   },
   "outputs": [],
   "source": [
    "# Write your solution here\n",
    "\n",
    "# YOUR CODE HERE\n",
    "with open(\"q6.txt\",'a') as f:\n",
    "    f.write(\"hello\\n\")\n",
    "    f.write(\"world\")"
   ]
  },
  {
   "cell_type": "code",
   "execution_count": null,
   "metadata": {
    "deletable": false,
    "editable": false,
    "nbgrader": {
     "cell_type": "code",
     "checksum": "0e78b4712dd90bf43d56d55e659803c9",
     "grade": true,
     "grade_id": "q6-1",
     "locked": true,
     "points": 4,
     "schema_version": 3,
     "solution": false,
     "task": false
    },
    "tags": []
   },
   "outputs": [],
   "source": [
    "# Testing Cell (Do NOT modify this cell)"
   ]
  },
  {
   "cell_type": "markdown",
   "metadata": {},
   "source": [
    "#### Question 07 &nbsp;&nbsp;&nbsp;&nbsp;&nbsp;&nbsp;(6 Points)\n",
    "\n",
    "Create a Python program to read the first 10 characters on the third line of the file q7.txt.\n",
    "\n",
    "Create a string variable `output7` and assign the solution to it."
   ]
  },
  {
   "cell_type": "code",
   "execution_count": 62,
   "metadata": {
    "deletable": false,
    "nbgrader": {
     "cell_type": "code",
     "checksum": "3feeed91deeb296138f9c269c2611025",
     "grade": false,
     "grade_id": "q7",
     "locked": false,
     "schema_version": 3,
     "solution": true,
     "task": false
    },
    "tags": []
   },
   "outputs": [
    {
     "name": "stdout",
     "output_type": "stream",
     "text": [
      "Line three\n"
     ]
    }
   ],
   "source": [
    "# Write your solution here\n",
    "\n",
    "# YOUR CODE HERE\n",
    "with open(\"q7.txt\",'r') as f:\n",
    "    output7 = f.readlines()[2][0:10]\n",
    "    print(output7)"
   ]
  },
  {
   "cell_type": "code",
   "execution_count": null,
   "metadata": {
    "deletable": false,
    "editable": false,
    "nbgrader": {
     "cell_type": "code",
     "checksum": "3522a867895e49567223b63253841e68",
     "grade": true,
     "grade_id": "q7-1",
     "locked": true,
     "points": 6,
     "schema_version": 3,
     "solution": false,
     "task": false
    },
    "tags": []
   },
   "outputs": [],
   "source": [
    "# Testing Cell (Do NOT modify this cell)"
   ]
  },
  {
   "cell_type": "markdown",
   "metadata": {},
   "source": [
    "#### Question 08 &nbsp;&nbsp;&nbsp;&nbsp;&nbsp;&nbsp;(6 Points)\n",
    "\n",
    "Create a Python program to read the first 4 characters on the third line of the file `q8.txt`.\n",
    "\n",
    "Create a string variable `output8` and assign the solution to it."
   ]
  },
  {
   "cell_type": "code",
   "execution_count": 63,
   "metadata": {
    "deletable": false,
    "nbgrader": {
     "cell_type": "code",
     "checksum": "0c1737153f68ce6f0b255313e2fce108",
     "grade": false,
     "grade_id": "q8",
     "locked": false,
     "schema_version": 3,
     "solution": true,
     "task": false
    },
    "tags": []
   },
   "outputs": [
    {
     "name": "stdout",
     "output_type": "stream",
     "text": [
      "5678\n"
     ]
    }
   ],
   "source": [
    "# Write your solution here\n",
    "\n",
    "# YOUR CODE HERE\n",
    "with open(\"q8.txt\",'r') as f:\n",
    "    output8 = f.readlines()[2][0:4]\n",
    "    print(output8)"
   ]
  },
  {
   "cell_type": "code",
   "execution_count": null,
   "metadata": {
    "deletable": false,
    "editable": false,
    "nbgrader": {
     "cell_type": "code",
     "checksum": "cabfe70692a822be9b0d509f19fde321",
     "grade": true,
     "grade_id": "q8-1",
     "locked": true,
     "points": 6,
     "schema_version": 3,
     "solution": false,
     "task": false
    },
    "tags": []
   },
   "outputs": [],
   "source": [
    "# Testing Cell (Do NOT modify this cell)"
   ]
  },
  {
   "cell_type": "markdown",
   "metadata": {},
   "source": [
    "#### Question 09 &nbsp;&nbsp;&nbsp;&nbsp;&nbsp;&nbsp;(6 Points)\n",
    "\n",
    "Create a Python program to create a new empty file named `q9.txt` if that file does not already exist. \n",
    "\n",
    "Create a variable `output9`. If the file exists, your program should set `output9` to `True` otherwise set it `False`."
   ]
  },
  {
   "cell_type": "code",
   "execution_count": 78,
   "metadata": {
    "deletable": false,
    "nbgrader": {
     "cell_type": "code",
     "checksum": "b10ea41487c46513420a20c142b6c9f1",
     "grade": false,
     "grade_id": "q9",
     "locked": false,
     "schema_version": 3,
     "solution": true,
     "task": false
    },
    "tags": []
   },
   "outputs": [
    {
     "name": "stdout",
     "output_type": "stream",
     "text": [
      "True\n"
     ]
    }
   ],
   "source": [
    "# Write your solution here\n",
    "\n",
    "# YOUR CODE HERE\n",
    "try:\n",
    "    with open(\"q9.txt\",'x') as f:\n",
    "        output9 = False\n",
    "except:\n",
    "    output9 = True\n",
    "finally:\n",
    "    print(output9)\n",
    "    "
   ]
  },
  {
   "cell_type": "code",
   "execution_count": null,
   "metadata": {
    "deletable": false,
    "editable": false,
    "nbgrader": {
     "cell_type": "code",
     "checksum": "71d8b65fa65b0de694098cfca373c155",
     "grade": true,
     "grade_id": "q9-1",
     "locked": true,
     "points": 6,
     "schema_version": 3,
     "solution": false,
     "task": false
    },
    "tags": []
   },
   "outputs": [],
   "source": [
    "# Testing Cell (Do NOT modify this cell)"
   ]
  },
  {
   "cell_type": "markdown",
   "metadata": {},
   "source": [
    "#### Question 10 &nbsp;&nbsp;&nbsp;&nbsp;&nbsp;&nbsp;(6 Points)\n",
    "\n",
    "Create a Python program to create a new file named `q10.txt` and write the text `Hello!` to it if that file does not already exist. \n",
    "\n",
    "Create a variable `output10`. If the file exists, your program should `output10` to `True` otherwise set it `False`."
   ]
  },
  {
   "cell_type": "code",
   "execution_count": 80,
   "metadata": {
    "deletable": false,
    "nbgrader": {
     "cell_type": "code",
     "checksum": "668b6122126f0cffdabdd0840b974a9e",
     "grade": false,
     "grade_id": "q10",
     "locked": false,
     "schema_version": 3,
     "solution": true,
     "task": false
    },
    "tags": []
   },
   "outputs": [
    {
     "name": "stdout",
     "output_type": "stream",
     "text": [
      "True\n"
     ]
    }
   ],
   "source": [
    "# Write your solution here\n",
    "\n",
    "# YOUR CODE HERE\n",
    "try:\n",
    "    with open(\"q10.txt\",'x') as f:\n",
    "        f.write(\"Hello!\")\n",
    "        output10 = False\n",
    "except:\n",
    "    output10 = True\n",
    "finally:\n",
    "    print(output10)"
   ]
  },
  {
   "cell_type": "code",
   "execution_count": null,
   "metadata": {
    "deletable": false,
    "editable": false,
    "nbgrader": {
     "cell_type": "code",
     "checksum": "4937266bc14edf2c81997baf9e3239c5",
     "grade": true,
     "grade_id": "q10-1",
     "locked": true,
     "points": 6,
     "schema_version": 3,
     "solution": false,
     "task": false
    },
    "tags": []
   },
   "outputs": [],
   "source": [
    "# Testing Cell (Do NOT modify this cell)"
   ]
  },
  {
   "cell_type": "markdown",
   "metadata": {},
   "source": [
    "#### Question 11 &nbsp;&nbsp;&nbsp;&nbsp;&nbsp;&nbsp;(6 Points)\n",
    "\n",
    "Create a Python program to append `!` to the end the file `q11.txt`."
   ]
  },
  {
   "cell_type": "code",
   "execution_count": 66,
   "metadata": {
    "deletable": false,
    "nbgrader": {
     "cell_type": "code",
     "checksum": "68b9aaf42cdb5b314c623544efd18f7a",
     "grade": false,
     "grade_id": "q11",
     "locked": false,
     "schema_version": 3,
     "solution": true,
     "task": false
    },
    "tags": []
   },
   "outputs": [],
   "source": [
    "# Write your solution here\n",
    "\n",
    "# YOUR CODE HERE\n",
    "with open(\"q11.txt\",'a') as f:\n",
    "    f.write(\"!\")"
   ]
  },
  {
   "cell_type": "code",
   "execution_count": null,
   "metadata": {
    "deletable": false,
    "editable": false,
    "nbgrader": {
     "cell_type": "code",
     "checksum": "4e35847af48fa28dd999da06021986bb",
     "grade": true,
     "grade_id": "q11-1",
     "locked": true,
     "points": 6,
     "schema_version": 3,
     "solution": false,
     "task": false
    },
    "tags": []
   },
   "outputs": [],
   "source": [
    "# Testing Cell (Do NOT modify this cell)"
   ]
  },
  {
   "cell_type": "markdown",
   "metadata": {},
   "source": [
    "#### Question 12 &nbsp;&nbsp;&nbsp;&nbsp;&nbsp;&nbsp;(6 Points)\n",
    "\n",
    "Create a Python program to append `Goodnight world` on a new line at the end the file `q12.txt`.\n",
    "\n",
    "---\n",
    "<details>\n",
    "  <summary><span style=\"color:blue\">Hints for testing</span></summary>\n",
    "   Test your code against your own `q12.txt` file containing `123456` to ensure you are getting the behaviour that you want before submission. `Goodnight world` should appear on it's own new line at the end of the file.\n",
    "</details>"
   ]
  },
  {
   "cell_type": "code",
   "execution_count": null,
   "metadata": {
    "deletable": false,
    "nbgrader": {
     "cell_type": "code",
     "checksum": "ed611ebec9f33f0ba5922a61998b6126",
     "grade": false,
     "grade_id": "q12",
     "locked": false,
     "schema_version": 3,
     "solution": true,
     "task": false
    },
    "tags": []
   },
   "outputs": [],
   "source": [
    "# Write your solution here\n",
    "\n",
    "# YOUR CODE HERE\n",
    "with open(\"q12.txt\",'a') as f:\n",
    "    f.write(\"\\nGoodnight world\")"
   ]
  },
  {
   "cell_type": "code",
   "execution_count": null,
   "metadata": {
    "deletable": false,
    "editable": false,
    "nbgrader": {
     "cell_type": "code",
     "checksum": "908c7a5d649d55dc31df6dd60bbcfe3f",
     "grade": true,
     "grade_id": "q12-1",
     "locked": true,
     "points": 6,
     "schema_version": 3,
     "solution": false,
     "task": false
    },
    "tags": []
   },
   "outputs": [],
   "source": [
    "# Testing Cell (Do NOT modify this cell)"
   ]
  },
  {
   "cell_type": "markdown",
   "metadata": {},
   "source": [
    "#### Question 13 &nbsp;&nbsp;&nbsp;&nbsp;&nbsp;&nbsp;(6 Points)\n",
    "\n",
    "Create a Python program to append `789` to the end the file `q13.txt`, then read that entire file.\n",
    "\n",
    "Create a string variable `output13` and assign the solution to it."
   ]
  },
  {
   "cell_type": "code",
   "execution_count": 67,
   "metadata": {
    "deletable": false,
    "nbgrader": {
     "cell_type": "code",
     "checksum": "6b61bd2cde810d6e3f8f01d0650ac9b5",
     "grade": false,
     "grade_id": "q13",
     "locked": false,
     "schema_version": 3,
     "solution": true,
     "task": false
    },
    "tags": []
   },
   "outputs": [],
   "source": [
    "# Write your solution here\n",
    "\n",
    "# YOUR CODE HERE\n",
    "with open(\"q13.txt\",\"a\") as f:\n",
    "    f.write(\"789\")\n",
    "with open(\"q13.txt\",\"r\") as f:\n",
    "    output13 = f.read()"
   ]
  },
  {
   "cell_type": "code",
   "execution_count": null,
   "metadata": {
    "deletable": false,
    "editable": false,
    "nbgrader": {
     "cell_type": "code",
     "checksum": "bb08157895a31d5814eaee79757beac8",
     "grade": true,
     "grade_id": "q13-1",
     "locked": true,
     "points": 6,
     "schema_version": 3,
     "solution": false,
     "task": false
    },
    "tags": []
   },
   "outputs": [],
   "source": [
    "# Testing Cell (Do NOT modify this cell)"
   ]
  },
  {
   "cell_type": "markdown",
   "metadata": {},
   "source": [
    "#### Question 14 &nbsp;&nbsp;&nbsp;&nbsp;&nbsp;&nbsp;(6 Points)\n",
    "\n",
    "Create a Python program to overwrite the existing file `q14.txt` with the text `truncate`, then read that file assigning the file content to `output14`."
   ]
  },
  {
   "cell_type": "code",
   "execution_count": 68,
   "metadata": {
    "deletable": false,
    "nbgrader": {
     "cell_type": "code",
     "checksum": "d6064ecb74eb083f743b3efe54286047",
     "grade": false,
     "grade_id": "q14",
     "locked": false,
     "schema_version": 3,
     "solution": true,
     "task": false
    },
    "tags": []
   },
   "outputs": [
    {
     "name": "stdout",
     "output_type": "stream",
     "text": [
      "8\n",
      "truncate\n"
     ]
    }
   ],
   "source": [
    "# Write your solution here\n",
    "\n",
    "# YOUR CODE HERE\n",
    "with open(\"q14.txt\",\"w+\") as f:\n",
    "    f.write(\"truncate\")\n",
    "    print(f.tell())\n",
    "    f.seek(0)\n",
    "    output14 = f.read()\n",
    "    print(output14)"
   ]
  },
  {
   "cell_type": "code",
   "execution_count": null,
   "metadata": {
    "deletable": false,
    "editable": false,
    "nbgrader": {
     "cell_type": "code",
     "checksum": "4089badeb91de3bf71bc42106c962328",
     "grade": true,
     "grade_id": "q14-1",
     "locked": true,
     "points": 6,
     "schema_version": 3,
     "solution": false,
     "task": false
    },
    "tags": []
   },
   "outputs": [],
   "source": [
    "# Testing Cell (Do NOT modify this cell)"
   ]
  },
  {
   "cell_type": "markdown",
   "metadata": {},
   "source": [
    "#### Question 15 &nbsp;&nbsp;&nbsp;&nbsp;&nbsp;&nbsp;(6 Points)\n",
    "\n",
    "The file `q15.txt` contains the word `PASSWORD` exactly once somewhere in the text. Create a Python program to replace that word with `********` in that file."
   ]
  },
  {
   "cell_type": "code",
   "execution_count": 69,
   "metadata": {
    "deletable": false,
    "nbgrader": {
     "cell_type": "code",
     "checksum": "73b0ff0627ecf48aaa61a46b5406b490",
     "grade": false,
     "grade_id": "q15",
     "locked": false,
     "schema_version": 3,
     "solution": true,
     "task": false
    },
    "tags": []
   },
   "outputs": [
    {
     "name": "stdout",
     "output_type": "stream",
     "text": [
      "Lorem ipsum dolor sit amet, consectetur adipiscing elit. Fusce sit amet vehicula nibh, ac ultrices mi. ********. Pellentesque facilisis aliquam libero. Sed eleifend scelerisque arcu.\n"
     ]
    }
   ],
   "source": [
    "# Write your solution here\n",
    "\n",
    "# YOUR CODE HERE\n",
    "with open(\"q15.txt\",'r+') as f:\n",
    "    a = f.read().replace(\"PASSWORD\",\"********\")\n",
    "    f.seek(0)\n",
    "    f.write(a)\n",
    "print(a)"
   ]
  },
  {
   "cell_type": "code",
   "execution_count": null,
   "metadata": {
    "deletable": false,
    "editable": false,
    "nbgrader": {
     "cell_type": "code",
     "checksum": "784ebc124a55071ce642cbb2ed517bc1",
     "grade": true,
     "grade_id": "q15-1",
     "locked": true,
     "points": 6,
     "schema_version": 3,
     "solution": false,
     "task": false
    },
    "tags": []
   },
   "outputs": [],
   "source": [
    "# Testing Cell (Do NOT modify this cell)"
   ]
  },
  {
   "cell_type": "markdown",
   "metadata": {},
   "source": [
    "#### Question 16 &nbsp;&nbsp;&nbsp;&nbsp;&nbsp;&nbsp;(6 Points)\n",
    "\n",
    "Using the `seek()` built-in function, create a Python program to replace characters 10, 11, 12, and 13 with the characters `GOOD`, respectively in the file `q16.txt`. Note that `seek(0)` positions at the *first* character. \n",
    "\n",
    "*For example, if it contained `abcdefghijklmnopqrstuvwxyz`, the text should be updated to `abcdefghiGOODnopqrstuvwxyz`.*"
   ]
  },
  {
   "cell_type": "code",
   "execution_count": 70,
   "metadata": {
    "deletable": false,
    "nbgrader": {
     "cell_type": "code",
     "checksum": "59391aa47a9b966123901614cae70b1b",
     "grade": false,
     "grade_id": "q16",
     "locked": false,
     "schema_version": 3,
     "solution": true,
     "task": false
    },
    "tags": []
   },
   "outputs": [],
   "source": [
    "# Write your solution here\n",
    "\n",
    "# YOUR CODE HERE\n",
    "with open(\"q16.txt\",'r+') as f:\n",
    "    f.seek(9)\n",
    "    f.write(\"GOOD\")\n",
    "    f.seek(0)\n"
   ]
  },
  {
   "cell_type": "code",
   "execution_count": null,
   "metadata": {
    "deletable": false,
    "editable": false,
    "nbgrader": {
     "cell_type": "code",
     "checksum": "aeaad4dbca88d636aad16649f03023ca",
     "grade": true,
     "grade_id": "q16-1",
     "locked": true,
     "points": 6,
     "schema_version": 3,
     "solution": false,
     "task": false
    },
    "tags": []
   },
   "outputs": [],
   "source": [
    "# Testing Cell (Do NOT modify this cell)"
   ]
  },
  {
   "cell_type": "markdown",
   "metadata": {},
   "source": [
    "#### Question 17 &nbsp;&nbsp;&nbsp;&nbsp;&nbsp;&nbsp;(6 Points)\n",
    "\n",
    "The file `q17.txt` contains set of numbers separated by spaces. Create a Python program to create a new empty file named `q17.csv`, then write contents of `q17.txt` into that that to that file except with the spaces replaced with commas."
   ]
  },
  {
   "cell_type": "code",
   "execution_count": 72,
   "metadata": {
    "deletable": false,
    "nbgrader": {
     "cell_type": "code",
     "checksum": "cf51cce2822460403b110a8e815892ac",
     "grade": false,
     "grade_id": "q17",
     "locked": false,
     "schema_version": 3,
     "solution": true,
     "task": false
    },
    "tags": []
   },
   "outputs": [
    {
     "name": "stdout",
     "output_type": "stream",
     "text": [
      "1,2,3,4,5,6,7,8,9\n",
      "\n"
     ]
    }
   ],
   "source": [
    "# Write your solution here\n",
    "\n",
    "# YOUR CODE HERE\n",
    "with open(\"q17.csv\",'w+') as f:\n",
    "    with open(\"q17.txt\",\"r\") as f1:\n",
    "        a = f1.read().replace(\" \",\",\")\n",
    "        print(a)\n",
    "    f.write(a)\n"
   ]
  },
  {
   "cell_type": "code",
   "execution_count": null,
   "metadata": {
    "deletable": false,
    "editable": false,
    "nbgrader": {
     "cell_type": "code",
     "checksum": "419747274df350268f46e3415b7b86ec",
     "grade": true,
     "grade_id": "q17-1",
     "locked": true,
     "points": 6,
     "schema_version": 3,
     "solution": false,
     "task": false
    },
    "tags": []
   },
   "outputs": [],
   "source": [
    "# Testing Cell (Do NOT modify this cell)"
   ]
  },
  {
   "cell_type": "markdown",
   "metadata": {},
   "source": [
    "#### Question 18 &nbsp;&nbsp;&nbsp;&nbsp;&nbsp;&nbsp;(10 Points)\n",
    "\n",
    "The file `q18.txt` contains 10 lines of text. Create a Python program to reverse the order of those lines within that file."
   ]
  },
  {
   "cell_type": "code",
   "execution_count": 95,
   "metadata": {},
   "outputs": [],
   "source": [
    "# with open(\"q18.txt\",'w+') as f:\n",
    "#     f.write(\"1\\n2\\n3\\n4\\n5\\n6\\n7\\n8\\n9\\n\")\n",
    "    "
   ]
  },
  {
   "cell_type": "code",
   "execution_count": 96,
   "metadata": {
    "deletable": false,
    "nbgrader": {
     "cell_type": "code",
     "checksum": "6e0b0a1305721b9d3ec8772568e3e9d6",
     "grade": false,
     "grade_id": "q18",
     "locked": false,
     "schema_version": 3,
     "solution": true,
     "task": false
    },
    "tags": []
   },
   "outputs": [],
   "source": [
    "# Write your solution here\n",
    "\n",
    "# YOUR CODE HERE\n",
    "tmp =\"\"\n",
    "with open(\"q18.txt\",'r+') as f:\n",
    "    for i in range(10):\n",
    "        tmp = f.readline() +tmp\n",
    "        \n",
    "with open(\"q18.txt\",'r+') as f:\n",
    "    f.write(tmp)\n",
    "    "
   ]
  },
  {
   "cell_type": "code",
   "execution_count": null,
   "metadata": {
    "deletable": false,
    "editable": false,
    "nbgrader": {
     "cell_type": "code",
     "checksum": "2c301c7e366965cb4558842f6acd555d",
     "grade": true,
     "grade_id": "q18-1",
     "locked": true,
     "points": 10,
     "schema_version": 3,
     "solution": false,
     "task": false
    },
    "tags": []
   },
   "outputs": [],
   "source": [
    "# Testing Cell (Do NOT modify this cell)"
   ]
  },
  {
   "cell_type": "code",
   "execution_count": null,
   "metadata": {},
   "outputs": [],
   "source": []
  }
 ],
 "metadata": {
  "kernelspec": {
   "display_name": "Python 3 (ipykernel)",
   "language": "python",
   "name": "python3"
  },
  "language_info": {
   "codemirror_mode": {
    "name": "ipython",
    "version": 3
   },
   "file_extension": ".py",
   "mimetype": "text/x-python",
   "name": "python",
   "nbconvert_exporter": "python",
   "pygments_lexer": "ipython3",
   "version": "3.9.12"
  },
  "varInspector": {
   "cols": {
    "lenName": 16,
    "lenType": 16,
    "lenVar": 40
   },
   "kernels_config": {
    "python": {
     "delete_cmd_postfix": "",
     "delete_cmd_prefix": "del ",
     "library": "var_list.py",
     "varRefreshCmd": "print(var_dic_list())"
    },
    "r": {
     "delete_cmd_postfix": ") ",
     "delete_cmd_prefix": "rm(",
     "library": "var_list.r",
     "varRefreshCmd": "cat(var_dic_list()) "
    }
   },
   "types_to_exclude": [
    "module",
    "function",
    "builtin_function_or_method",
    "instance",
    "_Feature"
   ],
   "window_display": false
  }
 },
 "nbformat": 4,
 "nbformat_minor": 4
}
