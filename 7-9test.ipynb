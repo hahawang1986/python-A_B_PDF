{
 "cells": [
  {
   "cell_type": "code",
   "execution_count": 2,
   "metadata": {},
   "outputs": [],
   "source": [
    "import pandas as pd\n",
    "import numpy as np\n",
    "%matplotlib inline\n",
    "import otter\n",
    "grader = otter.Notebook()"
   ]
  },
  {
   "cell_type": "markdown",
   "metadata": {},
   "source": [
    "# D | Module Test"
   ]
  },
  {
   "cell_type": "markdown",
   "metadata": {},
   "source": [
    "# Part I (Core Questions)"
   ]
  },
  {
   "cell_type": "markdown",
   "metadata": {},
   "source": [
    "<!-- BEGIN QUESTION -->\n",
    "\n",
    "## Question 1&nbsp;&nbsp;&nbsp;&nbsp;&nbsp;&nbsp;(20 Points)"
   ]
  },
  {
   "cell_type": "code",
   "execution_count": 3,
   "metadata": {
    "tags": []
   },
   "outputs": [],
   "source": [
    "# Write your solution here\n",
    "class Bike:\n",
    "    def __init__(self, description='', condition=None, sale_price=-1):\n",
    "        self.description = description\n",
    "        self.condition = condition\n",
    "        self.sale_price = sale_price\n",
    "        \n",
    "    def __str__(self):\n",
    "        return self.description\n",
    "        \n",
    "    def __lt__(self, other):\n",
    "        return self.sale_price < other.sale_price\n",
    "    \n",
    "    def __gt__(self, other):\n",
    "        return self.sale_price > other.sale_price\n",
    "    \n",
    "    def __eq__(self, other):\n",
    "        return self.sale_price == other.sale_price\n",
    "    \n",
    "    "
   ]
  },
  {
   "cell_type": "code",
   "execution_count": 4,
   "metadata": {},
   "outputs": [
    {
     "name": "stdout",
     "output_type": "stream",
     "text": [
      "Giant 1000\n",
      "True\n",
      "False\n",
      "False\n"
     ]
    }
   ],
   "source": [
    "bike1 = Bike('Giant 1000', sale_price=1500)\n",
    "bike2 = Bike('Trek 2000', sale_price=1000)\n",
    "print(bike1) # Giant 1000\n",
    "print(bike1 > bike2) # True\n",
    "print(bike1 < bike2) # False\n",
    "print(bike1 == bike2) # False"
   ]
  },
  {
   "cell_type": "markdown",
   "metadata": {},
   "source": [
    "<!-- END QUESTION -->\n",
    "\n",
    "<!-- BEGIN QUESTION -->\n",
    "\n",
    "## Question 2&nbsp;&nbsp;&nbsp;&nbsp;&nbsp;&nbsp;(20 Points)"
   ]
  },
  {
   "cell_type": "code",
   "execution_count": 8,
   "metadata": {
    "tags": []
   },
   "outputs": [
    {
     "name": "stdout",
     "output_type": "stream",
     "text": [
      "Circle area is 1256.64\n",
      "Circle circumference is 125.66\n",
      "Rectangle area is 200\n",
      "Rectangle circumference is 60\n",
      "Shape\n"
     ]
    }
   ],
   "source": [
    "# Write your solution here\n",
    "from math import pi\n",
    "\n",
    "class Shape:\n",
    "    \n",
    "    def area(self):\n",
    "        pass\n",
    "    def circumference(self):\n",
    "        pass\n",
    "    def __str__(self):\n",
    "        return type(self).__name__\n",
    "\n",
    "class Circle(Shape):\n",
    "    def __init__(self, r):\n",
    "        self.r = r\n",
    "        \n",
    "    def area(self):\n",
    "        return round(pi * self.r ** 2, 2)\n",
    "    \n",
    "    def circumference(self):\n",
    "        return round(2 * pi * self.r, 2)\n",
    "    \n",
    "class Rectangle(Shape):\n",
    "    def __init__(self, l, w):\n",
    "        self.l = l\n",
    "        self.w = w\n",
    "        \n",
    "    def area(self):\n",
    "        return self.l * self.w\n",
    "    \n",
    "    def circumference(self):\n",
    "        return 2 * self.l + 2 * self.w\n",
    "    \n",
    "lst = [Circle(20), Rectangle(10, 20)]\n",
    "for item in lst:\n",
    "    print(item, 'area is', item.area())\n",
    "    print(item, 'circumference is', item.circumference())\n",
    "a= Shape()\n",
    "print(str(a))"
   ]
  },
  {
   "cell_type": "markdown",
   "metadata": {},
   "source": [
    "<!-- END QUESTION -->\n",
    "\n",
    "<!-- BEGIN QUESTION -->\n",
    "\n",
    "## Question 3&nbsp;&nbsp;&nbsp;&nbsp;&nbsp;&nbsp;(20 Points)"
   ]
  },
  {
   "cell_type": "code",
   "execution_count": 6,
   "metadata": {
    "tags": []
   },
   "outputs": [],
   "source": [
    "# Write your solution here\n",
    "class Animal:\n",
    "    def feed(self):\n",
    "        print('I eat anything')\n",
    "    \n",
    "class Herbivore(Animal):\n",
    "    def feed(self):\n",
    "        print('I eat plants')\n",
    "        \n",
    "class Carnivore(Animal):\n",
    "    def feed(self):\n",
    "        print('I eat meat')"
   ]
  },
  {
   "cell_type": "code",
   "execution_count": 7,
   "metadata": {},
   "outputs": [
    {
     "name": "stdout",
     "output_type": "stream",
     "text": [
      "I eat anything\n",
      "I eat plants\n",
      "I eat meat\n"
     ]
    }
   ],
   "source": [
    "a = Animal()\n",
    "a.feed() # I eat anything\n",
    "\n",
    "h = Herbivore()\n",
    "h.feed() # I eat plants\n",
    "\n",
    "c = Carnivore()\n",
    "c.feed() # I eat meat"
   ]
  },
  {
   "cell_type": "markdown",
   "metadata": {},
   "source": [
    "# Part II (Higher Order Questions)"
   ]
  },
  {
   "cell_type": "markdown",
   "metadata": {},
   "source": [
    "<!-- END QUESTION -->\n",
    "\n",
    "<!-- BEGIN QUESTION -->\n",
    "\n",
    "## Question 4&nbsp;&nbsp;&nbsp;&nbsp;&nbsp;&nbsp;(40 Points)"
   ]
  },
  {
   "cell_type": "code",
   "execution_count": 3,
   "metadata": {
    "tags": []
   },
   "outputs": [],
   "source": [
    "# Write your solution here\n",
    "class Item:\n",
    "    def __init__(self, name, price):\n",
    "        self.name = name\n",
    "        self.price = price\n",
    "        \n",
    "class JuiceBox(Item):\n",
    "    def __init__(self, name, price, volume):\n",
    "        super().__init__(name, price)\n",
    "        self.volume = volume\n",
    "        \n",
    "class Chocolate(Item)    :\n",
    "    def __init__(self, name, price, weight):\n",
    "        super().__init__(name, price)\n",
    "        self.weight = weight\n",
    "\n",
    "class VendingMachine:\n",
    "    def __init__(self, id):\n",
    "        self.id = id\n",
    "        self.inventory = []\n",
    "    \n",
    "    def add(self, item):\n",
    "        self.inventory.append(item)\n",
    "        \n",
    "    def dispense(self, name):\n",
    "        for item in self.inventory:\n",
    "            if item.name == name:\n",
    "                break\n",
    "        self.inventory.remove(item)\n",
    "    \n",
    "    def __str__(self):\n",
    "        s = f'Id: {self.id}, contents: '\n",
    "        s += '['\n",
    "        for item in self.inventory:\n",
    "            s += f'\"{item.name}\", '\n",
    "        s = s[:-2] + ']'\n",
    "        return s"
   ]
  },
  {
   "cell_type": "code",
   "execution_count": 9,
   "metadata": {
    "scrolled": true
   },
   "outputs": [
    {
     "name": "stdout",
     "output_type": "stream",
     "text": [
      "Id: v1, contents: [\"c1\", \"j2\"]\n",
      "Id: v2, contents: [\"j1\"]\n"
     ]
    }
   ],
   "source": [
    "v1 = VendingMachine(\"v1\")\n",
    "v2 = VendingMachine(\"v2\")\n",
    "c1 = Chocolate(\"c1\", 5.0, 1.2)\n",
    "j1 = JuiceBox(\"j1\", 10.0, 80.0)\n",
    "j2 = JuiceBox(\"j2\", 20.0, 120.0)\n",
    "v1.add(c1)\n",
    "v1.add(j1)\n",
    "v1.dispense(\"j1\")\n",
    "v1.add(j2)\n",
    "v2.add(j1)\n",
    "print(v1) # Id: v1, contents: [\"c1\", \"j2\"]\n",
    "print(v2) # Id: v2, contents: [\"j1\"]\n"
   ]
  }
 ],
 "metadata": {
  "celltoolbar": "Edit Metadata",
  "kernelspec": {
   "display_name": "Python 3 (ipykernel)",
   "language": "python",
   "name": "python3"
  },
  "language_info": {
   "codemirror_mode": {
    "name": "ipython",
    "version": 3
   },
   "file_extension": ".py",
   "mimetype": "text/x-python",
   "name": "python",
   "nbconvert_exporter": "python",
   "pygments_lexer": "ipython3",
   "version": "3.9.12"
  },
  "varInspector": {
   "cols": {
    "lenName": 16,
    "lenType": 16,
    "lenVar": 40
   },
   "kernels_config": {
    "python": {
     "delete_cmd_postfix": "",
     "delete_cmd_prefix": "del ",
     "library": "var_list.py",
     "varRefreshCmd": "print(var_dic_list())"
    },
    "r": {
     "delete_cmd_postfix": ") ",
     "delete_cmd_prefix": "rm(",
     "library": "var_list.r",
     "varRefreshCmd": "cat(var_dic_list()) "
    }
   },
   "types_to_exclude": [
    "module",
    "function",
    "builtin_function_or_method",
    "instance",
    "_Feature"
   ],
   "window_display": false
  }
 },
 "nbformat": 4,
 "nbformat_minor": 4
}
