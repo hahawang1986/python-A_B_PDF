{
 "cells": [
  {
   "cell_type": "markdown",
   "id": "a6609893-0df4-4459-be57-c7b24d73d822",
   "metadata": {},
   "source": [
    "# E | Module Test"
   ]
  },
  {
   "cell_type": "markdown",
   "id": "4757f617-5fe5-4a85-895e-e1c958b50fcf",
   "metadata": {},
   "source": [
    "## Question 1: Complexity & Big O Notation"
   ]
  },
  {
   "cell_type": "code",
   "execution_count": null,
   "id": "dbc8d2ed-387a-4fde-8200-897857a9df0c",
   "metadata": {},
   "outputs": [],
   "source": [
    "import random\n",
    "\n",
    "n = 256\n",
    "X_RES, Y_RES = (n, n)\n",
    "\n",
    "pixel_data = [[0 for x in range(X_RES)] for y in range(Y_RES)] \n",
    "\n",
    "def preprocess_origin (data):\n",
    "    '''\n",
    "    Mark the origin.\n",
    "    '''\n",
    "    pixel_data [0][0] = 1\n",
    "\n",
    "def preprocess_noise (data, x = 1):\n",
    "    '''\n",
    "    Add noise value.\n",
    "    '''\n",
    "    n = random.uniform(1.5, 1.9)\n",
    "    for y in data:\n",
    "        y[x] = x + n\n",
    "    \n",
    "preprocess_origin(pixel_data)\n",
    "\n",
    "for x in range(1, X_RES):\n",
    "    preprocess_noise (pixel_data, x)\n",
    "def __init__(p)"
   ]
  },
  {
   "cell_type": "code",
   "execution_count": 18,
   "id": "dc5e1bc9-e074-4810-a8fa-9fc42efaf236",
   "metadata": {},
   "outputs": [
    {
     "ename": "SyntaxError",
     "evalue": "invalid syntax (1909385970.py, line 2)",
     "output_type": "error",
     "traceback": [
      "\u001b[1;36m  Input \u001b[1;32mIn [18]\u001b[1;36m\u001b[0m\n\u001b[1;33m    line 3: O(1), since we are assigning 1 value to 1 variable\u001b[0m\n\u001b[1;37m         ^\u001b[0m\n\u001b[1;31mSyntaxError\u001b[0m\u001b[1;31m:\u001b[0m invalid syntax\n"
     ]
    }
   ],
   "source": [
    "# Write your solution (and explanation of your logic) here in plain text.\n",
    "line 3: O(1), since we are assigning 1 value to 1 variable\n",
    "\n",
    "line 4: O(2), since we are assigning 2 values to 2 variables\n",
    "    \n",
    "line 6: to generate the pixel_data, it will take O(n^2) there is 2 for loops which run n*n times\n",
    "\n",
    "line 8: the function preprocess_origin() takes O(1)\n",
    "\n",
    "line 14: preprocess_noise() takes O(n) \n",
    "\n",
    "line 22: take O(1), since the function preprocess_origin() is called.\n",
    "    \n",
    "line 24: takes range of 1 to X_Res, so that is n times, and it is calling for the function preprocess_noise() which takes another n times, so all together this is O(n^2)\n",
    "\n",
    "Total = O(1) + O(2) + O(n^2) + O(1) + O(n^2)\n",
    "\n",
    "Total = O(2 * n^2 + 4)\n",
    "\n",
    "Note: in this case, n = 256, so the total would be O(131076)\n",
    "\n",
    "for very large values of n -> O(n^2) "
   ]
  },
  {
   "cell_type": "markdown",
   "id": "d97f20ad-6913-4c93-a749-e1b0056060e7",
   "metadata": {},
   "source": [
    "## Question 2: Recursion"
   ]
  },
  {
   "cell_type": "code",
   "execution_count": 28,
   "id": "390c6b9c-ee7f-4681-aad5-d57172a6b686",
   "metadata": {},
   "outputs": [],
   "source": [
    "def contains(number, pattern, start = 0, output = False):\n",
    "    \n",
    "    # Write your solution here\n",
    "    n = len(pattern)\n",
    "    if (start + n) > len(number):\n",
    "        return output\n",
    "    \n",
    "    if number[start:(start + n)] == pattern:\n",
    "        output = True\n",
    "        start += 1\n",
    "        return output\n",
    "    else:\n",
    "        start +=1\n",
    "        return contains(number, pattern, start, output)\n",
    "    "
   ]
  },
  {
   "cell_type": "code",
   "execution_count": 29,
   "id": "6deb1dba-58cb-48be-9868-99a8edbef436",
   "metadata": {},
   "outputs": [
    {
     "data": {
      "text/plain": [
       "True"
      ]
     },
     "execution_count": 29,
     "metadata": {},
     "output_type": "execute_result"
    }
   ],
   "source": [
    "contains(\"1011\", \"1\")"
   ]
  },
  {
   "cell_type": "code",
   "execution_count": 30,
   "id": "8df9d93c",
   "metadata": {},
   "outputs": [
    {
     "data": {
      "text/plain": [
       "False"
      ]
     },
     "execution_count": 30,
     "metadata": {},
     "output_type": "execute_result"
    }
   ],
   "source": [
    "contains(\"101110111\", \"01011\")"
   ]
  },
  {
   "cell_type": "markdown",
   "id": "87c892bd-e4c6-4d66-963b-d61fd55b33ce",
   "metadata": {},
   "source": [
    "## Question 3: Sorting"
   ]
  },
  {
   "cell_type": "code",
   "execution_count": 5,
   "id": "b2264114-2060-42b7-a778-efbba9fdfcc2",
   "metadata": {},
   "outputs": [
    {
     "name": "stdout",
     "output_type": "stream",
     "text": [
      "[(1, 6.8), (1, 's', None), (2.4, 88, 2, 'bee:'), (1, 1, 1, 1, 6)]\n"
     ]
    }
   ],
   "source": [
    "tuples = [(2.4, 88, 2, \"bee:\"), (1, \"s\", None), (1, 1, 1, 1, 6), (1, 6.8)]\n",
    "\n",
    "# Write your solution here\n",
    "import random\n",
    "\n",
    "def quicksort(tuples, first = None, last = None):\n",
    "    \n",
    "    if first == None and last == None:\n",
    "        first = 0\n",
    "        last = len(tuples) - 1\n",
    "        \n",
    "    if first >= last:\n",
    "        return\n",
    "    \n",
    "    i, j = first, last\n",
    "    \n",
    "    pivot = len(tuples[random.randint(first, last)])\n",
    "    \n",
    "    while i <= j:\n",
    "        while len(tuples[i]) < pivot:\n",
    "            i += 1\n",
    "        while len(tuples[j]) > pivot:\n",
    "            j -= 1\n",
    "            \n",
    "        if i <= j:\n",
    "            tuples[i], tuples[j] = tuples[j], tuples[i]\n",
    "            i, j = i + 1, j - 1\n",
    "    quicksort(tuples, first, j)\n",
    "    quicksort(tuples, i, last)\n",
    "    \n",
    "quicksort(tuples)\n",
    "print(tuples)"
   ]
  },
  {
   "cell_type": "markdown",
   "id": "e0de2efd-98ff-4c4b-aa09-22f8821a7779",
   "metadata": {},
   "source": [
    "## Question 4: Searching"
   ]
  },
  {
   "cell_type": "code",
   "execution_count": 33,
   "id": "da6803e5-3208-4c09-8314-eee7a2b4f484",
   "metadata": {},
   "outputs": [],
   "source": [
    "def binary_search (names, match):\n",
    "\n",
    "    # Write your solution here\n",
    "    low = 0\n",
    "    high = len(names) - 1\n",
    "    \n",
    "    while high >= low:\n",
    "        mid = (high + low) //2\n",
    "        \n",
    "        if names[mid] == match:\n",
    "            return True\n",
    "        elif names[mid] > match:\n",
    "            high = mid -1\n",
    "        else:\n",
    "            low = mid + 1\n",
    "            \n",
    "    return False\n",
    "    "
   ]
  },
  {
   "cell_type": "code",
   "execution_count": 34,
   "id": "5b7c7d62-0aa6-41bc-a514-2e403c4d163b",
   "metadata": {
    "scrolled": true
   },
   "outputs": [
    {
     "data": {
      "text/plain": [
       "True"
      ]
     },
     "execution_count": 34,
     "metadata": {},
     "output_type": "execute_result"
    }
   ],
   "source": [
    "binary_search ([\"Aashray\", \"Bhavana\", \"Hanyue\", \"Inzah\"], \"Bhavana\")"
   ]
  },
  {
   "cell_type": "code",
   "execution_count": 35,
   "id": "f4715b84",
   "metadata": {
    "scrolled": true
   },
   "outputs": [
    {
     "data": {
      "text/plain": [
       "False"
      ]
     },
     "execution_count": 35,
     "metadata": {},
     "output_type": "execute_result"
    }
   ],
   "source": [
    "binary_search ([\"Pranav\", \"Rui\", \"Victor\", \"Xiufeng\"], \"Menasha\")"
   ]
  },
  {
   "cell_type": "markdown",
   "id": "1743107d-e639-4e83-a166-db426f5e11b9",
   "metadata": {},
   "source": [
    "## Question 5: Synthesis Question\n",
    "\n",
    "Test data at: [passwords.txt](https://myuni.adelaide.edu.au/files/11379336/download?download_frd=1) (opens in browser)."
   ]
  },
  {
   "cell_type": "code",
   "execution_count": 46,
   "id": "674720e9-39ba-4ecc-80f3-ad0ee21f56b2",
   "metadata": {},
   "outputs": [
    {
     "name": "stdout",
     "output_type": "stream",
     "text": [
      "['048e3d6bf58fb548', '92ada4000e19c24c', '48e20dd31ffad17a', 'f45eb33651914e26', '0bda74f047aeba70', 'f3cdb96a6462b8ed', '62e43c4107eb90cd', '225ad89e5325acce', 'a888a2df3b8d2592', '8e32fe78042e7921', '6b66f6ff88312c1c', '71b7628bd50c103f', 'c5f4cd2709f59f41', 'e3e7622ed21261c0', 'c7d4c9606013f7b3', 'dd74fb2947329c0b', '17453be2792abe3c', '5c9aa53080b912e1', '04cbc490eca87c92', 'ecebb9eb35166633', '5fb94ecf90481e4e', '746fc23b401c7628', '161d08d8f2d1a5b3', 'eed3637012c164b8', '902172d2db26148a', '3bd3202c8a2328b0', '6b4fef2891f8d694', '8ec913aa43bdb46a', '9129d06d8966b4d3', '9d42c002af78e62b', 'ca2965202c105988', 'f549d52159ceccc5', '2fca6c907e854756', '506e5c39f28f60d0', 'b26b63350d195f27', 'b3f965f42341d463', '4490d3003702a2ef', 'c6f4d9a92b1ea3f2', '13a782e898a05bdc', '60f3aea46ef94340', 'bb13d5d74915936b', '10ac21f6d864eb3a', '358ce0e61d70a04c', 'e98541cf5bc73f69', 'eed83e915766c238', '7d0015a925594d0b', '005a9ac32cd06cc4', 'b370ccb7d99c6d60', 'd866e1463a62ad2f', '1ccf100cfb02d401', '78ddd609f5630ef5', 'c415eafd2d73a22a', '9d5be3999e7e3114', '8962af6ab4c88f23', 'b4c5c79dd2182e56', '1429c738f6627717', 'e963f3ac4addf455', '8e11c1cf88f9cbca', '4df965a5fa6e202c', '8813269dfdae9ece', '965bd60b2acbd2c7', 'bc1f4e97f7776b25', 'd8afe121983de8f3', '810da1244513dea9', 'e8043b920591fffd', '827e0daaee55c288', '8ccd046695124d28', 'ee2de46c9e96b92c', '5a0175499db5f415', 'f35c472306ddc5f9', '9faa52abc1169208', '4c7488f93df29188', '21530842739ab6be', 'ff75db6c6625e0e3', '6ed59b1b6768459f', 'd31651d8c2b4fd05', '3de6acad072d9217', 'df7482c7a2ea07b3', 'fe098901e21fb40c', '8d109c887d359db4', '6f72e4bdf1406bf8', '6bb625b277d21a3b', '9bb5f149907ba45b', '899b4e6f7cf8b49e', 'dcca6f1bd950037d', 'ba65519f7024200e', '1b28cecbf23dc2d4', 'b34fa91d1d2150a1', '57bd3c83dfc3b564', '47f93e491b86f99a', '73c933f041881c9c', 'a1f50027b75ebde0', 'd6ef920446b65194', 'cc5802246818602f', '448cc0eec7b4d56d', '4b43b7656a493cf0', '08d0ee6304e76b12', '72c89c8cf54ba50a', 'b32699a6638a1df2', '497a7125d3718eab', 'bbaff1ee8b5aab9e', '9a4f01bfb0f7e0ba', 'bffff5e4591dd3d1', '66caace39a7924e8', '274581f034680d0b', '106ef65424285339', '3c67b2c604c0df39', '4da63ac33800acd2', 'd4d39d3186224fa1', '4e3d261d73ddd7a3', '91329dc6b0660d76', '7c27c35f1fee1433', '9f460379bd2d1fc8', '5bcde6af87fe94f4', 'b258f7f0e990fe27', '0df90e01220f41ef', 'b7c47cc83dd5aff4', 'ecc60fdc5a1e6342', 'a9c335cafa733c07', '035426f6958ac32a', 'ab9645f832e2486b', '19ace880c6a16aeb', '3314474419d62552', 'eaf25e640695a9c3', 'd78f4ee965b9ce53', '840221ce6887d2a6', '188fd7765f5f7279', 'd8ed498849c501e5', '81231261ec16744f', 'a71f49a6dfb3a3f0', '153422c1bad666a3', '0c40d35b1af326e4', '9f73add49dcedc18', '7a81db8d8375c6f6', '03b0f02e0b243507', '985c70f6e9c7fe98', 'b625c7c563f6a69f', 'be49d6b359a4bb0f', 'eb78a9c029997488', '1ec953d9f179a20b', 'f321250b82841ff4', '0bb290e9a854de3c', 'b126a55db8706c48', '27e0fe1826779d4d', '848770efdd02ba7c', 'eaeded396860f0a6', 'a186c4ba8fb8cddf', '38e7fe7bb1383a9d', 'ba89fe852131c32e', '73282616154e7bda', 'be78fd3fc69fd2c5', '6ea3656f9da4680b', '1287b6a0248fcd97', '264bf5cddd0c2e7a', 'db1be7c1e355a41b', '14966f26903385ae', '90e05d4262c6608f', 'a4a3c63939dec6dc', 'e0146ee4395b4cc6', 'aa300df6fa67fe1e', '02739734c8106683', 'cf21676f0ded6a38', '0157fe50ec88dfa7', '6383cd210943e68b', '60be5fb03c9a9c56', '25a7ad7917d932d2', '341d42572c406a48', '6a7bc1f5218acead', '404ad3ddcfdfdc15', '8c09d4f569c1ad43', '107793e3e04fcb23', '03675126d073adac', '03ae4c58f1451ffd', '6b3f87251d2aa21c', '710800ae6b556913', '62e05f6e5e876133', 'acdeab6eb6d2bfa3', '78e0279508395649', '98d75bacbb630ff3', 'd89db19388a241fd', '71a8c8f2cefdbbbc', 'e3d13c6444203278', '63c6cea0c3893c37', '2ee971f33d91718e', '0953bfe5f9de4dbb', '4bb1f8fe0fffb12c', '0416efe38770794c', '7659db247d59d039', '387fe03ea7642d59', '9351e13572e7aee9', '5fc45cee9992c1f3', 'c98c9879c607fdb2', '112c1d2fcbdecb50', '7a4ce68dcb06cdb0', '8a101ecae3ac1fed', 'f831ecb86430708b', '2e1e9cf592c32b54', 'ce7c2177d2bc11fe', '2ec771984eef0282', '9af4ac4fa544a908', '1bf5f3d1e77e90fe', '60b2645cf610d351', 'b6222f0413d28961', '8b62563ca4134bc9', '32ef004bf4f08482', 'be91dd307d68b611', '272e9add9b5d98de', '9f62e20782f70e0e', '7f6f621e1d511706', '7994662f4f705cfc', 'e6253f57dcd7f94c', '2fb79853549a3768', '53e8362265cb7088', '6b276b3350c988c6', '11594c0614666be4', 'd39c764e791ce622', 'f80697d652b7cae2', '5d90ce0f9882a316', '5a1559d6649eaf9f', '6518407413589d02', 'ed90e7d2141b2f28', 'cc027347fb75c94a', '3426fc0d4af0da92', '1525d632652f2c2f', 'b707171d159cb359', 'cc33db39ec0a5f91', 'f155674b2a7eef02', '8adba9d3eaa71d6d', 'abba74fe61aeaf58', '57392ccf817e8cbe', '8086f983c71e19f3', '6921f1eddcdbebd6', 'fa110ac4b3c9506e', '27e8c39129260872', '254f42a731c5816a', 'd37bf4d8ed1f5724', '2ed9b8f7cdcb0b3c', '43031356d7722cc7', '994cdb4cf42e354d', 'c84cca414de063d7', '90d16ae6be5deca6', '2f226a6c79f2359d', '2d8755a146306eec', '90c6b55e36fbdddb', 'a5229d6d1d32d71f', '0ea06e92e417616b', 'e577d2ff352afe62', 'e8f3875e1d9de1da', '4613408e0dcdf174', '4ebefbe5c95e7e5d', 'f04439cf5bc3090f', 'b94d0d27d9ca1e1d', 'b64520b2d2f94f08', 'd15a41f87656f30c', 'afbbfac0d1568ed5', 'ff7425a4a76215aa', 'b07dda7a735b353f', 'd9f551e4c32021d6', '567a0807db8e1374', '22f53d33573f9aca', 'e74c10976bb294d1', '2b9f33e5d0453b98', 'e7f85d312c57cd3f', 'f80a5d0efc2d2717', 'd7764c91b9ee2720', '0c626c5eb9077b2a', '31899851372b973c', '7637a9c6176ab891', '084c44ad6a892925', 'fa6c85c07683ad4e', '44832b9774c4747a', 'c916530687dedf0e', '4b838828d8d04a35', 'a256fc9fdc6a9a97', '0d819a9532703a74', 'bca51b610ac4cd1d', 'd06153b122d79b5f', 'c263a21b3b96ffdd', 'a2fd4abb73838c59', '3c995638a9ec8ced', '1bc9be4060bb1a97', '5bdfae31115ce10b', 'bbdbb502f94ce686', '37c37fafeef4b3f4', 'cc0db0422278983e', 'eb3efcaa7bd807a3', 'f86f31683fc27d11', 'cba2981786d7f5ef', '8633cfacdf4dda7a', '447e3c84da43bf72', 'ddbee05462e14bd9', 'f04252fd4f2eee96', 'e8c74d6d2842fbad', 'bb2b8e6c92754f40', 'b90c3a9e7fc02503', '2ab5f00d4af41ac5', '5163d80820e9185a', '9c3298e65eedc0a6', '1920cb1707f95834', 'fc447f43108ff95c', '8191f931109d83ba', '464c463debd8f1c9', '9938f05b68c0c993', 'e5261750d2ec461f', 'be136b9112e40acb', '81a64fe364c49cde', 'f94cc0e7e92754b4', '1098b7fbf1ad919b', '7755452b96ad6542', '72c5b6cbe3195c2b', 'a933d393137e6865', 'a6049080c7922d54', 'f780d0708df153be', 'e6d1a24450b1280f', '2ca55c412333b9b0', '87c0bf29420435c5', 'fa3e7e80bd072dbc', '5fac902bc90e5d17', 'c56410b08dab4cca', 'ec0ac0761e03ed07', 'd3b7f6dc5bf975c2', '8ac19c8c2fa64779', '262ab219a148920b', '338bec61fd49b89c', 'be34b114c2019e69', '28604d744ff19abd', '5896715d7df4758e', 'ed24d96e62d8a14f', 'f2704d61e406eda6', '6378d65fb3a575d2', 'edfb66189fc52eb9', '95cf20dae7554f34', '4559f06c35d38f87', 'b93f0157b502b4f1', '1bdf16eaaf8c2414', '99936f45b50bc84d', 'f3aa116c31160927', '230aa8d2343d451b', '749f4c21d9234fd7', '9ff3f61dee7166db', 'd0fef06fb3878786', 'ec9df33631e1566a', '51c10272e5f1c73a', '492f71111a312d3e', 'a371cc9e8bfefcb3', '88380e1313e41a59', '5d97acf1449bea23', '00dbbe26b577f016', '6479eee4aeef2a40', 'f8967f13f8afa4cf', 'e82a1ca1a84994a1', 'f8ef71047e42ebc6', '70aab01240d956d1', '3ec05f0064133c57', '5a5829e4debd277a', 'd8d794dc4650e831', '9eefd464978227a6', '2a49b05832996d1d', 'f58bd5f1fd2692ad', '3767bc104d6fe6e6', '6cb62a6e16981795', 'db6b4a470ad28683', 'f43fee3add0e1e6d', '5b785804ec300231', 'dba5ca23b5e0c151', '1b2c3577835bbf98', '02e93153fabc4cc0', 'cadf900611e3cbe9', 'd8173768aaff1225', '8ca1d8c3f4a94411', '235db70164dd5775', 'e14cfdc5f6d3e81e', 'c5d978541d8b4f00', '44e26236e6e4832a', '7b4a60c2f358e1c6', 'e8dcb08b2d1fe11f', '11674b1e18af9a2f', '129311153dd44cee', 'a0b4bb8c7daece06', 'df028d828f3d1316', '9697921347d5646e', 'd2e7d4db48133b8e', 'c0ddcd788fd5f379', '859ef29e74b2c05a', '1f64c3a857dabb07', '0338ca3ac1db8024', 'f80784b0eb3fabfe', '3b5b45661e3eec14', '4f822af086062123', 'e0bd5375edfe3745', '883a23c167218a14', '9418a5426ca61194', 'a5cacc46cf8ed075', 'b512677802971836', '6fb40dea0bc6b1a1', 'dddee98ff17a7f04', 'df427d823fda36e6', 'a5296e230fa4366c', 'b74f0dd6e98e9af1', 'e872468f0ee2842c', '2be492760073ecf5', '72409b7a7d0deee4', '8769d31b68d3e7c6', '00466f7e75594a3b', 'cb10bc813e685def', '267073f27132d693', '77176009656b6268', '3dc7adfece1afff2', '63506284012a5988', '9e924197be88ae6c', 'edac0a12463f63be', '058f2ab4936aa462', 'f20bdac8fbdf92d0', '49070d47f8945d74', '84a4e0a900d14d7a', '26d8fe80d7bc6635', '73e1a1583cf76091', 'a53b400215d8e8a1', 'b2b6d5ad8920243f', '9be1047b35a23a57', '8af13b3dbbc64168', '25c1b7ff33a9124e', '95a2508d7650ebcc', '94fd02cbce6cca22', 'd91bed10a559971b', '9bbbfb84cca85365', '7c07ee18aa02d235', 'a4df3a0e993e8a1a', 'a1a7a98d4d14fefc', 'a133f397afa9cea1', '58b7981ce2c0d41c', '3a14eaf503e6b8af', '2f635f0b67d74a8e', 'ddb97e89b12b8592', '0ce515650fc4dc7d', '8cc701b82fcddbe6', '358ced9a7e3d28cc', '168e0e4f59e8cd01', 'c824d2b093ad5204', '9e3190b7a28c5b95', '7e3f706bb7dbb6e1', 'ac1e1cd9ae48aad8', 'afe7830d3fa32259', '5f0b60b194d0df21', '9ce3d21ee8640b34', '3f8e5a78dd3ad792', '68374ee1ad550d5c', '87eb786192489875', '9d5872e8ccd8892a', '81f74578afad48f3', '611093d8ef22fe09', 'c2d4a70f431ddbc4', '0271803af726afb7', '401e717d5cedfe50', '4386b3410e809ad1', 'd936eb5a0f5ba655', 'b3060063a196eb50', 'cee4b7c0b3894172', '36b795ac2204125e', 'abf42ed28c51e85e', '316dd755c812eced', 'e5b4d44e34619509', 'dfe88b3ff4314708', 'd83655bd6a1fe6e9', 'c1b7c7f1f216a37c', '85f889121e852aa0', 'fcca48a9de0d97a3', '53651913b71f8435', 'ab48ef8be9906981', 'a1b93d76189a6cbe', '1764ad5e75022560', '944423e43fa6ad79', '57132cf7700f8983', '66f6434d8f489619', 'e1fc29cd5c1a52bf', 'ca3af7eb8d114007', 'ba65ac6467efe265', 'f22794a68403f6da', 'a50ab4cc416af517', 'dcd91bd9e87b5408', '615c0306f04f8465', '9da7822b88d7756a', '3c654327c1407e5c', 'bab2cb7ecce5f079', '6b834efb4a8c03be', '831f5a827e1d3514', 'c15cc3e57e29731c', '737613aebe6fdafc', '66af1f2587da0d64', 'beccf9a6e19be670', 'abc3e43c89794ca6', '3c1458c85c2d9791', '9043b7787fc28765', '7f666f6ad20e5c1e', '68223f02d0cfb527', 'b114de232d7fc8e8', '5669536dcfb1e3b5', '8612b6a73e332abc', '81e775423c3eacf1', '6a2c871f8e1b4dcb', '385488477c8a8807', '7b87c2c731593c3b', '8080c3e549d35abf', 'c995025b747fc0f6', 'a892bf0955777baf', '341608d6985af9b4', 'ffb134c16a0d605d', 'aa51d6979a422cfa', '6ffdffb6ed5396aa', 'f3c9c8ca17030964', '19c579c054e52dec', 'd49593d84b8b1203', 'e17a7172c90d52bd', 'a6fab100d821cf9b', 'd314491adfdfab39', 'dc6cf0b50c3eb1b3', '46a54fe916297f40', '9b5a2e81a335d30c', 'cee228a27c37cebf', 'f2a5b3c4ac94b266', '68fba53392cf9e44', '831bc2a44279869c', '7f2a8c327dece773', '3d5f2f47231e7669', 'e00ab8b42d265fbf', 'dce4c38a1ef608e8', '52bf63fb5c0d3b06', '98a2d47714bcdb70', '1d9c2b95b35aba1b', 'e3e7fd10f8c2b46c', 'af9ebe54002d6151', 'c64e47404fae6d8e', '228b427ecf9ddd96', 'c855dc8bb1b4a74d', '35f920a94d8dcb33', 'ccb0f48286befd11', '160a916b135b3871', '3d1d168e062174c0', '6f5ac5ef0a5492f8', '37e8789ec3adbdcc', 'b440cfba61d0d3c8', '9551dc0926267827', 'fa55b86d1538d52f', '8020f6a0e429061a', '78d4e3971688b43b', '2963a9a06a4345b4', '9d99105f995922b4', '3d3a13077f5d6ecb', '17737ce23321ac63', '6012c9c1bc77d36e', '708da7bc6c0748db', '28560a272c1a4ded', '229cedd1c8cc93a2', 'f5d3e0a12aeac123', '66fdce8009fe8cfe', '57ab8c6cd9803404', 'c40b0f6009c9a9e2', '7c9715e6af77087b', '2ebb451951914092', '25250fdf63e53696', '1c497f19e29bacb1', '663cf0d19370327e', 'eeb35a9e5d5a14d9', '8999e5fbb4424e42', '92462e8bf247cb4d', '5b988e29d595298e', '2c751d058a5d4b3c', '9f94179c4180d093', '3abe08972c06377f', '4b88f986470cebd6', '0ad15cf571463d1a', '4f1607b643a712e7', 'eb4968d34dc62024', 'dcc1b4a1a5f90c2f', '9f71c2fafdbf4ffe', '04fc63c175385d98', '361cc27b0debfaaf', 'd31dd1a6b213c8d4', '98c5b5761f1cba2c', '77ffec602d786702', '57ac3aa749714233', 'b829a051724e7e64', 'fb75a5baae7cc6c7', '82eed810070c7364', '4f33e33e0db91b68', 'de0d644257f82061', 'd393b347ede7ed47', '5dd5fac5f42137ef', '83f36eab3fc7e50e', 'cf96641bc30d8ee4', 'ebf77ee8986ce2d4', '576cbc912eec91c2', 'da225ddab050c989', '142400653c163d80', '05b8deb6e23b60fe', 'd4fbbd95f6167536', 'f63ecf0b5a99febb', 'd884d74f3a58ee70', 'fe46b704d7c29238', '1973332925fe2c97', '8541369e9f5e515f', '3fdfcd025c6d573b', '084a71bc7ed3ef8c', 'abe7944407e10a97', 'c171870abbf8dec4', 'c6c6a3d695eaee7e', '5ba99dc0d0088e31', 'e2eec9f4edb754aa', '86a9a00cbdeffdb2', 'a877d92dec6ca3b7', 'd06087e319b686e6', '0a5ef27bfb9db026', 'e586e928c0b37040', '663be180438e49b5', '6d1bf0435189307e', 'c00d4232541571f2', 'c5056bb634e7d65d', 'eee244a240b3cfdc', 'ddc041d1827e224e', '35feec5fd8d4507f', 'c5982e2475372b23', '3890e78018ec1e4c', '338158b4e2e90f28', '35265bf2a55d877c', '87414124a7c103c4', '2d38af6d316792c2', '5127f1d999286414', 'ae9da2d571738af9', '9220d2486c1de140', 'd69dcdf3756af1be', '89f4bf57fda607a6', '57d1d36d563841b2', '8b84dbead87d1079', '13f691ce1e178af5', '638cbd13f2b87790', '3b5982b7f63947a6', '83d38dd7efa50f3c', '8749999746ab534b', '00b1466860e4f247', '07ca9fb1b8d813a7', '638a31a0cae9736d', '1afb2bf17f5641f3', 'e90a042f2d870a1d', '18c181de54869c03', '59ac8a7ae26b6bd4', 'ec60eaf45bd91563', 'df55aef26697f5d8', '086d516ea379a7fb', '5ee4a6f1ffc4b6b2', 'd4dfc7aa1f140968', '281e86b96f836a15', 'b37dfae79ef25a35', '7ffb22ee8ab7e109', '0a46de1306fae030', '86e0a894dd733b9a', '0e4cac489a4ba166', '388277592cdba666', 'fe5b35edcc459143', '528fbfb24e2ebec5', 'ce3ab7c7e816350e', '15230789e39cf9c2', 'ffa0eda37bc2aeb6', '7ceef54f34890457', 'ad83e1c7cbadfe16', '14588dcf3e6cb4ff', '0a5be55ae1e4b1a7', '582788cd0d1daf44', 'b4754096a878587a', 'abe5d592fdad9186', '2c3438898a7bdaf4', '17d91254deba6903', '98f7262b9e2a35b5', 'ce69f8073a716aa2', '9a246ee3f68cd662', '3b46bdebd8e6202c', 'b90bf36dba13a331', 'f05bdf3a132cd756', 'aee4214e3a44b848', '7a21f02e6b67c445', '703e78dfebea6176', '67ccfe5666249894', '7bedfeeec0c18b38', 'efd72105a76463d2', 'edbe6a0df921febe', '054e7b945c14e402', 'cc133aeb694c00b7', 'ad9599723feef3ac', '9a90b7fda6fc72eb', '0cd06c4de94492b9', '00ffda7cd4196c15', '516d4b9a568f49be', 'd70d530cad4270c1', '18777fdc7adeab16', 'e8fc3d800fb7d8d9', 'bd157d03a6f4173f', '4a3ab50fd594b791', '9f58db853890aaef', '6f800e6b9a2fb222', 'b15c85147419167d', 'd130b2d031cbcd47', '82581ec13babaa4c', '4534788f6f7d2c36', '47989cf3f4b7cedd', 'cef7ba04f10873d1', '3e6fd921bbef1eea', 'a08b27f43aece1fe', '4ac1968dc5667d68', 'b2461f45309ce1ae', '050a3a03bd4b6c27', '66beeeecb66925be', 'def2da5cafa5b253', '5110c28f113aae5d', 'e9b8bbbd15e534d9', '9546a0f859854dff', '8a0b6f3ae4a15330', '3cde56e349de968b', 'ac1085542a848778', '05dcdc75b70e423f', 'ce0080cd96430889', 'b424240e6f371f93', '32edd99aeb19f2a1', 'aa28cf7d6b6d7dfa', '0a77e872d138a4eb', '9650f4796167a517', '6dd04df4fff3b26e', '888d77f7261dc162', 'e7d405146eb9db30', '3e4b56504898400c', '2f29c267591c0172', 'b11fa1d292114aaf', '2025d72186f3ecf5', 'd8d52a6ccbf77ea1', '8c334f5d1d0e91c0', '687dbd4578810187', '68d851c38dfea7f2', '629f979f40da724e', 'c9000251ff51171b', '3a151ed482ba5ab9', '39329f7b991bcecb', 'f47fa774e7f2bc92', 'eea58e81eec192c3', 'efcc6d44d0608d86', '847735d8f8d432f6', '5fde44a0ceb00cb6', '8375fc65278f4b46', '041690a4638077ca', 'ef290660d21231c9', '8b203b48383086a0', 'd3112af5d94e2a16', '7684cfaa0c347a37', 'f7a064d5717ad2b1', 'f5b0f42a43221456', 'd2496f41f38dcae3', '2a8da72796efdab0', '0a3187bf400637cd', '3e4ab03499415665', '4cf7c43af9e45176', '39d7f228f203e6ef', '5f47572d7dcfcf37', '403ceb1e37460efd', '59b3f354d46a2ead', 'cb2e4e69e3e585a0', '5f5668dc7569d8fa', '04f2cb141eb757a9', 'eca14da176fad975', '7c49fc1f217afbb7', '63cdebd32cbd02e1', 'b61e7b2a4c713f7d', '4a05edf473b246d3', 'b27fe54e3f74e539', '697414d208189010', '0d0af8f4c9687d43', 'a3fc4aed18c53459', '3e9bc22648749055', 'be7ddb845dbe4547', '2c43b9f33f53fe99', 'c83a65c522c662c3', '39897a0c0e5ab1c3', '3f0f64db3fa93a0d', 'e3cf48cd12f02e61', 'c5b0ff1bfef659fb', 'a9bb38117b28485a', 'abb4bbc6481f655d', '008cedc22873dcbc', 'd5423b5e897a9e2e', '69178a5f894e260e', '87f691b5fcd4d298', '388d0a707bda761a', 'ebf233e9e48af693', 'f0adec04df23e2d4', '85cc8058ab72c44a', '0097bf7c09d322fc', '61d481886e590e00', 'e7e989af2a1e5faa', '4f26661ae47554cc', '144784b6b1d09e7d', '683822f27b404600', '8c0cf0d434864ecb', 'e74d68cb2ab32f66', '5ef74a449e568bf6', '077ed83225963c2f', 'cb9c2d9a84c35d80', 'a6fd9ab432a9f616', '3ad505602f4f93c0', 'da8e0051042bab41', 'e654ae8be9dd0ce9', '9543fc46f8b63a06', '0b20d9a737f3a1a7', 'b47c94940c48b3d2', '17ad2d04febf840b', '6a174fa60ce0daff', '67e15b1ec4b17ff7', 'c87c0a1a102729e6', '722a0297171e28b4', '24f4bb7a24339b17', '4a80d22ffd1066ac', 'c1ad42cdc35d4f6d', '9a3e02ea3fe00511', '599cb45cd2657558', '2ef305d3227a5833', 'a772484f4c3a70e0', '527e34613cc5c420', 'fad6e0cafac4d89d', '63ba91c2e0531ec4', '6d09555509875de1', '03bf5b83613e3ac7', '37d2413a6b946a82', '1ca3850476e3a9ce', 'a536fc6a7497677a', '54ee22e60bb2f22c', 'cbc01910c9756e41', 'ac2cec4937ccbbb2', 'e27cc4c4210bd966', 'c9ae663c485c7bdf', 'bd682add3e85f2c2', 'fd483b982f20be9f', '731ac465e011fea5', '83f5325078fdabfe', '86f3d9f154aa87e8', '35c5ae982f54b488', '953eff274a668b03', 'cd7ec3b3b569b3ce', 'b8882873987546c4', 'dd9a4c636ec624ee', '6032ee3b4aad42ba', 'd9e6090df27486e1', 'b983fd07fb34174a', 'c4feec2c7facc7bd', 'd731751205659b85', 'bc4cb9f93f9609f4', 'f9d68bc71f177d34', '7d240085dc354a7c', '2a3e5e772570cf46', '644e8445bfd5a341', 'e21a8d76f5ed384d', '32287b05fbc31fc1', '007e19614def49f9', 'be40ce59ebdf9112', '673abc46e7427e34', '21fba6711c73c5ae', '46072341748b8048', '4d5746b27685c282', '98c7dac027d9180c', 'a8d6a9eb21797afd', '5806bb3c618eb0c6', '8194443c792ecdb4', '3090ffb748f971fe', '1d1059e3cc2a3992', '57e52c1552efcd5d', 'f5900cf0987650bc', '5dac52cd4ba7b87d', 'fc9618d8f1220f28', '41023ff01eb4bfcc', 'e992956103a2f398', 'f99aed744da2cc72', '11b7fa01521a8043', '6634e78d9acf7cbf', 'fe84c4a7c23bfbbc', 'c234059d0f8c1f1d', '96971382fd46edcd', '607618daa9c7307c', 'b3ee8c2121e08f13', '9763ee142fe12cd6', '3b638006d284940e', '3954741611d50300', 'd5b4ec22a904ef5d', '833066514a6f2fea', 'd233a71cf0244ae5', '9e6e589cd0e7f851', '12b7e310e93488e5', 'c7beffeb781dd75a', 'df0443176b04969f', 'a2ad9fd7adafab36', '53e95d647ca640c5', '683f5dad941517ca', '4fee02cca72b9627', '9a9884dfd6ae7cd1', '514626120bfc64e7', 'a5e65ccc45e6b9da', 'dc7d6080898a5d82', '68f783a10a6d5829', 'd1873fb5724d6910', 'af5db7c06d12e17c', '56d9e7c21c7e9945', 'c27148164cf31ede', '8cf68be3b716ad61', '1ba43ba4937358bf', '43a4fde71a70981b', 'e11437ea6c3b1f40', '677df267bc74873a', '11e4dd7ba9607849', '3c9ae15e66ce705c', 'd0399cd31f3444f8', '81324fdce6f87c38', '2a4a247d019824b5', '81edb8b7b9d8c4ac', 'a038fa41bb92d7fe', '3face7abf96c9b74', 'd7ae9f5c40982522', '8b570935b9668466', '4657537b61b3b585', 'c770ddd5bef22773', 'd79d51c24dc136c0', 'c3f3cba246e14b78', '8f0c039a6d136a35', '430369d0264f8010', '1860de4df6d010bc', '6a322462c3cf098b', 'a896400918eada5b', '8946c040cc569cdd', 'da5a183c43a40061', 'a6889da61cdea922', 'd60bc40890ce531e', 'cb20aa4fba537722', 'cc656cf8a7c0fbb3', 'd52b0692a45aff8d', 'b8c0acdee442ef6e', '72b7b60d9f4e82a7', '526fd805151d68f6', 'a9e4e477ab9f937f', 'e2a35d28dbc7444a', 'fe7ae360e9281878', 'c5fc23d5762f8846', '414b7e3876fb27d2', 'cc325fad874a3c9c', '63e0b46061b404c7', '438f8815abd6393c', 'e8a10b6e7de65199', '809f9da4f7adb02c', '1a6960997ec7c130', 'af0f1f16d265c9b8', 'f5de31eabddaa7ce', 'b1a460b0ac4b35d6', '5bca74d3f891ef4b', 'ea059dbc0a336b7a', '72231792d60f9b40', 'f5d88a1a5d0b6c6d', 'c393a734eab82339', '803ddb97cc643b72', 'c0eff59398d15c82', '41edc2d36b0c28e5', 'b752c1f5be328955', '5de3756ddb733b33', '858f9188b148a810', 'b6bb681f5ed4b7c2', '76bc6f3d05911dbc', '67e5993ce320c81d', 'b30f323bbde1349b', 'fdf69d8d7aab5ed0', '7d5d978eb3d73e3b', 'e06879e9313caffd', 'a88a884db0bcaa20', 'f445be4009e8835f', '96a2ad568865ca83', '66ba2ee6b47d6a70', 'bf59afe90d612b50', '88c9f179acf88d67', '8f943b801e763b3d', '749bc247755b4d47', '202caed6c1ea164a', 'ab1f6293a06751e8', '1c87c33752bdf81b', '29ef974793cebb67', '559784f4b4318afe', '7b5aac0edb578dbd', '40b65207361009fd', '52807de138a5a18e', 'c8f6f30bf5dd16f4', 'b30ec56c17efd76e', '7f05b63383f6de9c', '6ab54d7bda600eac', 'd8a63d2ec11e0dad', '432d3fc4b2bbf036', '1902b5e3f3add799', '96c7dbbe521c079c', 'b3460980c1f93c6f', '10e64713a48a9d2f', '04a5accf95de3991', '3719f7e6a64e3bd2', 'be2d1dba622c276c']\n"
     ]
    },
    {
     "data": {
      "text/plain": [
       "False"
      ]
     },
     "execution_count": 46,
     "metadata": {},
     "output_type": "execute_result"
    }
   ],
   "source": [
    "def quicksort(names, first = None, last = None):\n",
    "    \n",
    "    if first == None and last == None:\n",
    "        first = 0\n",
    "        last = len(names) - 1\n",
    "        \n",
    "    if first >= last:\n",
    "        return\n",
    "    \n",
    "    i, j = first, last\n",
    "    \n",
    "    pivot = len(names[random.randint(first, last)])\n",
    "    \n",
    "    while i <= j:\n",
    "        while len(names[i]) < pivot:\n",
    "            i += 1\n",
    "        while len(names[j]) > pivot:\n",
    "            j -= 1\n",
    "            \n",
    "        if i <= j:\n",
    "            names[i], names[j] = names[j], names[i]\n",
    "            i, j = i + 1, j - 1\n",
    "    quicksort(names, first, j)\n",
    "    quicksort(names, i, last)\n",
    "    \n",
    "def bubble_sort (names):\n",
    "    # Write your solution here\n",
    "    for i in range(len(names)):\n",
    "        for j in range(len(names) - 1):\n",
    "            if names[j] > names[j + 1]:\n",
    "                names[j], names[j + 1] = names[j + 1], names[j]\n",
    "                \n",
    "def binary_search (names, match):\n",
    "    \n",
    "    # Write your solution here\n",
    "    low = 0\n",
    "    high = len(names) - 1\n",
    "    \n",
    "    while high >= low:\n",
    "        mid = (high + low) //2\n",
    "        \n",
    "        if names[mid] == match:\n",
    "            return True\n",
    "        elif names[mid] > match:\n",
    "            high = mid -1\n",
    "        else:\n",
    "            low = mid + 1\n",
    "            \n",
    "    return False\n",
    "\n",
    "with open('passwords.txt') as text:\n",
    "    password_list = text.read().splitlines()\n",
    "\n",
    "quicksort(password_list, 0, len(password_list) - 1)\n",
    "print(password_list)\n",
    "def password_exists_in_file (filename, password):\n",
    "    \n",
    "    # Write your solution here\n",
    "    with open(filename) as text:\n",
    "        password_list = text.read().splitlines()\n",
    "   \n",
    "    quicksort(password_list, 0, len(password_list) - 1)\n",
    "    \n",
    "    return binary_search(password_list,password)\n",
    "password_exists_in_file('passwords.txt','14588dcf3e6cb4ff')"
   ]
  }
 ],
 "metadata": {
  "kernelspec": {
   "display_name": "Python 3 (ipykernel)",
   "language": "python",
   "name": "python3"
  },
  "language_info": {
   "codemirror_mode": {
    "name": "ipython",
    "version": 3
   },
   "file_extension": ".py",
   "mimetype": "text/x-python",
   "name": "python",
   "nbconvert_exporter": "python",
   "pygments_lexer": "ipython3",
   "version": "3.9.12"
  }
 },
 "nbformat": 4,
 "nbformat_minor": 5
}
