{
 "cells": [
  {
   "cell_type": "code",
   "execution_count": null,
   "id": "5591b6e9",
   "metadata": {},
   "outputs": [],
   "source": [
    "def bubble_sort(lst):\n",
    "    n = len(lst)\n",
    "    for i in range(n-1,0,-1):\n",
    "        for j in range(i):\n",
    "            if lst[j] > lst[j+1]:\n",
    "                lst[j],lst[j+1] = lst[j+1],lst[j]\n",
    "    return lst\n",
    "lst = [3, 2, 5, 1, 4]\n",
    "bubble_sort(lst)"
   ]
  },
  {
   "cell_type": "code",
   "execution_count": 36,
   "id": "74d4f16b",
   "metadata": {},
   "outputs": [
    {
     "name": "stdout",
     "output_type": "stream",
     "text": [
      "[1, 2, 3, 4, 5]\n"
     ]
    }
   ],
   "source": [
    "def bubble_sort(lst):\n",
    "    n = len(lst)\n",
    "    # 遍历n次\n",
    "    for i in range(n):\n",
    "        # 每次遍历将未排序部分的最大元素放到末尾\n",
    "        for j in range(n-i-1):\n",
    "            if lst[j] > lst[j+1]:\n",
    "                lst[j], lst[j+1] = lst[j+1], lst[j]\n",
    "\n",
    "lst = [3, 2, 5, 1, 4]\n",
    "bubble_sort(lst)\n",
    "print(lst)  # [1, 2, 3, 4, 5]\n"
   ]
  },
  {
   "cell_type": "code",
   "execution_count": 3,
   "id": "b984a272",
   "metadata": {},
   "outputs": [
    {
     "data": {
      "text/plain": [
       "[-7.6, 0.1, 1.1, 16.9, 19.8]"
      ]
     },
     "execution_count": 3,
     "metadata": {},
     "output_type": "execute_result"
    }
   ],
   "source": [
    "def recursive_bubble_sort (intlist):  #没有用swap的标志\n",
    "    if len(intlist) <= 1:\n",
    "        return intlist\n",
    "    else:\n",
    "        for i in range(len(intlist)-1):\n",
    "            \n",
    "            if intlist[i] >intlist[i+1]:\n",
    "                intlist[i],intlist[i+1] = intlist[i+1],intlist[i]\n",
    "        return recursive_bubble_sort(intlist[0:len(intlist)-1]) + [intlist[len(intlist)-1]]\n",
    "\n",
    "in_list = [19.8, 1.1, 16.9, 0.1, -7.6]\n",
    "recursive_bubble_sort (in_list)"
   ]
  },
  {
   "cell_type": "code",
   "execution_count": 6,
   "id": "aff052af",
   "metadata": {},
   "outputs": [
    {
     "data": {
      "text/plain": [
       "[-7.6, 0.1, 1.1, 16.9, 19.8]"
      ]
     },
     "execution_count": 6,
     "metadata": {},
     "output_type": "execute_result"
    }
   ],
   "source": [
    "def recursive_bubble_sort (intlist):  #用swap的标志\n",
    "    n = len(intlist)\n",
    "    swap = False\n",
    "    if len(intlist) <= 1:\n",
    "        return intlist\n",
    "    else:\n",
    "        for i in range(n-1):\n",
    "            if intlist[i] >intlist[i+1]:\n",
    "                intlist[i],intlist[i+1] = intlist[i+1],intlist[i]\n",
    "                swap = True\n",
    "        if swap:\n",
    "            return recursive_bubble_sort(intlist[0:len(intlist)-1]) + [intlist[len(intlist)-1]]\n",
    "        else:\n",
    "            return intlist\n",
    "in_list = [19.8, 1.1, 16.9, 0.1, -7.6]\n",
    "recursive_bubble_sort (in_list)"
   ]
  },
  {
   "cell_type": "code",
   "execution_count": null,
   "id": "5dd86886",
   "metadata": {},
   "outputs": [],
   "source": [
    "def selection_sort(lst):\n",
    "    for slot in range(len(lst) - 1, 0, -1):\n",
    "        max_index = 0\n",
    "        for location in range(1, slot + 1):\n",
    "            if lst[location] > lst[max_index]:\n",
    "                max_index = location\n",
    "        lst[slot], lst[max_index] = lst[max_index], lst[slot]\n",
    "        print(f\"filling_slot: {-(slot - len(lst))}, list: {lst}\")\n",
    "        \n",
    "        \n",
    "def select_sort(lst):\n",
    "    for i in range(len(lst)-1,0,-1):\n",
    "        sort_index = 0\n",
    "        for j in range(1,i+1):\n",
    "            if lst[sort_index] > lst[j]:\n",
    "                sort_index = j\n",
    "        lst[i],lst[sort_index] = lst[sort_index],lst[i]\n",
    "    return lst\n",
    "\n",
    "lst = [3, 2, 5, 1, 4]\n",
    "select_sort(lst)\n",
    "\n",
    "def select_sort(lst):\n",
    "    for i in range(len(lst)):\n",
    "        sort_index = i\n",
    "        for j in range(i,len(lst)):\n",
    "            if lst[sort_index] < lst[j]:\n",
    "                sort_index = j\n",
    "        lst[i],lst[sort_index] = lst[sort_index],lst[i]\n",
    "    return lst    \n",
    "\n",
    "lst = [3, 2, 5, 1, 4]\n",
    "select_sort(lst)"
   ]
  },
  {
   "cell_type": "code",
   "execution_count": 23,
   "id": "65eceaef",
   "metadata": {},
   "outputs": [
    {
     "name": "stdout",
     "output_type": "stream",
     "text": [
      "[1, 2, 3, 4, 5]\n"
     ]
    }
   ],
   "source": [
    "def quick_sort(lst, first, last):\n",
    "    if first >= last:\n",
    "        return \n",
    "    i,j = first,last\n",
    "    pivot = lst[last]\n",
    "    while i <= j:\n",
    "        while lst[i] < pivot:\n",
    "            i += 1\n",
    "        while lst[j] > pivot:\n",
    "            j -= 1\n",
    "        \n",
    "        if i <= j:\n",
    "            lst[i],lst[j] = lst[j],lst[i]\n",
    "            i,j = i+1,j-1\n",
    "    quick_sort(lst,first,j)\n",
    "    quick_sort(lst,i,last)\n",
    "    \n",
    "lst = [3, 2, 5, 1, 4]\n",
    "quick_sort(lst,0,len(lst)-1)\n",
    "print(lst)"
   ]
  },
  {
   "cell_type": "code",
   "execution_count": 4,
   "id": "b87d72bd",
   "metadata": {},
   "outputs": [
    {
     "data": {
      "text/plain": [
       "[10, 4, 78, 2, 54, 10]"
      ]
     },
     "execution_count": 4,
     "metadata": {},
     "output_type": "execute_result"
    }
   ],
   "source": [
    "data = [10,4,78,2,54,10]\n",
    "def quick_sort(arr):\n",
    "    if len(arr) <= 1:\n",
    "        return arr\n",
    "    else:\n",
    "        pivot = arr[-1]\n",
    "        left = []\n",
    "        right = []\n",
    "        for i in range(0, len(arr)-1):\n",
    "            if arr[i] <= pivot:\n",
    "                left.append(arr[i])\n",
    "            else:\n",
    "                right.append(arr[i])\n",
    "        return quick_sort(left) + [pivot] + quick_sort(right)\n",
    "quick_sort(data)"
   ]
  },
  {
   "cell_type": "code",
   "execution_count": null,
   "id": "0f3f4034",
   "metadata": {},
   "outputs": [],
   "source": [
    "def insertion_sort(lst):\n",
    "    for i, value in enumerate(lst):\n",
    "        for j in range(i - 1, -1, -1):\n",
    "            if lst[j] > value:\n",
    "                lst[j + 1] = lst[j]   #\n",
    "                lst[j] = value        #   [5, 4, 3, 6] → [4, 5, 3, 6]  第一个循环\n",
    "                                      #   -> [4,3,5,6] 第二个循环的第一次\n",
    "                                      #   -> [3,4,5,6] 第二个循环的第二次  value实际充当了 中间变量。\n",
    "lst = [4,2,3, 2, 5, 1, 4]\n",
    "#insertion_sort(lst)    \n",
    "insert_sort(lst)\n",
    "\n",
    "def recursive_insertion_sort(arr, index=1, reverse=False):\n",
    "    if index < len(arr):\n",
    "        value = arr[index]\n",
    "        i = index - 1\n",
    "        while i >= 0 and ((not reverse and arr[i] > value) or (reverse and arr[i] < value)):\n",
    "            arr[i+1] = arr[i]\n",
    "            i -= 1\n",
    "        arr[i+1] = value\n",
    "        recursive_insertion_sort(arr, index+1, reverse)\n",
    "arr =  [10, 9, 5, 2, 6, 4]    \n",
    "recursive_insertion_sort(arr,reverse=True)\n",
    "arr\n",
    "\n",
    "A = 65 a = 97"
   ]
  },
  {
   "cell_type": "code",
   "execution_count": null,
   "id": "4baab270",
   "metadata": {},
   "outputs": [],
   "source": []
  }
 ],
 "metadata": {
  "kernelspec": {
   "display_name": "Python 3 (ipykernel)",
   "language": "python",
   "name": "python3"
  },
  "language_info": {
   "codemirror_mode": {
    "name": "ipython",
    "version": 3
   },
   "file_extension": ".py",
   "mimetype": "text/x-python",
   "name": "python",
   "nbconvert_exporter": "python",
   "pygments_lexer": "ipython3",
   "version": "3.9.12"
  }
 },
 "nbformat": 4,
 "nbformat_minor": 5
}
