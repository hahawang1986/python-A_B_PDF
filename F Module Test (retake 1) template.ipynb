{
 "cells": [
  {
   "cell_type": "code",
   "execution_count": null,
   "metadata": {},
   "outputs": [],
   "source": [
    "import pandas as pd\n",
    "import numpy as np\n",
    "%matplotlib inline\n",
    "import otter\n",
    "grader = otter.Notebook()"
   ]
  },
  {
   "cell_type": "markdown",
   "metadata": {},
   "source": [
    "# F | Module Test"
   ]
  },
  {
   "cell_type": "markdown",
   "metadata": {},
   "source": [
    "# Part I (Core Questions)"
   ]
  },
  {
   "cell_type": "markdown",
   "metadata": {},
   "source": [
    "<!-- BEGIN QUESTION -->\n",
    "\n",
    "## Question 1&nbsp;&nbsp;&nbsp;&nbsp;&nbsp;&nbsp;(30 Points)"
   ]
  },
  {
   "cell_type": "code",
   "execution_count": 1,
   "metadata": {
    "tags": []
   },
   "outputs": [
    {
     "name": "stdout",
     "output_type": "stream",
     "text": [
      "Imbalanced\n",
      "Imbalanced\n",
      "Balanced\n"
     ]
    }
   ],
   "source": [
    "# Write your solution here\n",
    "import collections\n",
    "def check_balanced_parentheses(expression):\n",
    "    dic = {'}': '{', ']': '[', ')': '('}\n",
    "    d = collections.deque([])\n",
    "    for ch in expression:\n",
    "        if ch in {\"{\", \"[\", \"(\"}:\n",
    "            d.append(ch)\n",
    "        else:\n",
    "            if len(d)==0:\n",
    "                return \"Imbalanced\"\n",
    "            elif d[-1] == dic[ch]:  \n",
    "                d.pop()\n",
    "            else:  \n",
    "                return \"Imbalanced\"\n",
    "    if len(d)==0:\n",
    "        return \"Balanced\"\n",
    "    else: \n",
    "        return \"Imbalanced\"\n",
    "print(check_balanced_parentheses('{[]{()}})'))\n",
    "print(check_balanced_parentheses('((()'))\n",
    "print(check_balanced_parentheses('[({})][]'))"
   ]
  },
  {
   "cell_type": "markdown",
   "metadata": {},
   "source": [
    "<!-- END QUESTION -->\n",
    "\n",
    "<!-- BEGIN QUESTION -->\n",
    "\n",
    "## Question 2&nbsp;&nbsp;&nbsp;&nbsp;&nbsp;&nbsp;(30 Points)"
   ]
  },
  {
   "cell_type": "code",
   "execution_count": 10,
   "metadata": {
    "tags": []
   },
   "outputs": [
    {
     "name": "stdout",
     "output_type": "stream",
     "text": [
      "[5, 4, 3, 2, 1]\n"
     ]
    }
   ],
   "source": [
    "# Write your solution here\n",
    "import collections\n",
    "def reversequeue(queue):\n",
    "    d=collections.deque([])\n",
    "    for i in queue:\n",
    "        d.append(i)\n",
    "    r=[]\n",
    "    while len(d)>0:\n",
    "        r.append(d.pop())\n",
    "    return r\n",
    "my_q=[1,2,3,4,5]\n",
    "a=reversequeue(my_q)\n",
    "print(a)"
   ]
  },
  {
   "cell_type": "markdown",
   "metadata": {},
   "source": [
    "# Part II (Higher Order Questions)"
   ]
  },
  {
   "cell_type": "markdown",
   "metadata": {},
   "source": [
    "<!-- END QUESTION -->\n",
    "\n",
    "<!-- BEGIN QUESTION -->\n",
    "\n",
    "## Question 3&nbsp;&nbsp;&nbsp;&nbsp;&nbsp;&nbsp;(40 Points)"
   ]
  },
  {
   "cell_type": "code",
   "execution_count": 1,
   "metadata": {
    "tags": []
   },
   "outputs": [
    {
     "name": "stdout",
     "output_type": "stream",
     "text": [
      "[1, 1, 2, 2, 3, 3, 4, 4, 5, 5]\n"
     ]
    }
   ],
   "source": [
    "# Write your solution here\n",
    "\n",
    "class singly_linked_list():\n",
    "    def __init__(self):\n",
    "        self.a=[]\n",
    "    def sll_double_append(self,x):\n",
    "        self.a.append(x)\n",
    "        self.a.append(x)\n",
    "    def sll_traverse(self):\n",
    "        print(self.a)\n",
    "s_ll = singly_linked_list()\n",
    "s_ll.sll_double_append(1)\n",
    "s_ll.sll_double_append(2)\n",
    "s_ll.sll_double_append(3)\n",
    "s_ll.sll_double_append(4)\n",
    "s_ll.sll_double_append(5)\n",
    "s_ll.sll_traverse() "
   ]
  },
  {
   "cell_type": "markdown",
   "metadata": {},
   "source": [
    "<!-- END QUESTION -->\n",
    "\n"
   ]
  }
 ],
 "metadata": {
  "celltoolbar": "Edit Metadata",
  "kernelspec": {
   "display_name": "Python 3 (ipykernel)",
   "language": "python",
   "name": "python3"
  },
  "language_info": {
   "codemirror_mode": {
    "name": "ipython",
    "version": 3
   },
   "file_extension": ".py",
   "mimetype": "text/x-python",
   "name": "python",
   "nbconvert_exporter": "python",
   "pygments_lexer": "ipython3",
   "version": "3.9.12"
  },
  "varInspector": {
   "cols": {
    "lenName": 16,
    "lenType": 16,
    "lenVar": 40
   },
   "kernels_config": {
    "python": {
     "delete_cmd_postfix": "",
     "delete_cmd_prefix": "del ",
     "library": "var_list.py",
     "varRefreshCmd": "print(var_dic_list())"
    },
    "r": {
     "delete_cmd_postfix": ") ",
     "delete_cmd_prefix": "rm(",
     "library": "var_list.r",
     "varRefreshCmd": "cat(var_dic_list()) "
    }
   },
   "types_to_exclude": [
    "module",
    "function",
    "builtin_function_or_method",
    "instance",
    "_Feature"
   ],
   "window_display": false
  },
  "vscode": {
   "interpreter": {
    "hash": "078e50e66aca83a27e2d07fb5a9b9e3de8b35e3e10725af7f4cce49cd12a68b7"
   }
  }
 },
 "nbformat": 4,
 "nbformat_minor": 4
}
