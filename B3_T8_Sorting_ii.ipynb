{
 "cells": [
  {
   "cell_type": "markdown",
   "metadata": {},
   "source": [
    "### Instructions:\n",
    "\n",
    "- You can attempt any number of questions and in any order.  \n",
    "  See the assignment page for a description of the hurdle requirement for this assessment.\n",
    "- You may submit your practical for autograding as many times as you like to check on progress, however you will save time by checking and testing your own code before submitting.\n",
    "- Develop and check your answers in the spaces provided.\n",
    "- **Replace** the code `raise NotImplementedError()` with your solution to the question.\n",
    "- Do **NOT** remove any variables other provided markings already provided in the answer spaces.\n",
    "- Do **NOT** make any changes to this notebook outside of the spaces indicated.  \n",
    "  (If you do this, the submission system might not accept your work)\n",
    "\n",
    "### Submitting:\n",
    "\n",
    "1. Before you turn this problem in, make sure everything runs as expected by resetting this notebook.    \n",
    "   (You can do this from the menubar above by selecting `Kernel`&#8594;`Restart Kernel and Run All Cells...`)\n",
    "1. Don't forget to save your notebook after this step.\n",
    "1. Submit your .ipynb file to Gradescope via file upload or GitHub repository.\n",
    "1. You can submit as many times as needed.\n",
    "1. You **must** give your submitted file the **identical** filename to that which you downloaded without changing **any** aspects - spaces, underscores, capitalisation etc. If your operating system has changed the filename because you downloaded the file twice or more you **must** also fix this.  \n",
    "\n"
   ]
  },
  {
   "cell_type": "markdown",
   "metadata": {},
   "source": [
    "---"
   ]
  },
  {
   "cell_type": "markdown",
   "metadata": {
    "tags": []
   },
   "source": [
    "# <mark style=\"background: #2dc26b; color: #ffffff;\" >&nbsp;B3&nbsp;</mark>&ensp;Topic 8: Sorting (ii)"
   ]
  },
  {
   "cell_type": "code",
   "execution_count": 1,
   "metadata": {},
   "outputs": [],
   "source": [
    "import numpy as np\n",
    "from string import ascii_uppercase, ascii_lowercase\n",
    "from random import shuffle"
   ]
  },
  {
   "cell_type": "markdown",
   "metadata": {},
   "source": [
    "#### Question 01 &nbsp;&nbsp;&nbsp;&nbsp;&nbsp;&nbsp;(5 Points)\n",
    "\n",
    "Write a function defined as:\n",
    "```python\n",
    "def lomuto_partition_pivot(arr, low, high):\n",
    "```\n",
    "that accepts a list to be sorted and the low and high range of indexes forming the partition to be conisdered for sorting and returns the quicksort pivot value using a Lomuto partition scheme or `None` for a zero length input array. The value of `high` is the actual list index considered.\n",
    "\n",
    "For example:\n",
    "```python\n",
    "lomuto_partition_pivot([10, 9, 5, 2, 6, 4, 7, 1], 0, 7)\n",
    "```\n",
    "considers the whole list and returns the value `1` as the pivot value."
   ]
  },
  {
   "cell_type": "code",
   "execution_count": 8,
   "metadata": {
    "deletable": false,
    "nbgrader": {
     "cell_type": "code",
     "checksum": "ebf853dc74ac414dd41020a6b1e418ba",
     "grade": false,
     "grade_id": "q1",
     "locked": false,
     "schema_version": 3,
     "solution": true,
     "task": false
    },
    "tags": []
   },
   "outputs": [
    {
     "data": {
      "text/plain": [
       "[1, 2, 4, 5, 6, 7, 9, 10]"
      ]
     },
     "execution_count": 8,
     "metadata": {},
     "output_type": "execute_result"
    }
   ],
   "source": [
    "def lomuto_partition_pivot(arr, low, high):\n",
    "    if low >= high:\n",
    "        return \n",
    "    i,j = low,high\n",
    "    pivot = arr[high]\n",
    "    while i<=j:\n",
    "        while arr[i] < pivot:\n",
    "            i+=1\n",
    "        while arr[j] > pivot:\n",
    "            j-=1\n",
    "        if i<=j:\n",
    "            arr[i],arr[j] = arr[j],arr[i]\n",
    "            i+=1\n",
    "            j-=1\n",
    "    lomuto_partition_pivot(arr, low,j)\n",
    "    lomuto_partition_pivot(arr, i,high)\n",
    "    \n",
    "    return pivot\n",
    "a = [10, 9, 5, 2, 6, 4, 7, 1]\n",
    "lomuto_partition_pivot(a, 0, 7)\n",
    "a"
   ]
  },
  {
   "cell_type": "code",
   "execution_count": null,
   "metadata": {
    "deletable": false,
    "editable": false,
    "nbgrader": {
     "cell_type": "code",
     "checksum": "f3ced0c3b4d111a46a294db0df6553bf",
     "grade": true,
     "grade_id": "q1-lomoto",
     "locked": true,
     "points": 5,
     "schema_version": 3,
     "solution": false,
     "task": false
    },
    "tags": []
   },
   "outputs": [],
   "source": [
    "# Testing Cell (Do NOT modify this cell)"
   ]
  },
  {
   "cell_type": "markdown",
   "metadata": {},
   "source": [
    "#### Question 02 &nbsp;&nbsp;&nbsp;&nbsp;&nbsp;&nbsp;(5 Points)\n",
    "\n",
    "Write a function defined as:\n",
    "```python\n",
    "def median_of_three_pivot(arr, low, high):\n",
    "```\n",
    "that accepts a list to be sorted and the low and high indexes of the partition to be conisdered for sorting and returns the quicksort pivot value using a median partition scheme or `None` for a zero length input array.\n",
    "\n",
    "For example:\n",
    "```python\n",
    "median_of_three_pivot([10, 9, 5, 2, 6, 4, 7], 0, 6)\n",
    "```\n",
    "considers the whole list and returns the value `7` being the middle value in `10`, `2` and `7`."
   ]
  },
  {
   "cell_type": "code",
   "execution_count": 75,
   "metadata": {
    "deletable": false,
    "nbgrader": {
     "cell_type": "code",
     "checksum": "60f2c8fbbcdb492cf9c2afac510d4631",
     "grade": false,
     "grade_id": "q2",
     "locked": false,
     "schema_version": 3,
     "solution": true,
     "task": false
    },
    "tags": []
   },
   "outputs": [
    {
     "data": {
      "text/plain": [
       "7"
      ]
     },
     "execution_count": 75,
     "metadata": {},
     "output_type": "execute_result"
    }
   ],
   "source": [
    "def median_of_three_pivot(arr, low, high):\n",
    "\n",
    "    if len(arr) == 0:\n",
    "        return None\n",
    "    i,j = low, high\n",
    "    #print(i,j)\n",
    "    pivot1 = (arr[i])\n",
    "    pivot2 = (arr[j])\n",
    "    pivot3 = (arr[(i+j)//2])\n",
    "    \n",
    "    maxp = max(pivot1,pivot2,pivot3)\n",
    "    minp = min(pivot1,pivot2,pivot3)\n",
    "    \n",
    "\n",
    "    pivot = pivot1+pivot2+pivot3 -maxp-minp\n",
    "    \n",
    "#     i,j = low,high\n",
    "#     while i<= j:\n",
    "#         while arr[i] <pivot:\n",
    "#             i+=1\n",
    "#         while arr[j] >pivot:\n",
    "#             j-=1\n",
    "#         if i<= j:\n",
    "#             arr[i],arr[j]=arr[j],arr[i]\n",
    "#             i+=1\n",
    "#             j-=1\n",
    "#     median_of_three_pivot(arr,low,j)\n",
    "#     median_of_three_pivot(arr,i,high)\n",
    "    \n",
    "    return pivot\n",
    "a =  [10, 9, 5, 2, 6, 4, 7]\n",
    "median_of_three_pivot(a, 0, 6)\n"
   ]
  },
  {
   "cell_type": "code",
   "execution_count": null,
   "metadata": {
    "deletable": false,
    "editable": false,
    "nbgrader": {
     "cell_type": "code",
     "checksum": "fd450a890da1204a1815467467a7c905",
     "grade": true,
     "grade_id": "q2-median-of-three",
     "locked": true,
     "points": 5,
     "schema_version": 3,
     "solution": false,
     "task": false
    },
    "tags": []
   },
   "outputs": [],
   "source": [
    "# Testing Cell (Do NOT modify this cell)"
   ]
  },
  {
   "cell_type": "markdown",
   "metadata": {},
   "source": [
    "#### Question 03 &nbsp;&nbsp;&nbsp;&nbsp;&nbsp;&nbsp;(10 Points)\n",
    "\n",
    "Write a function defined as:\n",
    "```python\n",
    "def median_quicksort(arr, reverse = False):\n",
    "```\n",
    "that uses a quicksort with median partition scheme to sort a list of floats in-place. The parameter `reverse` selects the direction of the sort order where `reverse == True` indicates a descending sort."
   ]
  },
  {
   "cell_type": "code",
   "execution_count": 3,
   "metadata": {
    "deletable": false,
    "nbgrader": {
     "cell_type": "code",
     "checksum": "7bda55d5086ffa9008deef05dced4976",
     "grade": false,
     "grade_id": "q3",
     "locked": false,
     "schema_version": 3,
     "solution": true,
     "task": false
    },
    "tags": []
   },
   "outputs": [
    {
     "data": {
      "text/plain": [
       "[10, 9, 7, 6, 5, 4, 2]"
      ]
     },
     "execution_count": 3,
     "metadata": {},
     "output_type": "execute_result"
    }
   ],
   "source": [
    "def median_quicksort(arr, reverse = False):\n",
    "    low = 0\n",
    "    high = len(arr)-1\n",
    "    def quicksort(arr,low,high):\n",
    "        if low >= high:\n",
    "            return\n",
    "        #print(i,j)\n",
    "        pivot1 = (arr[low])\n",
    "        pivot2 = (arr[high])\n",
    "        pivot3 = (arr[(low+high)//2])\n",
    "\n",
    "        maxp = max(pivot1,pivot2,pivot3)\n",
    "        minp = min(pivot1,pivot2,pivot3)\n",
    "\n",
    "\n",
    "        pivot = pivot1+pivot2+pivot3 -maxp-minp\n",
    "\n",
    "        i,j = low,high\n",
    "        while i<= j:\n",
    "            while arr[i] <pivot:\n",
    "                i+=1\n",
    "            while arr[j] >pivot:\n",
    "                j-=1\n",
    "            if i<= j:\n",
    "                arr[i],arr[j]=arr[j],arr[i]\n",
    "                i+=1\n",
    "                j-=1\n",
    "        quicksort(arr,low,j)\n",
    "        quicksort(arr,i,high)\n",
    "        \n",
    "    quicksort(arr,low,high)\n",
    "    if reverse:\n",
    "        arr = arr.reverse()\n",
    "    return \n",
    "    \n",
    "arr =  [10, 9, 5, 2, 6, 4, 7]\n",
    "median_quicksort(arr, reverse = True)\n",
    "arr\n",
    "\n",
    "\n"
   ]
  },
  {
   "cell_type": "code",
   "execution_count": null,
   "metadata": {
    "deletable": false,
    "editable": false,
    "nbgrader": {
     "cell_type": "code",
     "checksum": "82f9f052693af68d5d3b92d6358f80e5",
     "grade": true,
     "grade_id": "q3-median-quicksort",
     "locked": true,
     "points": 10,
     "schema_version": 3,
     "solution": false,
     "task": false
    },
    "tags": []
   },
   "outputs": [],
   "source": [
    "# Testing Cell (Do NOT modify this cell)"
   ]
  },
  {
   "cell_type": "markdown",
   "metadata": {},
   "source": [
    "#### Question 04 &nbsp;&nbsp;&nbsp;&nbsp;&nbsp;&nbsp;(10 Points)\n",
    "\n",
    "Write a function defined as:\n",
    "```python\n",
    "    def quicksort_numpy_arrays (alist, reverse = False):\n",
    "```\n",
    "that performs an ascending, inplace quicksort with a partition scheme of your choice on a list of NumPy arrays (`alist`) based on the sum of values in the array. The parameter `reverse` selects the direction of the sort order where `reverse == True` indicates a descending sort.\n",
    "\n",
    "For example, give an input list of arrays like:\n",
    "```python\n",
    "[array([0, 1, 2, 3, 4, 5, 6, 7, 8]),\n",
    " array([0]),\n",
    " array([0, 1, 2]),\n",
    " array([0, 1, 2, 3, 4, 5, 6]),\n",
    " array([0, 1, 2, 3, 4])]\n",
    "```\n",
    "the function will sort alist in place like:\n",
    "```python\n",
    "[array([0]),\n",
    " array([0, 1, 2]),\n",
    " array([0, 1, 2, 3, 4]),\n",
    " array([0, 1, 2, 3, 4, 5, 6]),\n",
    " array([0, 1, 2, 3, 4, 5, 6, 7, 8])]\n",
    "```"
   ]
  },
  {
   "cell_type": "code",
   "execution_count": 20,
   "metadata": {
    "deletable": false,
    "nbgrader": {
     "cell_type": "code",
     "checksum": "7cdb9959bd6eeb7583471e7b936c5f75",
     "grade": false,
     "grade_id": "q4",
     "locked": false,
     "schema_version": 3,
     "solution": true,
     "task": false
    },
    "tags": []
   },
   "outputs": [
    {
     "data": {
      "text/plain": [
       "[array([0, 1, 2, 3, 4, 5, 6, 7, 8]),\n",
       " array([0, 1, 2, 3, 4, 5, 6]),\n",
       " array([0, 1, 2, 3, 4]),\n",
       " array([0, 1, 2]),\n",
       " array([0])]"
      ]
     },
     "execution_count": 20,
     "metadata": {},
     "output_type": "execute_result"
    }
   ],
   "source": [
    "def quicksort_numpy_arrays (alist, reverse = False):\n",
    "    low = 0\n",
    "    high = len(alist)-1\n",
    "    alist = alist\n",
    "    def quicksort(alist,low,high):\n",
    "        if low >= high:\n",
    "            return\n",
    "        i ,j=low,high\n",
    "        pivot = alist[high]\n",
    "        \n",
    "        while i<=j:\n",
    "            while np.sum(alist[i]) < np.sum(pivot):\n",
    "                i+=1\n",
    "            while np.sum(alist[j]) > np.sum(pivot):\n",
    "                j-=1\n",
    "            if i<=j:\n",
    "                alist[i],alist[j]=alist[j],alist[i]\n",
    "                i=+1\n",
    "                j-=1\n",
    "        quicksort(alist,low,j)\n",
    "        quicksort(alist,i,high)\n",
    "    quicksort(alist,low,high)\n",
    "    if reverse:\n",
    "        alist.reverse()\n",
    "alist = [np.array([0, 1, 2, 3, 4, 5, 6, 7, 8]),\n",
    " np.array([0]),\n",
    " np.array([0, 1, 2]),\n",
    " np.array([0, 1, 2, 3, 4, 5, 6]),\n",
    " np.array([0, 1, 2, 3, 4])]        \n",
    "quicksort_numpy_arrays (alist, reverse = True)\n",
    "alist"
   ]
  },
  {
   "cell_type": "code",
   "execution_count": null,
   "metadata": {
    "deletable": false,
    "editable": false,
    "nbgrader": {
     "cell_type": "code",
     "checksum": "e1864828a18cce80819973af4d541735",
     "grade": true,
     "grade_id": "q4-arrays",
     "locked": true,
     "points": 10,
     "schema_version": 3,
     "solution": false,
     "task": false
    },
    "tags": []
   },
   "outputs": [],
   "source": [
    "# Testing Cell (Do NOT modify this cell)"
   ]
  },
  {
   "cell_type": "markdown",
   "metadata": {},
   "source": [
    "#### Question 05 &nbsp;&nbsp;&nbsp;&nbsp;&nbsp;&nbsp;(10 Points)\n",
    "\n",
    "Write a function defined as:\n",
    "```python\n",
    "def quicksort_alphabetical (arr, ignorecase = False):\n",
    " ```\n",
    "that sorts a list of characters (single letter strings) in-place according to alphabetical order. When `ignorecase == True`, the case of letters in the list should be ignored.  When `ignorecase == False`, the sort should respect the case of the list according to Python's default behaviour: uppercase characters sort in preference to lowercase characters. "
   ]
  },
  {
   "cell_type": "code",
   "execution_count": 35,
   "metadata": {
    "deletable": false,
    "nbgrader": {
     "cell_type": "code",
     "checksum": "e3529bf000751f8300dfe76a014265cf",
     "grade": false,
     "grade_id": "q5",
     "locked": false,
     "schema_version": 3,
     "solution": true,
     "task": false
    },
    "tags": []
   },
   "outputs": [
    {
     "data": {
      "text/plain": [
       "['a', 'A', 'B', 'c']"
      ]
     },
     "execution_count": 35,
     "metadata": {},
     "output_type": "execute_result"
    }
   ],
   "source": [
    "def quicksort_alphabetical (arr, ignorecase = False):\n",
    "    first = 0\n",
    "    last = len(arr) -1\n",
    "    def quicksort(arr,first,last,ignorecase):\n",
    "        if first >= last:\n",
    "            return\n",
    "        i,j = first,last\n",
    "        pivot = arr[j]\n",
    "        while i<=j:\n",
    "            while (ignorecase == False and arr[i] < pivot) or\\\n",
    "            (ignorecase == True and arr[i].lower() < pivot.lower()):\n",
    "                i += 1\n",
    "            while (ignorecase == False and arr[j] > pivot) or\\\n",
    "            (ignorecase == True and arr[j].lower() > pivot.lower()):\n",
    "                j -= 1\n",
    "            if i <= j:\n",
    "                arr[i],arr[j] = arr[j],arr[i]\n",
    "                i,j = i+1,j-1 \n",
    "        quicksort(arr,first,j,ignorecase)\n",
    "        quicksort(arr,i,last,ignorecase)\n",
    "    quicksort(arr,first,last,ignorecase)\n",
    "    return arr\n",
    "\n",
    "\n",
    "arr =  [\"A\", \"c\", \"a\",\"B\"]  \n",
    "quicksort_alphabetical(arr,ignorecase = True)\n",
    "arr        \n",
    "        \n",
    "        \n"
   ]
  },
  {
   "cell_type": "code",
   "execution_count": null,
   "metadata": {
    "deletable": false,
    "editable": false,
    "nbgrader": {
     "cell_type": "code",
     "checksum": "ef2cab5e8e302237c6eaccb5d1dd693a",
     "grade": true,
     "grade_id": "q5-quicksort-alpha",
     "locked": true,
     "points": 10,
     "schema_version": 3,
     "solution": false,
     "task": false
    },
    "tags": []
   },
   "outputs": [],
   "source": [
    "# Testing Cell (Do NOT modify this cell)"
   ]
  },
  {
   "cell_type": "markdown",
   "metadata": {
    "tags": []
   },
   "source": [
    "#### Question 06 &nbsp;&nbsp;&nbsp;&nbsp;&nbsp;&nbsp;(10 Points)\n",
    "\n",
    "Write a function defined as:\n",
    "```Python\n",
    "def insertion_sort_string (un_list):\n",
    "```\n",
    "that sorts a list of strings in-place in descending order of their length using an insertion sort."
   ]
  },
  {
   "cell_type": "code",
   "execution_count": 32,
   "metadata": {
    "deletable": false,
    "nbgrader": {
     "cell_type": "code",
     "checksum": "2e402720a448dc33f39a0e152409e2be",
     "grade": false,
     "grade_id": "q6",
     "locked": false,
     "schema_version": 3,
     "solution": true,
     "task": false
    },
    "tags": []
   },
   "outputs": [
    {
     "data": {
      "text/plain": [
       "['9sljdsaj', '10ds', '115']"
      ]
     },
     "execution_count": 32,
     "metadata": {},
     "output_type": "execute_result"
    }
   ],
   "source": [
    "def insertion_sort_string (un_list):\n",
    "    for i,value in enumerate(un_list):\n",
    "        for j in range(i-1,-1,-1):\n",
    "            if len(un_list[j]) < len(value):\n",
    "                un_list[j+1],un_list[j]=un_list[j],value\n",
    "arr =  [\"10ds\", \"9sljdsaj\", \"115\"]  \n",
    "insertion_sort_string(arr)\n",
    "arr"
   ]
  },
  {
   "cell_type": "code",
   "execution_count": null,
   "metadata": {
    "deletable": false,
    "editable": false,
    "nbgrader": {
     "cell_type": "code",
     "checksum": "7c119c2cd10b6b7dfb1e139857940d76",
     "grade": true,
     "grade_id": "q6-insertion-sort-string",
     "locked": true,
     "points": 10,
     "schema_version": 3,
     "solution": false,
     "task": false
    },
    "tags": []
   },
   "outputs": [],
   "source": [
    "# Testing Cell (Do NOT modify this cell)"
   ]
  },
  {
   "cell_type": "markdown",
   "metadata": {},
   "source": [
    "#### Question 07 &nbsp;&nbsp;&nbsp;&nbsp;&nbsp;&nbsp;(10 Points)\n",
    "\n",
    "Write a function defined as:\n",
    "```python\n",
    "def insertion_sort_dict_by_key (un_dict):\n",
    "```\n",
    "that performs an insertion sort that sorts a dict by ascending values in-place while retaining identical keys.\n",
    "\n",
    "For example, given a dictionary:\n",
    "```python\n",
    "d = {\n",
    "    1: 101,\n",
    "    2: 2,\n",
    "    8: -1,\n",
    "}\n",
    "```\n",
    "would be sorted as:\n",
    "```python\n",
    "d = {\n",
    "    1: -1,\n",
    "    2: 2,\n",
    "    8: 101,\n",
    "}\n",
    "```"
   ]
  },
  {
   "cell_type": "code",
   "execution_count": 24,
   "metadata": {
    "deletable": false,
    "nbgrader": {
     "cell_type": "code",
     "checksum": "9075b9e9a179a28e501a74763f19854c",
     "grade": false,
     "grade_id": "q7",
     "locked": false,
     "schema_version": 3,
     "solution": true,
     "task": false
    },
    "tags": []
   },
   "outputs": [
    {
     "data": {
      "text/plain": [
       "{1: -1, 2: 2, 8: 101}"
      ]
     },
     "execution_count": 24,
     "metadata": {},
     "output_type": "execute_result"
    }
   ],
   "source": [
    "def insertion_sort_dict_by_key (un_dict):\n",
    "    value_dict = [values for values in un_dict.values()]\n",
    "    for i, value in enumerate(value_dict):\n",
    "        for j in range(i-1,-1,-1):\n",
    "            if value_dict[j] > value:\n",
    "                value_dict[j+1],value_dict[j] = value_dict[j],value\n",
    "    for i,key in enumerate(un_dict.keys()):\n",
    "        un_dict[key] = value_dict[i]\n",
    "d = {\n",
    "    1: 101,\n",
    "    2: 2,\n",
    "    8: -1,\n",
    "}\n",
    "insertion_sort_dict_by_key (d)\n",
    "d"
   ]
  },
  {
   "cell_type": "code",
   "execution_count": null,
   "metadata": {
    "deletable": false,
    "editable": false,
    "nbgrader": {
     "cell_type": "code",
     "checksum": "ac5ae134393f3de973ef3e72b0c70757",
     "grade": true,
     "grade_id": "q7-insert-sort-dict",
     "locked": true,
     "points": 10,
     "schema_version": 3,
     "solution": false,
     "task": false
    },
    "tags": []
   },
   "outputs": [],
   "source": [
    "# Testing Cell (Do NOT modify this cell)"
   ]
  },
  {
   "cell_type": "markdown",
   "metadata": {},
   "source": [
    "#### Question 08 &nbsp;&nbsp;&nbsp;&nbsp;&nbsp;&nbsp;(10 Points)\n",
    "\n",
    "Write a function defined as:\n",
    "```python\n",
    "def recursive_insertion_sort (arr, index, reverse):\n",
    "```\n",
    "that performs a recursive insertion sort in-place on a list of floats taking a `reverse` parameter to signal whether the floats are to be in ascending on descending order."
   ]
  },
  {
   "cell_type": "code",
   "execution_count": 5,
   "metadata": {
    "deletable": false,
    "nbgrader": {
     "cell_type": "code",
     "checksum": "40c77111cd6567c76a64f51a725968fa",
     "grade": false,
     "grade_id": "q8",
     "locked": false,
     "schema_version": 3,
     "solution": true,
     "task": false
    },
    "tags": []
   },
   "outputs": [
    {
     "data": {
      "text/plain": [
       "[10, 10, 9, 6, 5, 4, 2]"
      ]
     },
     "execution_count": 5,
     "metadata": {},
     "output_type": "execute_result"
    }
   ],
   "source": [
    "def recursive_insertion_sort(arr, index=1, reverse=False):\n",
    "    if index < len(arr):\n",
    "        value = arr[index]\n",
    "        i = index - 1\n",
    "        while i >= 0 and ((not reverse and arr[i] > value) or (reverse and arr[i] < value)):\n",
    "            arr[i+1] = arr[i]\n",
    "            i -= 1\n",
    "        arr[i+1] = value\n",
    "        recursive_insertion_sort(arr, index+1, reverse)\n",
    "arr =  [10,10, 9, 5, 2, 6, 4]    \n",
    "recursive_insertion_sort(arr,reverse=True)\n",
    "arr\n",
    "\n"
   ]
  },
  {
   "cell_type": "code",
   "execution_count": null,
   "metadata": {
    "deletable": false,
    "editable": false,
    "nbgrader": {
     "cell_type": "code",
     "checksum": "267f08fd25b1d44d0514624ebc3ddad4",
     "grade": true,
     "grade_id": "q8-recursive-insert",
     "locked": true,
     "points": 10,
     "schema_version": 3,
     "solution": false,
     "task": false
    },
    "tags": []
   },
   "outputs": [],
   "source": [
    "# Testing Cell (Do NOT modify this cell)"
   ]
  },
  {
   "cell_type": "markdown",
   "metadata": {
    "tags": []
   },
   "source": [
    "#### Question 09 &nbsp;&nbsp;&nbsp;&nbsp;&nbsp;&nbsp;(10 Points)\n",
    "\n",
    "Write a function defined as:\n",
    "```python\n",
    "def median_alpha_pivot(str_list, low, high):\n",
    "```\n",
    "that accepts a list of capitalised names, the index of the start and end of the partition in the list and returns a 'median of three' pivot value using a median partition scheme or `None` for a zero length input array. \n",
    "\n",
    "In calculating the pivot, the first letter of each string is given a weighting according to its index in `list(string.ascii_uppercase)` and the value returned is that index. \n",
    "\n",
    "Thus, in a list like:\n",
    "```python\n",
    "[\"Majid\", \"Victoria\", \"Tashreque\", \"Xiefeng\", \"Fu\", \"Biao\", \"Rui\"]\n",
    "```\n",
    "in calculating the pivot for the whole of the list, we consider the values:\n",
    "- 12 (the index of 'M' in string.ascii_uppercase), \n",
    "- 23 (the index of 'X' in string.ascii_uppercase), and \n",
    "- 17 (the index of 'R' in string.ascii_uppercase)   \n",
    "returning `17` as our first pivot value.\n"
   ]
  },
  {
   "cell_type": "code",
   "execution_count": 6,
   "metadata": {
    "deletable": false,
    "nbgrader": {
     "cell_type": "code",
     "checksum": "941c4dd9c20f450f7d31d872c7ed1612",
     "grade": false,
     "grade_id": "q9",
     "locked": false,
     "schema_version": 3,
     "solution": true,
     "task": false
    },
    "tags": []
   },
   "outputs": [
    {
     "data": {
      "text/plain": [
       "17"
      ]
     },
     "execution_count": 6,
     "metadata": {},
     "output_type": "execute_result"
    }
   ],
   "source": [
    "\n",
    "def median_alpha_pivot(str_list, low, high):\n",
    "    if len(str_list) == 0:\n",
    "        return None\n",
    "    i,j = low, high\n",
    "    #print(i,j)\n",
    "    pivot1 = ord(str_list[i][0]) - 65\n",
    "    pivot2 = ord(str_list[j][0]) -65\n",
    "    pivot3 = ord(str_list[(i+j)//2][0]) -65\n",
    "    \n",
    "    maxp = max(pivot1,pivot2,pivot3)\n",
    "    minp = min(pivot1,pivot2,pivot3)\n",
    "    \n",
    "\n",
    "    pivot = pivot1+pivot2+pivot3 -maxp-minp\n",
    "    #print(pivot)\n",
    "    #return (maxp,minp,pivot)\n",
    "#     while i <= j:\n",
    "#         while ord(str_list[i][0]) < pivot:\n",
    "#             i += 1\n",
    "#         while ord(str_list[j][0]) > pivot:\n",
    "#             j -= 1\n",
    "#         if i <= j:\n",
    "#             str_list[i],str_list[j] = str_list[j],str_list[i]\n",
    "#             i += 1\n",
    "#             j -= 1\n",
    "    \n",
    "#     median_alpha_pivot(str_list,low,j)\n",
    "#     median_alpha_pivot(str_list,i,high)\n",
    "    return pivot\n",
    "aa = [\"Majid\", \"Victoria\", \"Tashreque\", \"Xiefeng\", \"Fu\", \"Biao\", \"Rui\"]      \n",
    "median_alpha_pivot(aa, 0, len(aa)-1)\n",
    "\n"
   ]
  },
  {
   "cell_type": "code",
   "execution_count": null,
   "metadata": {
    "deletable": false,
    "editable": false,
    "nbgrader": {
     "cell_type": "code",
     "checksum": "863fa15ff01a4f50ba12a2bd68c4902a",
     "grade": true,
     "grade_id": "q9-median-alpha-pivot",
     "locked": true,
     "points": 10,
     "schema_version": 3,
     "solution": false,
     "task": false
    },
    "tags": []
   },
   "outputs": [],
   "source": [
    "# Testing Cell (Do NOT modify this cell)"
   ]
  },
  {
   "cell_type": "markdown",
   "metadata": {},
   "source": [
    "#### Question 10 &nbsp;&nbsp;&nbsp;&nbsp;&nbsp;&nbsp;(10 Points)\n",
    "\n",
    "Write a function defined as:\n",
    "```python\n",
    "def median_quicksort_by_first_letter (str_list):\n",
    "```   \n",
    "\n",
    "that implements a **recursive** quicksort that sorts a list of capitalised names according to their first letter using the median partition scheme per the details expressed in Question 09. \n",
    "\n",
    "Thus, given a list like:\n",
    "```python\n",
    "[\"Majid\", \"Victoria\", \"Tashreque\", \"Xiefeng\", \"Fu\", \"Biao\", \"Rui\"]\n",
    "```\n",
    "when sorted in-place, the list is:\n",
    "```python\n",
    "['Fu', 'Rui', 'Biao', 'Majid', 'Xiefeng', 'Victoria', 'Tashreque']\n",
    "```"
   ]
  },
  {
   "cell_type": "code",
   "execution_count": 69,
   "metadata": {
    "deletable": false,
    "nbgrader": {
     "cell_type": "code",
     "checksum": "ccb9eca7ec76bbd104c4ff36cd60901e",
     "grade": false,
     "grade_id": "q10",
     "locked": false,
     "schema_version": 3,
     "solution": true,
     "task": false
    },
    "tags": []
   },
   "outputs": [
    {
     "data": {
      "text/plain": [
       "['Biao', 'Fu', 'Majid', 'Rui', 'Tashreque', 'Victoria', 'Xiefeng']"
      ]
     },
     "execution_count": 69,
     "metadata": {},
     "output_type": "execute_result"
    }
   ],
   "source": [
    "def median_quicksort_by_first_letter (str_list):\n",
    "    \n",
    "    \n",
    "    def median_alpha_pivot(str_list, low, high):\n",
    "        if low >= high:\n",
    "            return\n",
    "        i,j = low, high\n",
    "        #print(i,j)\n",
    "        pivot1 = ord(str_list[i][0])\n",
    "        pivot2 = ord(str_list[j][0])\n",
    "        pivot3 = ord(str_list[(i+j)//2][0])\n",
    "\n",
    "        maxp = max(pivot1,pivot2,pivot3)\n",
    "        minp = min(pivot1,pivot2,pivot3)\n",
    "\n",
    "\n",
    "        pivot = pivot1+pivot2+pivot3 -maxp-minp\n",
    "\n",
    "        while i <= j:\n",
    "            while ord(str_list[i][0]) < pivot:\n",
    "                i += 1\n",
    "            while ord(str_list[j][0]) > pivot:\n",
    "                j -= 1\n",
    "            if i <= j:\n",
    "                str_list[i],str_list[j] = str_list[j],str_list[i]\n",
    "                i += 1\n",
    "                j -= 1\n",
    "\n",
    "        median_alpha_pivot(str_list,low,j)\n",
    "        median_alpha_pivot(str_list,i,high)\n",
    "    low = 0 \n",
    "    high = len(str_list)-1\n",
    "    return median_alpha_pivot(str_list, low, high)\n",
    "aa = [\"Majid\", \"Victoria\", \"Tashreque\", \"Xiefeng\", \"Fu\", \"Biao\", \"Rui\"]      \n",
    "median_quicksort_by_first_letter(aa)\n",
    "\n",
    "aa\n"
   ]
  },
  {
   "cell_type": "code",
   "execution_count": null,
   "metadata": {
    "deletable": false,
    "editable": false,
    "nbgrader": {
     "cell_type": "code",
     "checksum": "9806f79786e4942abab8a8f1ee394968",
     "grade": true,
     "grade_id": "q10-median-quicksort",
     "locked": true,
     "points": 10,
     "schema_version": 3,
     "solution": false,
     "task": false
    },
    "tags": []
   },
   "outputs": [],
   "source": [
    "# Testing Cell (Do NOT modify this cell)"
   ]
  },
  {
   "cell_type": "markdown",
   "metadata": {},
   "source": [
    "#### Question 11 &nbsp;&nbsp;&nbsp;&nbsp;&nbsp;&nbsp;(10 Points)\n",
    "\n",
    "Write a function defined as:\n",
    "```python\n",
    "def insertion_sort_by_tuple_sum (ulist, reverse = False):\n",
    "```\n",
    "that sorts a list of numerical tuples in-place by the sum of all values in the tuple. The parameter `reverse` indicates an ascending or descending sort. "
   ]
  },
  {
   "cell_type": "code",
   "execution_count": 30,
   "metadata": {
    "deletable": false,
    "nbgrader": {
     "cell_type": "code",
     "checksum": "106c2535188a83e431c5559233796f1d",
     "grade": false,
     "grade_id": "q11",
     "locked": false,
     "schema_version": 3,
     "solution": true,
     "task": false
    },
    "tags": []
   },
   "outputs": [
    {
     "data": {
      "text/plain": [
       "[(98, 0), (18, 1), (1, 2, 3)]"
      ]
     },
     "execution_count": 30,
     "metadata": {},
     "output_type": "execute_result"
    }
   ],
   "source": [
    "def insertion_sort_by_tuple_sum (ulist, reverse = False):\n",
    "    for i,value in enumerate(ulist):\n",
    "            for j in range(i-1,-1,-1):\n",
    "                if sum(ulist[j]) > sum(value):\n",
    "                    ulist[j+1],ulist[j] =ulist[j],value\n",
    "    if reverse:\n",
    "        ulist.reverse()\n",
    "a = [(1,2,3),(18,1),(98,0)]\n",
    "insertion_sort_by_tuple_sum (a, reverse = True)\n",
    "a"
   ]
  },
  {
   "cell_type": "code",
   "execution_count": null,
   "metadata": {
    "deletable": false,
    "editable": false,
    "nbgrader": {
     "cell_type": "code",
     "checksum": "03b7987944b15ae0f858504ca5a01b0b",
     "grade": true,
     "grade_id": "q11-insert-by-tuple-sum",
     "locked": true,
     "points": 10,
     "schema_version": 3,
     "solution": false,
     "task": false
    },
    "tags": []
   },
   "outputs": [],
   "source": [
    "# Testing Cell (Do NOT modify this cell)"
   ]
  }
 ],
 "metadata": {
  "kernelspec": {
   "display_name": "Python 3 (ipykernel)",
   "language": "python",
   "name": "python3"
  },
  "language_info": {
   "codemirror_mode": {
    "name": "ipython",
    "version": 3
   },
   "file_extension": ".py",
   "mimetype": "text/x-python",
   "name": "python",
   "nbconvert_exporter": "python",
   "pygments_lexer": "ipython3",
   "version": "3.9.12"
  },
  "otter": {
   "tests": {
    "q1": {
     "name": "q1",
     "points": 1,
     "suites": [
      {
       "cases": [],
       "scored": true,
       "setup": "",
       "teardown": "",
       "type": "doctest"
      }
     ]
    },
    "q10": {
     "name": "q10",
     "points": 4,
     "suites": [
      {
       "cases": [],
       "scored": true,
       "setup": "",
       "teardown": "",
       "type": "doctest"
      }
     ]
    },
    "q11": {
     "name": "q11",
     "points": 6,
     "suites": [
      {
       "cases": [],
       "scored": true,
       "setup": "",
       "teardown": "",
       "type": "doctest"
      }
     ]
    },
    "q12": {
     "name": "q12",
     "points": 6,
     "suites": [
      {
       "cases": [],
       "scored": true,
       "setup": "",
       "teardown": "",
       "type": "doctest"
      }
     ]
    },
    "q13": {
     "name": "q13",
     "points": 6,
     "suites": [
      {
       "cases": [],
       "scored": true,
       "setup": "",
       "teardown": "",
       "type": "doctest"
      }
     ]
    },
    "q14": {
     "name": "q14",
     "points": 6,
     "suites": [
      {
       "cases": [],
       "scored": true,
       "setup": "",
       "teardown": "",
       "type": "doctest"
      }
     ]
    },
    "q15": {
     "name": "q15",
     "points": 6,
     "suites": [
      {
       "cases": [],
       "scored": true,
       "setup": "",
       "teardown": "",
       "type": "doctest"
      }
     ]
    },
    "q16": {
     "name": "q16",
     "points": 6,
     "suites": [
      {
       "cases": [],
       "scored": true,
       "setup": "",
       "teardown": "",
       "type": "doctest"
      }
     ]
    },
    "q17": {
     "name": "q17",
     "points": 8,
     "suites": [
      {
       "cases": [],
       "scored": true,
       "setup": "",
       "teardown": "",
       "type": "doctest"
      }
     ]
    },
    "q18": {
     "name": "q18",
     "points": 8,
     "suites": [
      {
       "cases": [],
       "scored": true,
       "setup": "",
       "teardown": "",
       "type": "doctest"
      }
     ]
    },
    "q19": {
     "name": "q19",
     "points": 12,
     "suites": [
      {
       "cases": [],
       "scored": true,
       "setup": "",
       "teardown": "",
       "type": "doctest"
      }
     ]
    },
    "q2": {
     "name": "q2",
     "points": 1,
     "suites": [
      {
       "cases": [],
       "scored": true,
       "setup": "",
       "teardown": "",
       "type": "doctest"
      }
     ]
    },
    "q20": {
     "name": "q20",
     "points": 12,
     "suites": [
      {
       "cases": [],
       "scored": true,
       "setup": "",
       "teardown": "",
       "type": "doctest"
      }
     ]
    },
    "q3": {
     "name": "q3",
     "points": 1,
     "suites": [
      {
       "cases": [],
       "scored": true,
       "setup": "",
       "teardown": "",
       "type": "doctest"
      }
     ]
    },
    "q4": {
     "name": "q4",
     "points": 1,
     "suites": [
      {
       "cases": [],
       "scored": true,
       "setup": "",
       "teardown": "",
       "type": "doctest"
      }
     ]
    },
    "q5": {
     "name": "q5",
     "points": 2,
     "suites": [
      {
       "cases": [],
       "scored": true,
       "setup": "",
       "teardown": "",
       "type": "doctest"
      }
     ]
    },
    "q6": {
     "name": "q6",
     "points": 2,
     "suites": [
      {
       "cases": [],
       "scored": true,
       "setup": "",
       "teardown": "",
       "type": "doctest"
      }
     ]
    },
    "q7": {
     "name": "q7",
     "points": 4,
     "suites": [
      {
       "cases": [],
       "scored": true,
       "setup": "",
       "teardown": "",
       "type": "doctest"
      }
     ]
    },
    "q8": {
     "name": "q8",
     "points": 4,
     "suites": [
      {
       "cases": [],
       "scored": true,
       "setup": "",
       "teardown": "",
       "type": "doctest"
      }
     ]
    },
    "q9": {
     "name": "q9",
     "points": 4,
     "suites": [
      {
       "cases": [],
       "scored": true,
       "setup": "",
       "teardown": "",
       "type": "doctest"
      }
     ]
    }
   }
  },
  "varInspector": {
   "cols": {
    "lenName": 16,
    "lenType": 16,
    "lenVar": 40
   },
   "kernels_config": {
    "python": {
     "delete_cmd_postfix": "",
     "delete_cmd_prefix": "del ",
     "library": "var_list.py",
     "varRefreshCmd": "print(var_dic_list())"
    },
    "r": {
     "delete_cmd_postfix": ") ",
     "delete_cmd_prefix": "rm(",
     "library": "var_list.r",
     "varRefreshCmd": "cat(var_dic_list()) "
    }
   },
   "types_to_exclude": [
    "module",
    "function",
    "builtin_function_or_method",
    "instance",
    "_Feature"
   ],
   "window_display": false
  }
 },
 "nbformat": 4,
 "nbformat_minor": 4
}
