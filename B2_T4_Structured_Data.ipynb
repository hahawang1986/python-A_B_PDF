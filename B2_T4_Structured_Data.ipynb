{
 "cells": [
  {
   "cell_type": "markdown",
   "metadata": {},
   "source": [
    "### Instructions:\n",
    "\n",
    "- You can attempt any number of questions and in any order.  \n",
    "  See the assignment page for a description of the hurdle requirement for this assessment.\n",
    "- You may submit your practical for autograding as many times as you like to check on progress, however you will save time by checking and testing your own code before submitting.\n",
    "- Develop and check your answers in the spaces provided.\n",
    "- **Replace** the code `raise NotImplementedError()` with your solution to the question.\n",
    "- Do **NOT** remove any variables other provided markings already provided in the answer spaces.\n",
    "- Do **NOT** make any changes to this notebook outside of the spaces indicated.  \n",
    "  (If you do this, the submission system might not accept your work)\n",
    "\n",
    "### Submitting:\n",
    "\n",
    "1. Before you turn this problem in, make sure everything runs as expected by resetting this notebook.    \n",
    "   (You can do this from the menubar above by selecting `Kernel`&#8594;`Restart Kernel and Run All Cells...`)\n",
    "1. Don't forget to save your notebook after this step.\n",
    "1. Submit your .ipynb file to Gradescope via file upload or GitHub repository.\n",
    "1. You can submit as many times as needed.\n",
    "\n"
   ]
  },
  {
   "cell_type": "markdown",
   "metadata": {},
   "source": [
    "---"
   ]
  },
  {
   "cell_type": "markdown",
   "metadata": {
    "tags": []
   },
   "source": [
    "# <mark style=\"background: #801010; color: #ffffff;\" >B2</mark> Topic 4: Working with Structured Data"
   ]
  },
  {
   "cell_type": "code",
   "execution_count": 2,
   "metadata": {},
   "outputs": [],
   "source": [
    "# These are useful imports for the practical.\n",
    "import csv\n",
    "import json\n",
    "import xml.dom.minidom as xml\n",
    "# You may have to install this library with \"pip install requests\"\n",
    "import requests"
   ]
  },
  {
   "cell_type": "markdown",
   "metadata": {},
   "source": [
    "#### Question 01 &nbsp;&nbsp;&nbsp;&nbsp;&nbsp;&nbsp;(5 Points)\n",
    "\n",
    "In the file `username.csv`, find the header row (the first line of the file) and assign the list of column names to the variable `header`.\n",
    "\n",
    "\n",
    "---\n",
    "<details>\n",
    "  <summary><span style=\"color:blue\">Hints for viewing data</span></summary>\n",
    "   JupyterLab provides a good facility to view some types of data such as CSV. It can be a better alternative to Microsoft Excel or Google Sheets to provide a lightweight overview of data and allows a delimiter to be set when opening files.\n",
    "</details>"
   ]
  },
  {
   "cell_type": "code",
   "execution_count": 5,
   "metadata": {
    "deletable": false,
    "nbgrader": {
     "cell_type": "code",
     "checksum": "59ea011245cce71c48c31e4c91f86ce1",
     "grade": false,
     "grade_id": "q1",
     "locked": false,
     "schema_version": 3,
     "solution": true,
     "task": false
    },
    "tags": []
   },
   "outputs": [
    {
     "name": "stdout",
     "output_type": "stream",
     "text": [
      "['Username', 'Identifier', 'First name', 'Last name']\n"
     ]
    }
   ],
   "source": [
    "# Write your solution here\n",
    "\n",
    "# YOUR CODE HERE\n",
    "with open(\"username.csv\") as f:\n",
    "    reader = csv.reader(f)\n",
    "    header = next(reader)\n",
    "    print(header)"
   ]
  },
  {
   "cell_type": "code",
   "execution_count": null,
   "metadata": {
    "deletable": false,
    "editable": false,
    "nbgrader": {
     "cell_type": "code",
     "checksum": "ade7aff9a74f269dc0a14e19361148d9",
     "grade": true,
     "grade_id": "q1-1-header",
     "locked": true,
     "points": 5,
     "schema_version": 3,
     "solution": false,
     "task": false
    },
    "tags": []
   },
   "outputs": [],
   "source": [
    "# Testing Cell (Do NOT modify this cell)"
   ]
  },
  {
   "cell_type": "markdown",
   "metadata": {},
   "source": [
    "#### Question 02 &nbsp;&nbsp;&nbsp;&nbsp;&nbsp;&nbsp;(5 Points)\n",
    "\n",
    "Open the file `username.csv` and remove the 'Identifier' column of data. Assign the remaining three columns to the variable `no_id_data` like:\n",
    "```python\n",
    "[['Username', 'First name', 'Last name'],\n",
    " ['booker12', 'Rachel', 'Booker'],\n",
    " ...\n",
    "```"
   ]
  },
  {
   "cell_type": "code",
   "execution_count": 9,
   "metadata": {
    "deletable": false,
    "nbgrader": {
     "cell_type": "code",
     "checksum": "43e7c08b2bba22f2290b849253be95d8",
     "grade": false,
     "grade_id": "q2",
     "locked": false,
     "schema_version": 3,
     "solution": true,
     "task": false
    },
    "tags": []
   },
   "outputs": [
    {
     "name": "stdout",
     "output_type": "stream",
     "text": [
      "[['Username', 'First name', 'Last name'], ['booker12', 'Rachel', 'Booker'], ['grey07', 'Laura', 'Grey'], ['johnson81', 'Craig', 'Johnson'], ['jenkins46', 'Mary', 'Jenkins'], ['smith79', 'Jamie', 'Smith']]\n"
     ]
    }
   ],
   "source": [
    "# Write your solution here\n",
    "\n",
    "# YOUR CODE HERE\n",
    "with open(\"username.csv\",'r') as f:\n",
    "    reader = csv.reader(f)\n",
    "    no_id_data = []\n",
    "    for i in reader:\n",
    "        i = [i[0]]+i[2:4]\n",
    "        no_id_data.append(i)\n",
    "\n",
    "print(no_id_data)      "
   ]
  },
  {
   "cell_type": "code",
   "execution_count": null,
   "metadata": {
    "deletable": false,
    "editable": false,
    "nbgrader": {
     "cell_type": "code",
     "checksum": "95d21b129e5fc9b4732d1236a97c94c5",
     "grade": true,
     "grade_id": "q2-1-change-columns",
     "locked": true,
     "points": 5,
     "schema_version": 3,
     "solution": false,
     "task": false
    },
    "tags": []
   },
   "outputs": [],
   "source": [
    "# Testing Cell (Do NOT modify this cell)"
   ]
  },
  {
   "cell_type": "markdown",
   "metadata": {},
   "source": [
    "#### Question 03 &nbsp;&nbsp;&nbsp;&nbsp;&nbsp;&nbsp;(5 Points)\n",
    "\n",
    "Open the file `email-password-recovery-code.csv` and remove all rows where the user is located in London. Save the result to the file `email-password-manchester-only.csv`."
   ]
  },
  {
   "cell_type": "code",
   "execution_count": 60,
   "metadata": {
    "deletable": false,
    "nbgrader": {
     "cell_type": "code",
     "checksum": "47e3c47f174a3538a2caaf1d19e4f575",
     "grade": false,
     "grade_id": "q3",
     "locked": false,
     "schema_version": 3,
     "solution": true,
     "task": false
    },
    "tags": []
   },
   "outputs": [],
   "source": [
    "# Write your solution here\n",
    "\n",
    "# YOUR CODE HERE\n",
    "with open(\"email-password-recovery-code.csv\",'r',newline='') as f:\n",
    "    reader = csv.reader(f)\n",
    "    write_data = []\n",
    "    for i in reader:\n",
    "        if i[-1]!= \"London\":\n",
    "            write_data.append(i)\n",
    "with open(\"email-password-manchester-only.csv\",'w') as f:\n",
    "    writer = csv.writer(f)\n",
    "    writer.writerows(write_data)\n",
    "    \n",
    "        \n",
    "        "
   ]
  },
  {
   "cell_type": "code",
   "execution_count": null,
   "metadata": {
    "deletable": false,
    "editable": false,
    "nbgrader": {
     "cell_type": "code",
     "checksum": "519a38f2da5b88574c95a52814928552",
     "grade": true,
     "grade_id": "q3-1-remove-rows",
     "locked": true,
     "points": 5,
     "schema_version": 3,
     "solution": false,
     "task": false
    },
    "tags": []
   },
   "outputs": [],
   "source": [
    "# Testing Cell (Do NOT modify this cell)\n"
   ]
  },
  {
   "cell_type": "markdown",
   "metadata": {},
   "source": [
    "#### Question 04 &nbsp;&nbsp;&nbsp;&nbsp;&nbsp;&nbsp;(5 Points)\n",
    "\n",
    "The file `weather.csv` has iso-8859-1 encoding. Open this file while ensuring the correct encoding is specified. Find the highest maximum temperature and the lowest minimum temperature and assign them to the tuple `extremes` like `(max, min)`."
   ]
  },
  {
   "cell_type": "code",
   "execution_count": 32,
   "metadata": {
    "deletable": false,
    "nbgrader": {
     "cell_type": "code",
     "checksum": "8e44eec03aea1735226d35be43969550",
     "grade": false,
     "grade_id": "q4",
     "locked": false,
     "schema_version": 3,
     "solution": true,
     "task": false
    },
    "tags": []
   },
   "outputs": [
    {
     "name": "stdout",
     "output_type": "stream",
     "text": [
      "(40.3, 11.7)\n"
     ]
    }
   ],
   "source": [
    "# Write your solution here\n",
    "\n",
    "# YOUR CODE HERE\n",
    "with open(\"weather.csv\",'r',encoding = 'iso-8859-1'  ) as f:\n",
    "    reader = csv.reader(f)\n",
    "    max_c = 0\n",
    "    min_c = 100\n",
    "    next(reader)\n",
    "    for i in reader:\n",
    "#         print(type(i[1]))\n",
    "        if float(i[1]) < min_c:\n",
    "            min_c = float(i[1])\n",
    "        if float(i[2]) > max_c:\n",
    "            max_c =  float(i[2])\n",
    "    extremes = (max_c,min_c)\n",
    "    print(extremes)"
   ]
  },
  {
   "cell_type": "code",
   "execution_count": null,
   "metadata": {
    "deletable": false,
    "editable": false,
    "nbgrader": {
     "cell_type": "code",
     "checksum": "6ef126b1f45b38d8efe13dad66c5423f",
     "grade": true,
     "grade_id": "q4-1-encoding",
     "locked": true,
     "points": 5,
     "schema_version": 3,
     "solution": false,
     "task": false
    },
    "tags": []
   },
   "outputs": [],
   "source": [
    "# Testing Cell (Do NOT modify this cell)"
   ]
  },
  {
   "cell_type": "markdown",
   "metadata": {},
   "source": [
    "#### Question 05 &nbsp;&nbsp;&nbsp;&nbsp;&nbsp;&nbsp;(5 Points)\n",
    "\n",
    "Open the same file `weather.csv` and remove the header line (which contains the problematic character for the degree symbol encoded as iso-8859-1. Write the rest of the file data to a new file called `weather-utf-8.csv` with `utf-8` encoding.\n",
    "\n",
    "---\n",
    "<details>\n",
    "  <summary><span style=\"color:blue\">Opening two files at a time</span></summary>\n",
    "   One solution to the problem is to open two files in the same with-as context manager like:<br /><br />\n",
    "    <pre>\n",
    "    with open(\"in.csv\", \"r\") as infile, open(\"out.csv\", \"w\") as outfile:\n",
    "        reader = csv.reader(infile)\n",
    "        writer = csv.writer(outfile)\n",
    "    </pre>\n",
    "    Then as you iterate through the input file, you can simultaneously be writing to the output file.\n",
    "</details>"
   ]
  },
  {
   "cell_type": "code",
   "execution_count": 42,
   "metadata": {
    "deletable": false,
    "nbgrader": {
     "cell_type": "code",
     "checksum": "a709818024c3ba51e1637274fbd1a6b5",
     "grade": false,
     "grade_id": "q5",
     "locked": false,
     "schema_version": 3,
     "solution": true,
     "task": false
    },
    "tags": []
   },
   "outputs": [],
   "source": [
    "# Write your solution here\n",
    "\n",
    "# YOUR CODE HERE\n",
    "with open(\"weather.csv\",'r',encoding = 'iso-8859-1'  ) as inf,open(\"weather-utf-8.csv\", \"w\", encoding='utf-8') as outf:\n",
    "    reader = csv.reader(inf)\n",
    "    next(reader)\n",
    "    newdata = []\n",
    "    for i in reader:\n",
    "        newdata.append(i)\n",
    "#     print(newdata)\n",
    "    writer = csv.writer(outf,lineterminator='\\n')\n",
    "    writer.writerows(newdata)"
   ]
  },
  {
   "cell_type": "code",
   "execution_count": null,
   "metadata": {
    "deletable": false,
    "editable": false,
    "nbgrader": {
     "cell_type": "code",
     "checksum": "cafcb874b58fd9fa3bd013563c726319",
     "grade": true,
     "grade_id": "q5-1-utf-8",
     "locked": true,
     "points": 5,
     "schema_version": 3,
     "solution": false,
     "task": false
    },
    "tags": []
   },
   "outputs": [],
   "source": [
    "# Testing Cell (Do NOT modify this cell)"
   ]
  },
  {
   "cell_type": "markdown",
   "metadata": {
    "tags": []
   },
   "source": [
    "#### Question 06 &nbsp;&nbsp;&nbsp;&nbsp;&nbsp;&nbsp;(5 Points)\n",
    "\n",
    "Create your own CSV file `random-dice.csv` with five columns and a header as follows:\n",
    "```python\n",
    "   'Roll #', 'D1', 'D2', 'D3', '3D6'\n",
    "```\n",
    "The first column shall be a counter from 1 to 10. Column 1 through 3 will contain random numbers between 1 and 6 generated to simulate the rolling of three six sided dice. The final column will contain the sum of the three dice in the range 3 .. 18. There shall be NUM_ROWS rows of dice data (where NUM_ROWS is a constant defined below).\n",
    "\n",
    "Thus, the seventh row of data might look like:\n",
    "```python\n",
    "   7,3,3,4,10\n",
    "```    "
   ]
  },
  {
   "cell_type": "code",
   "execution_count": 44,
   "metadata": {},
   "outputs": [],
   "source": [
    "# Test data. Do not alter.\n",
    "NUM_ROWS = 100"
   ]
  },
  {
   "cell_type": "code",
   "execution_count": 47,
   "metadata": {
    "deletable": false,
    "nbgrader": {
     "cell_type": "code",
     "checksum": "b40b2c4991f14fdc188af4f3b985832f",
     "grade": false,
     "grade_id": "q6",
     "locked": false,
     "schema_version": 3,
     "solution": true,
     "task": false
    },
    "tags": []
   },
   "outputs": [],
   "source": [
    "import random\n",
    "random.seed(42)\n",
    "\n",
    "# Write your solution here\n",
    "\n",
    "# YOUR CODE HERE\n",
    "with open(\"random-dice.csv\", \"w\") as f:\n",
    "    header = [['Roll #', 'D1', 'D2', 'D3', '3D6']]\n",
    "    for i in range(0,NUM_ROWS):\n",
    "        d1 = random.randint(1,6)\n",
    "        d2 = random.randint(1,6)\n",
    "        d3 = random.randint(1,6)\n",
    "        newdata = [i+1,d1,d2,d3,d1+d2+d3]\n",
    "        header.append(newdata)\n",
    "    writer = csv.writer(f,lineterminator='\\n')\n",
    "    writer.writerows(header) "
   ]
  },
  {
   "cell_type": "code",
   "execution_count": null,
   "metadata": {
    "deletable": false,
    "editable": false,
    "nbgrader": {
     "cell_type": "code",
     "checksum": "e2892b4182ed899f2052d37b49789d85",
     "grade": true,
     "grade_id": "q6-1-random-dice",
     "locked": true,
     "points": 5,
     "schema_version": 3,
     "solution": false,
     "task": false
    },
    "tags": []
   },
   "outputs": [],
   "source": [
    "# Testing Cell (Do NOT modify this cell)"
   ]
  },
  {
   "cell_type": "markdown",
   "metadata": {},
   "source": [
    "#### Question 07 &nbsp;&nbsp;&nbsp;&nbsp;&nbsp;&nbsp;(5 Points)\n",
    "\n",
    "Various characters are used to delimit CSV-style files such as colons, semicolons and tabs in addition to commas. Open the file `semi-delimited.csv` delimited with semicolons (\";\") and rewrite the file to `tab-delimited.csv` setting the delimiter to the tab character. "
   ]
  },
  {
   "cell_type": "code",
   "execution_count": 53,
   "metadata": {
    "deletable": false,
    "nbgrader": {
     "cell_type": "code",
     "checksum": "3feeed91deeb296138f9c269c2611025",
     "grade": false,
     "grade_id": "q7",
     "locked": false,
     "schema_version": 3,
     "solution": true,
     "task": false
    },
    "tags": []
   },
   "outputs": [],
   "source": [
    "# Write your solution here\n",
    "\n",
    "# YOUR CODE HERE\n",
    "with open(\"semi-delimited.csv\", \"r\") as inf,open(\"tab-delimited.csv\", \"w\") as outf:\n",
    "    reader = csv.reader(inf, delimiter =';')\n",
    "    newdata = list(reader)\n",
    "    writer = csv.writer(outf, delimiter = \"\\t\",lineterminator='\\n')\n",
    "    writer.writerows(newdata)"
   ]
  },
  {
   "cell_type": "code",
   "execution_count": null,
   "metadata": {
    "deletable": false,
    "editable": false,
    "nbgrader": {
     "cell_type": "code",
     "checksum": "fe1236fb364a530a80df9ece041de4a2",
     "grade": true,
     "grade_id": "q7-1-delimiter",
     "locked": true,
     "points": 5,
     "schema_version": 3,
     "solution": false,
     "task": false
    },
    "tags": []
   },
   "outputs": [],
   "source": [
    "# Testing Cell (Do NOT modify this cell)"
   ]
  },
  {
   "cell_type": "markdown",
   "metadata": {},
   "source": [
    "#### Question 08 &nbsp;&nbsp;&nbsp;&nbsp;&nbsp;&nbsp;(5 Points)\n",
    "\n",
    "Another approach to dealing with CSV files in Python is to use `DictReader` to form an *ordered dictionary* with keys based on the header. Use DictReader to open the file `username.csv` and assign the first row of data as a dictionary to the variable `dict_row_first` and the last row of data to the variable `dict_row_last`."
   ]
  },
  {
   "cell_type": "code",
   "execution_count": 58,
   "metadata": {
    "deletable": false,
    "nbgrader": {
     "cell_type": "code",
     "checksum": "0c1737153f68ce6f0b255313e2fce108",
     "grade": false,
     "grade_id": "q8",
     "locked": false,
     "schema_version": 3,
     "solution": true,
     "task": false
    },
    "tags": []
   },
   "outputs": [
    {
     "data": {
      "text/plain": [
       "{'Username': 'smith79',\n",
       " 'Identifier': '5079',\n",
       " 'First name': 'Jamie',\n",
       " 'Last name': 'Smith'}"
      ]
     },
     "execution_count": 58,
     "metadata": {},
     "output_type": "execute_result"
    }
   ],
   "source": [
    "# Write your solution here\n",
    "\n",
    "# YOUR CODE HERE\n",
    "with open('username.csv') as f:\n",
    "    reader = csv.DictReader(f)\n",
    "    newdata = list(reader)\n",
    "    dict_row_first = newdata[0]\n",
    "    dict_row_last = newdata[-1]\n",
    "dict_row_last"
   ]
  },
  {
   "cell_type": "code",
   "execution_count": null,
   "metadata": {
    "deletable": false,
    "editable": false,
    "nbgrader": {
     "cell_type": "code",
     "checksum": "a0609322add57861ac271d7b0cd209d0",
     "grade": true,
     "grade_id": "q8-1-dictreader",
     "locked": true,
     "points": 5,
     "schema_version": 3,
     "solution": false,
     "task": false
    }
   },
   "outputs": [],
   "source": [
    "# Testing Cell (Do NOT modify this cell)"
   ]
  },
  {
   "cell_type": "markdown",
   "metadata": {},
   "source": [
    "#### Question 09 &nbsp;&nbsp;&nbsp;&nbsp;&nbsp;&nbsp;(10 Points)\n",
    "\n",
    "Provided with three dictionaries for employee data (below), write a CSV file `employee.csv` that captures the three employee records and include a header row (matching the dictionary keys) at the beginning of the file. "
   ]
  },
  {
   "cell_type": "code",
   "execution_count": 64,
   "metadata": {
    "deletable": false,
    "editable": false,
    "nbgrader": {
     "cell_type": "code",
     "checksum": "9fc2558000f53cca8484f2a04068263e",
     "grade": false,
     "grade_id": "cell-9e9f1f087abae63e",
     "locked": true,
     "schema_version": 3,
     "solution": false,
     "task": false
    },
    "tags": []
   },
   "outputs": [],
   "source": [
    "# Test data. Do not alter.\n",
    "employee_data_1 = {\n",
    "\"Name\": \"Graham Chapman\",\n",
    "\"Hire Date\": \"03/15/14\",\n",
    "\"Salary\": 50000,\n",
    "\"Sick Days\": 10}\n",
    "\n",
    "employee_data_2 = {\n",
    "\"Name\": \"John Cleese\",\n",
    "\"Hire Date\": \"06/01/14\",\n",
    "\"Salary\": 55000,\n",
    "\"Sick Days\": 11}\n",
    "\n",
    "employee_data_3 = {\n",
    "\"Name\": \"Eric Idle\",\n",
    "\"Hire Date\": \"not employed\",\n",
    "\"Salary\": 0,\n",
    "\"Sick Days\": 0}"
   ]
  },
  {
   "cell_type": "code",
   "execution_count": 1,
   "metadata": {
    "deletable": false,
    "nbgrader": {
     "cell_type": "code",
     "checksum": "b10ea41487c46513420a20c142b6c9f1",
     "grade": false,
     "grade_id": "q9",
     "locked": false,
     "schema_version": 3,
     "solution": true,
     "task": false
    },
    "tags": []
   },
   "outputs": [
    {
     "ename": "NameError",
     "evalue": "name 'employee_data_1' is not defined",
     "output_type": "error",
     "traceback": [
      "\u001b[1;31m---------------------------------------------------------------------------\u001b[0m",
      "\u001b[1;31mNameError\u001b[0m                                 Traceback (most recent call last)",
      "Input \u001b[1;32mIn [1]\u001b[0m, in \u001b[0;36m<cell line: 4>\u001b[1;34m()\u001b[0m\n\u001b[0;32m      1\u001b[0m \u001b[38;5;66;03m# Write your solution here\u001b[39;00m\n\u001b[0;32m      2\u001b[0m \n\u001b[0;32m      3\u001b[0m \u001b[38;5;66;03m# YOUR CODE HERE\u001b[39;00m\n\u001b[1;32m----> 4\u001b[0m employee_data \u001b[38;5;241m=\u001b[39m [\u001b[43memployee_data_1\u001b[49m,employee_data_2,employee_data_3]\n\u001b[0;32m      5\u001b[0m \u001b[38;5;28;01mwith\u001b[39;00m \u001b[38;5;28mopen\u001b[39m(\u001b[38;5;124m'\u001b[39m\u001b[38;5;124memployee.csv\u001b[39m\u001b[38;5;124m'\u001b[39m, \u001b[38;5;124m'\u001b[39m\u001b[38;5;124mw\u001b[39m\u001b[38;5;124m'\u001b[39m, newline\u001b[38;5;241m=\u001b[39m\u001b[38;5;124m'\u001b[39m\u001b[38;5;124m'\u001b[39m) \u001b[38;5;28;01mas\u001b[39;00m f:\n\u001b[0;32m      6\u001b[0m     fieldnames \u001b[38;5;241m=\u001b[39m employee_data[\u001b[38;5;241m0\u001b[39m]\u001b[38;5;241m.\u001b[39mkeys()\n",
      "\u001b[1;31mNameError\u001b[0m: name 'employee_data_1' is not defined"
     ]
    }
   ],
   "source": [
    "# Write your solution here\n",
    "\n",
    "# YOUR CODE HERE\n",
    "employee_data = [employee_data_1,employee_data_2,employee_data_3]\n",
    "with open('employee.csv', 'w', newline='') as f:\n",
    "    fieldnames = employee_data[0].keys()\n",
    "    writer = csv.DictWriter(f, fieldnames=fieldnames)\n",
    "\n",
    "    writer.writeheader()\n",
    "    for employee in employee_data:\n",
    "        writer.writerow(employee)\n"
   ]
  },
  {
   "cell_type": "code",
   "execution_count": null,
   "metadata": {
    "deletable": false,
    "editable": false,
    "nbgrader": {
     "cell_type": "code",
     "checksum": "094aeb58f0c38ef2b14347ab99968332",
     "grade": true,
     "grade_id": "q9-1-employee-records",
     "locked": true,
     "points": 10,
     "schema_version": 3,
     "solution": false,
     "task": false
    }
   },
   "outputs": [],
   "source": [
    "# Testing Cell (Do NOT modify this cell)"
   ]
  },
  {
   "cell_type": "markdown",
   "metadata": {},
   "source": [
    "#### Question 10 &nbsp;&nbsp;&nbsp;&nbsp;&nbsp;&nbsp;(5 Points)\n",
    "\n",
    "Given the dictionary `DATASET` below, write this to a JSON formatted file called `nap.json`."
   ]
  },
  {
   "cell_type": "code",
   "execution_count": 66,
   "metadata": {
    "deletable": false,
    "editable": false,
    "nbgrader": {
     "cell_type": "code",
     "checksum": "cc025e0bf2106731291b8a92f16ac165",
     "grade": false,
     "grade_id": "cell-84daeecc0cc4e422",
     "locked": true,
     "schema_version": 3,
     "solution": false,
     "task": false
    },
    "tags": []
   },
   "outputs": [],
   "source": [
    "# Test data. Do not alter.\n",
    "DATASET = [\n",
    "    {'name': \"John\", 'age': 52, 'postcode': 5002},  \n",
    "    {'name':\"Ye\", 'age': 18, 'postcode': 3005},  \n",
    "    {'name':\"Siobhan\", 'age': 34, 'postcode': 2356}\n",
    "]"
   ]
  },
  {
   "cell_type": "code",
   "execution_count": 68,
   "metadata": {
    "deletable": false,
    "nbgrader": {
     "cell_type": "code",
     "checksum": "668b6122126f0cffdabdd0840b974a9e",
     "grade": false,
     "grade_id": "q10",
     "locked": false,
     "schema_version": 3,
     "solution": true,
     "task": false
    },
    "tags": []
   },
   "outputs": [],
   "source": [
    "# Write your solution here\n",
    "\n",
    "# YOUR CODE HERE\n",
    "import json\n",
    "with open('nap.json','w') as f:\n",
    "    json.dump(DATASET,f)"
   ]
  },
  {
   "cell_type": "code",
   "execution_count": null,
   "metadata": {
    "deletable": false,
    "editable": false,
    "nbgrader": {
     "cell_type": "code",
     "checksum": "0228e1036bf022e04d52af9d21258a1a",
     "grade": true,
     "grade_id": "q10-1-json",
     "locked": true,
     "points": 5,
     "schema_version": 3,
     "solution": false,
     "task": false
    }
   },
   "outputs": [],
   "source": [
    "# Testing Cell (Do NOT modify this cell)"
   ]
  },
  {
   "cell_type": "markdown",
   "metadata": {},
   "source": [
    "#### Question 11 &nbsp;&nbsp;&nbsp;&nbsp;&nbsp;&nbsp;(5 Points)\n",
    "\n",
    "The `MENU_DEF` dictionary represents multi-lingual labels for a menu in a file system application. Save this data to a JSON file `menu.json` in `utf-16` encoding."
   ]
  },
  {
   "cell_type": "code",
   "execution_count": 72,
   "metadata": {
    "deletable": false,
    "editable": false,
    "nbgrader": {
     "cell_type": "code",
     "checksum": "498c69367d754cceafb8c947acc6a8f3",
     "grade": false,
     "grade_id": "cell-9e2ea4902ac33840",
     "locked": true,
     "schema_version": 3,
     "solution": false,
     "task": false
    },
    "tags": []
   },
   "outputs": [],
   "source": [
    "# Test data. Do not alter.\n",
    "MENU_DEF = {'menu': {'id': 'file',\n",
    "          'popups': [{'language': 'English',\n",
    "                      'menuitem': [{'onclick': 'CreateNewDoc()',\n",
    "                                    'value': 'New'},\n",
    "                                   {'onclick': 'OpenDoc()', 'value': 'Open'},\n",
    "                                   {'onclick': 'CloseDoc()',\n",
    "                                    'value': 'Close'}]},\n",
    "                     {'language': 'Deutsch',\n",
    "                      'menuitem': [{'onclick': 'CreateNewDoc()',\n",
    "                                    'value': 'Neu'},\n",
    "                                   {'onclick': 'OpenDoc()', 'value': 'Offen'},\n",
    "                                   {'onclick': 'CloseDoc()',\n",
    "                                    'value': 'Schließen'}]}]}}\n"
   ]
  },
  {
   "cell_type": "code",
   "execution_count": 73,
   "metadata": {
    "deletable": false,
    "nbgrader": {
     "cell_type": "code",
     "checksum": "513f2ed7a7c9ae7f79e817a8ae143a89",
     "grade": false,
     "grade_id": "cell-3q11a03d040b9e6cfd1",
     "locked": false,
     "schema_version": 3,
     "solution": true,
     "task": false
    },
    "tags": []
   },
   "outputs": [],
   "source": [
    "# Write your solution here\n",
    "\n",
    "# YOUR CODE HERE\n",
    "with open('menu.json','w',encoding = 'utf-16') as f:\n",
    "    json.dump(MENU_DEF,f)"
   ]
  },
  {
   "cell_type": "code",
   "execution_count": null,
   "metadata": {
    "deletable": false,
    "editable": false,
    "nbgrader": {
     "cell_type": "code",
     "checksum": "6db35bb7a9e354b9b403d0e67b3b487c",
     "grade": true,
     "grade_id": "q11-1-menu-def",
     "locked": true,
     "points": 5,
     "schema_version": 3,
     "solution": false,
     "task": false
    }
   },
   "outputs": [],
   "source": [
    "# Testing Cell (Do NOT modify this cell)"
   ]
  },
  {
   "cell_type": "markdown",
   "metadata": {},
   "source": [
    "#### Question 12 &nbsp;&nbsp;&nbsp;&nbsp;&nbsp;&nbsp;(10 Points)\n",
    "\n",
    "You are provided with the JSON file `glossary.json`. Deserialise the file and navigate the created representation of the JSON file to find the value of the name:value pair with key `\"GlossSeeAlso\"`. Assign this list to the Python variable `see_also_list`.\n",
    "\n",
    "For example, to find the value for the key `\"GlossDiv\"` it would be necessary to open the file, deserialise it to a Python object (say `glossary`) and then navigate the mix of dictionaries and lists to find:\n",
    "\n",
    "```python\n",
    "    # deserialise to 'glossary'\n",
    "    div = glossary['glossary']['GlossDiv']\n",
    "    print (div)\n",
    "    ...\n",
    "    {'GlossList': {'GlossEntry': {'Abbrev': 'ISO 8879:1986',\n",
    "                              'Acronym': 'SGML',\n",
    "                               ...   \n",
    "```      \n",
    "\n",
    "In this case we are accessing the nested dictionaries using `glossary['glossary']['GlossDiv']`.\n",
    "\n",
    "---\n",
    "<details>\n",
    "  <summary><span style=\"color:blue\">Navigating a JSON representation</span></summary>\n",
    "    After deserialisation, we know that Python's representation of a JSON file is a mix of dictionaries and lists. Once you deserialise a file, it is often helpful to print or pretty print (from the library <code>pprint</code>) the variable and compare the name:value pairs with the original file. Alternately, open the JSON file in Jupyter Notebook - this does a great job of allowing traversal of nested dictionaries that are the hallmark of complex JSON representations.\n",
    "</details>"
   ]
  },
  {
   "cell_type": "code",
   "execution_count": 84,
   "metadata": {
    "deletable": false,
    "nbgrader": {
     "cell_type": "code",
     "checksum": "7ff4f3d0e5518e75e1b917674b7a63b7",
     "grade": false,
     "grade_id": "q12",
     "locked": false,
     "schema_version": 3,
     "solution": true,
     "task": false
    },
    "tags": []
   },
   "outputs": [
    {
     "name": "stdout",
     "output_type": "stream",
     "text": [
      "{'glossary': {'GlossDiv': {'GlossList': {'GlossEntry': {'Abbrev': 'ISO '\n",
      "                                                                  '8879:1986',\n",
      "                                                        'Acronym': 'SGML',\n",
      "                                                        'GlossDef': {'GlossSeeAlso': ['GML',\n",
      "                                                                                      'XML'],\n",
      "                                                                     'para': 'A '\n",
      "                                                                             'meta-markup '\n",
      "                                                                             'language, '\n",
      "                                                                             'used '\n",
      "                                                                             'to '\n",
      "                                                                             'create '\n",
      "                                                                             'markup '\n",
      "                                                                             'languages '\n",
      "                                                                             'such '\n",
      "                                                                             'as '\n",
      "                                                                             'DocBook.'},\n",
      "                                                        'GlossSee': 'markup',\n",
      "                                                        'GlossTerm': 'Standard '\n",
      "                                                                     'Generalized '\n",
      "                                                                     'Markup '\n",
      "                                                                     'Language',\n",
      "                                                        'ID': 'SGML',\n",
      "                                                        'SortAs': 'SGML'}},\n",
      "                           'title': 'S'},\n",
      "              'title': 'example glossary'}}\n"
     ]
    },
    {
     "data": {
      "text/plain": [
       "['GML', 'XML']"
      ]
     },
     "execution_count": 84,
     "metadata": {},
     "output_type": "execute_result"
    }
   ],
   "source": [
    "# Write your solution here\n",
    "# YOUR CODE HERE\n",
    "from pprint import pprint\n",
    "with open(\"glossary.json\") as f:\n",
    "    jstr = f.read()\n",
    "    jdata=json.loads(jstr)\n",
    "    pprint(jdata)\n",
    "see_also_list = jdata[\"glossary\"][\"GlossDiv\"][\"GlossList\"]['GlossEntry']['GlossDef'][\"GlossSeeAlso\"]\n",
    "see_also_list"
   ]
  },
  {
   "cell_type": "code",
   "execution_count": null,
   "metadata": {
    "deletable": false,
    "editable": false,
    "nbgrader": {
     "cell_type": "code",
     "checksum": "cdb545705ae399cb1e0c0f56a73a8147",
     "grade": true,
     "grade_id": "q12-1-glossary",
     "locked": true,
     "points": 10,
     "schema_version": 3,
     "solution": false,
     "task": false
    }
   },
   "outputs": [],
   "source": [
    "# Testing Cell (Do NOT modify this cell)"
   ]
  },
  {
   "cell_type": "markdown",
   "metadata": {},
   "source": [
    "#### Question 13 &nbsp;&nbsp;&nbsp;&nbsp;&nbsp;&nbsp;(10 Points)\n",
    "\n",
    "Let's append 'JSON' to the \"See also\" entry of the glossary item on SGML. In the list identified by the key/name `GlossSeeAlso`, append `'JSON'` to the list of `['GML', 'XML']` and write the amended glossary to the file `json-glossary.json`."
   ]
  },
  {
   "cell_type": "code",
   "execution_count": 85,
   "metadata": {
    "deletable": false,
    "nbgrader": {
     "cell_type": "code",
     "checksum": "6b61bd2cde810d6e3f8f01d0650ac9b5",
     "grade": false,
     "grade_id": "q13",
     "locked": false,
     "schema_version": 3,
     "solution": true,
     "task": false
    },
    "tags": []
   },
   "outputs": [
    {
     "name": "stdout",
     "output_type": "stream",
     "text": [
      "{'glossary': {'GlossDiv': {'GlossList': {'GlossEntry': {'Abbrev': 'ISO '\n",
      "                                                                  '8879:1986',\n",
      "                                                        'Acronym': 'SGML',\n",
      "                                                        'GlossDef': {'GlossSeeAlso': ['GML',\n",
      "                                                                                      'XML',\n",
      "                                                                                      'JSON'],\n",
      "                                                                     'para': 'A '\n",
      "                                                                             'meta-markup '\n",
      "                                                                             'language, '\n",
      "                                                                             'used '\n",
      "                                                                             'to '\n",
      "                                                                             'create '\n",
      "                                                                             'markup '\n",
      "                                                                             'languages '\n",
      "                                                                             'such '\n",
      "                                                                             'as '\n",
      "                                                                             'DocBook.'},\n",
      "                                                        'GlossSee': 'markup',\n",
      "                                                        'GlossTerm': 'Standard '\n",
      "                                                                     'Generalized '\n",
      "                                                                     'Markup '\n",
      "                                                                     'Language',\n",
      "                                                        'ID': 'SGML',\n",
      "                                                        'SortAs': 'SGML'}},\n",
      "                           'title': 'S'},\n",
      "              'title': 'example glossary'}}\n"
     ]
    }
   ],
   "source": [
    "# Write your solution here\n",
    "\n",
    "# YOUR CODE HERE\n",
    "with open('json-glossary.json',\"w+\") as f:\n",
    "    see_also_list.append(\"JSON\")\n",
    "    jdata[\"glossary\"][\"GlossDiv\"][\"GlossList\"]['GlossEntry']['GlossDef'][\"GlossSeeAlso\"]=see_also_list\n",
    "    json.dump(jdata,f) \n",
    "pprint(jdata)"
   ]
  },
  {
   "cell_type": "code",
   "execution_count": null,
   "metadata": {
    "deletable": false,
    "editable": false,
    "nbgrader": {
     "cell_type": "code",
     "checksum": "250a1d10735c07ef80f5457009f3e066",
     "grade": true,
     "grade_id": "q13-1-append-glossary",
     "locked": true,
     "points": 10,
     "schema_version": 3,
     "solution": false,
     "task": false
    }
   },
   "outputs": [],
   "source": [
    "# Testing Cell (Do NOT modify this cell)"
   ]
  },
  {
   "cell_type": "markdown",
   "metadata": {},
   "source": [
    "#### Question 14 &nbsp;&nbsp;&nbsp;&nbsp;&nbsp;&nbsp;(5 Points)\n",
    "\n",
    "Given the string of JSON data in the cell below, convert this into a Python representation and add a new person's details as:\n",
    "  - **name**: Menasha, \n",
    "  - **age**: 21 and \n",
    "  - **postcode**: 5000.  \n",
    " \n",
    "You should now have a Python list with four elements all having identical dictionary keys. Serialise your list to a new file `json-string.json`. "
   ]
  },
  {
   "cell_type": "code",
   "execution_count": 86,
   "metadata": {
    "deletable": false,
    "editable": false,
    "nbgrader": {
     "cell_type": "code",
     "checksum": "ca789e9f8f19a3efe334dd475079bdd8",
     "grade": false,
     "grade_id": "cell-3051ec784a8799a9",
     "locked": true,
     "schema_version": 3,
     "solution": false,
     "task": false
    },
    "tags": []
   },
   "outputs": [],
   "source": [
    "# Test data. Do not alter.\n",
    "JSON_STRING = '''[ {\"name\": \"Ali\",   \"age\": 52, \"postcode\": 5002},\n",
    "                   {\"name\": \"Ye\",    \"age\": 18, \"postcode\": 3005},\n",
    "                   {\"name\": \"Matty\", \"age\": 97, \"postcode\": 6061}\n",
    "              ]'''"
   ]
  },
  {
   "cell_type": "code",
   "execution_count": 99,
   "metadata": {
    "deletable": false,
    "nbgrader": {
     "cell_type": "code",
     "checksum": "d6064ecb74eb083f743b3efe54286047",
     "grade": false,
     "grade_id": "q14",
     "locked": false,
     "schema_version": 3,
     "solution": true,
     "task": false
    },
    "tags": []
   },
   "outputs": [
    {
     "name": "stdout",
     "output_type": "stream",
     "text": [
      "[{'name': 'Ali', 'age': 52, 'postcode': 5002}, {'name': 'Ye', 'age': 18, 'postcode': 3005}, {'name': 'Matty', 'age': 97, 'postcode': 6061}]\n",
      "<class 'list'>\n",
      "[{'age': 52, 'name': 'Ali', 'postcode': 5002},\n",
      " {'age': 18, 'name': 'Ye', 'postcode': 3005},\n",
      " {'age': 97, 'name': 'Matty', 'postcode': 6061},\n",
      " {'age': 21, 'name': 'Menasha', 'postcode': 5000}]\n"
     ]
    }
   ],
   "source": [
    "# Write your solution here\n",
    "\n",
    "# YOUR CODE HERE\n",
    "jdata = json.loads(JSON_STRING)\n",
    "print(jdata)\n",
    "print(type(jdata))\n",
    "jdata.append({\"name\":\"Menasha\", \"age\":21, \"postcode\":5000})\n",
    "\n",
    "with open(\"json-string.json\", \"w\") as f:\n",
    "    json.dump(jdata,f)\n",
    "    \n",
    "# with open(\"json-string.json\", \"r\") as f:\n",
    "#         jstr = f.read()\n",
    "#         jdata=json.loads(jstr)\n",
    "#         pprint(jdata)"
   ]
  },
  {
   "cell_type": "code",
   "execution_count": null,
   "metadata": {
    "deletable": false,
    "editable": false,
    "nbgrader": {
     "cell_type": "code",
     "checksum": "ff96d4cab24548f928ece3326248e031",
     "grade": true,
     "grade_id": "q14-1-convert-json",
     "locked": true,
     "points": 5,
     "schema_version": 3,
     "solution": false,
     "task": false
    }
   },
   "outputs": [],
   "source": [
    "# Testing Cell (Do NOT modify this cell)"
   ]
  },
  {
   "cell_type": "markdown",
   "metadata": {},
   "source": [
    "#### Question 15 &nbsp;&nbsp;&nbsp;&nbsp;&nbsp;&nbsp;(5 Points)\n",
    "\n",
    "Write a Python program to create a JSON file `encode-decode.json` that stores a list of the following Python values:\n",
    "\n",
    "- None\n",
    "- True\n",
    "- False\n",
    "- an empty list\n",
    "- an empty string\n",
    "- an empty dict\n",
    "- integer 0\n",
    "- float 1.0\n",
    "\n",
    "Open the file in a text editor and observe the transcoding between Python values and their representation in JSON - in particular the handling of essentially empty objects."
   ]
  },
  {
   "cell_type": "code",
   "execution_count": 100,
   "metadata": {
    "deletable": false,
    "nbgrader": {
     "cell_type": "code",
     "checksum": "73b0ff0627ecf48aaa61a46b5406b490",
     "grade": false,
     "grade_id": "q15",
     "locked": false,
     "schema_version": 3,
     "solution": true,
     "task": false
    },
    "tags": []
   },
   "outputs": [
    {
     "name": "stdout",
     "output_type": "stream",
     "text": [
      "[None, True, False, [], '', {}, 0, 1.0]\n"
     ]
    }
   ],
   "source": [
    "# Write your solution here\n",
    "\n",
    "# YOUR CODE HERE\n",
    "newdata = [None, True, False, [], '', {}, 0, 1.0]\n",
    "\n",
    "with open('encode-decode.json', 'w') as f:\n",
    "    json.dump(newdata, f)\n",
    "with open('encode-decode.json', 'r') as f:\n",
    "        jstr = f.read()\n",
    "        jdata=json.loads(jstr)\n",
    "        pprint(jdata)"
   ]
  },
  {
   "cell_type": "code",
   "execution_count": null,
   "metadata": {
    "deletable": false,
    "editable": false,
    "nbgrader": {
     "cell_type": "code",
     "checksum": "a07ea23d4b1db679a7d9d94b1d2daafb",
     "grade": true,
     "grade_id": "q15-1-encode-decode",
     "locked": true,
     "points": 5,
     "schema_version": 3,
     "solution": false,
     "task": false
    }
   },
   "outputs": [],
   "source": [
    "# Testing Cell (Do NOT modify this cell)"
   ]
  },
  {
   "cell_type": "markdown",
   "metadata": {},
   "source": [
    "#### Question 16 &nbsp;&nbsp;&nbsp;&nbsp;&nbsp;&nbsp;(10 Points)\n",
    "\n",
    "We can get a string of JSON text from a website or API using the `request` library. The function call to invoke a request is as follows:\n",
    "```python\n",
    "import requests\n",
    "web_request = requests.get(<some url>)\n",
    "json_string = response.text\n",
    "```\n",
    "We can then convert the JSON string into a Python object using `json.loads()` as we already know.\n",
    "\n",
    "Write a program that makes a web request to the URL:  \n",
    "&nbsp;&nbsp;&nbsp;&nbsp;   https://jsonplaceholder.typicode.com/todos <br />\n",
    "for a JSON string. Observe that this is a list of \"todo list\" items. \n",
    "\n",
    "Once you have this list of items (Python dictionaries), set the 'completed' field for each of the first four todo list item to `False` and save to the file `todo-list.json`. Discard the rest of the todo list."
   ]
  },
  {
   "cell_type": "code",
   "execution_count": 104,
   "metadata": {
    "deletable": false,
    "nbgrader": {
     "cell_type": "code",
     "checksum": "59391aa47a9b966123901614cae70b1b",
     "grade": false,
     "grade_id": "q16",
     "locked": false,
     "schema_version": 3,
     "solution": true,
     "task": false
    },
    "tags": []
   },
   "outputs": [
    {
     "name": "stdout",
     "output_type": "stream",
     "text": [
      "[{'completed': False, 'id': 1, 'title': 'delectus aut autem', 'userId': 1},\n",
      " {'completed': False,\n",
      "  'id': 2,\n",
      "  'title': 'quis ut nam facilis et officia qui',\n",
      "  'userId': 1},\n",
      " {'completed': False, 'id': 3, 'title': 'fugiat veniam minus', 'userId': 1},\n",
      " {'completed': False, 'id': 4, 'title': 'et porro tempora', 'userId': 1},\n",
      " {'completed': False,\n",
      "  'id': 5,\n",
      "  'title': 'laboriosam mollitia et enim quasi adipisci quia provident illum',\n",
      "  'userId': 1},\n",
      " {'completed': False,\n",
      "  'id': 6,\n",
      "  'title': 'qui ullam ratione quibusdam voluptatem quia omnis',\n",
      "  'userId': 1},\n",
      " {'completed': False,\n",
      "  'id': 7,\n",
      "  'title': 'illo expedita consequatur quia in',\n",
      "  'userId': 1},\n",
      " {'completed': True,\n",
      "  'id': 8,\n",
      "  'title': 'quo adipisci enim quam ut ab',\n",
      "  'userId': 1},\n",
      " {'completed': False,\n",
      "  'id': 9,\n",
      "  'title': 'molestiae perspiciatis ipsa',\n",
      "  'userId': 1},\n",
      " {'completed': True,\n",
      "  'id': 10,\n",
      "  'title': 'illo est ratione doloremque quia maiores aut',\n",
      "  'userId': 1},\n",
      " {'completed': True,\n",
      "  'id': 11,\n",
      "  'title': 'vero rerum temporibus dolor',\n",
      "  'userId': 1},\n",
      " {'completed': True,\n",
      "  'id': 12,\n",
      "  'title': 'ipsa repellendus fugit nisi',\n",
      "  'userId': 1},\n",
      " {'completed': False, 'id': 13, 'title': 'et doloremque nulla', 'userId': 1},\n",
      " {'completed': True,\n",
      "  'id': 14,\n",
      "  'title': 'repellendus sunt dolores architecto voluptatum',\n",
      "  'userId': 1},\n",
      " {'completed': True,\n",
      "  'id': 15,\n",
      "  'title': 'ab voluptatum amet voluptas',\n",
      "  'userId': 1},\n",
      " {'completed': True,\n",
      "  'id': 16,\n",
      "  'title': 'accusamus eos facilis sint et aut voluptatem',\n",
      "  'userId': 1},\n",
      " {'completed': True,\n",
      "  'id': 17,\n",
      "  'title': 'quo laboriosam deleniti aut qui',\n",
      "  'userId': 1},\n",
      " {'completed': False,\n",
      "  'id': 18,\n",
      "  'title': 'dolorum est consequatur ea mollitia in culpa',\n",
      "  'userId': 1},\n",
      " {'completed': True,\n",
      "  'id': 19,\n",
      "  'title': 'molestiae ipsa aut voluptatibus pariatur dolor nihil',\n",
      "  'userId': 1},\n",
      " {'completed': True,\n",
      "  'id': 20,\n",
      "  'title': 'ullam nobis libero sapiente ad optio sint',\n",
      "  'userId': 1},\n",
      " {'completed': False,\n",
      "  'id': 21,\n",
      "  'title': 'suscipit repellat esse quibusdam voluptatem incidunt',\n",
      "  'userId': 2},\n",
      " {'completed': True,\n",
      "  'id': 22,\n",
      "  'title': 'distinctio vitae autem nihil ut molestias quo',\n",
      "  'userId': 2},\n",
      " {'completed': False,\n",
      "  'id': 23,\n",
      "  'title': 'et itaque necessitatibus maxime molestiae qui quas velit',\n",
      "  'userId': 2},\n",
      " {'completed': False,\n",
      "  'id': 24,\n",
      "  'title': 'adipisci non ad dicta qui amet quaerat doloribus ea',\n",
      "  'userId': 2},\n",
      " {'completed': True,\n",
      "  'id': 25,\n",
      "  'title': 'voluptas quo tenetur perspiciatis explicabo natus',\n",
      "  'userId': 2},\n",
      " {'completed': True, 'id': 26, 'title': 'aliquam aut quasi', 'userId': 2},\n",
      " {'completed': True,\n",
      "  'id': 27,\n",
      "  'title': 'veritatis pariatur delectus',\n",
      "  'userId': 2},\n",
      " {'completed': False,\n",
      "  'id': 28,\n",
      "  'title': 'nesciunt totam sit blanditiis sit',\n",
      "  'userId': 2},\n",
      " {'completed': False, 'id': 29, 'title': 'laborum aut in quam', 'userId': 2},\n",
      " {'completed': True,\n",
      "  'id': 30,\n",
      "  'title': 'nemo perspiciatis repellat ut dolor libero commodi blanditiis '\n",
      "           'omnis',\n",
      "  'userId': 2},\n",
      " {'completed': False,\n",
      "  'id': 31,\n",
      "  'title': 'repudiandae totam in est sint facere fuga',\n",
      "  'userId': 2},\n",
      " {'completed': False,\n",
      "  'id': 32,\n",
      "  'title': 'earum doloribus ea doloremque quis',\n",
      "  'userId': 2},\n",
      " {'completed': False, 'id': 33, 'title': 'sint sit aut vero', 'userId': 2},\n",
      " {'completed': False,\n",
      "  'id': 34,\n",
      "  'title': 'porro aut necessitatibus eaque distinctio',\n",
      "  'userId': 2},\n",
      " {'completed': True,\n",
      "  'id': 35,\n",
      "  'title': 'repellendus veritatis molestias dicta incidunt',\n",
      "  'userId': 2},\n",
      " {'completed': True,\n",
      "  'id': 36,\n",
      "  'title': 'excepturi deleniti adipisci voluptatem et neque optio illum ad',\n",
      "  'userId': 2},\n",
      " {'completed': False, 'id': 37, 'title': 'sunt cum tempora', 'userId': 2},\n",
      " {'completed': False, 'id': 38, 'title': 'totam quia non', 'userId': 2},\n",
      " {'completed': False,\n",
      "  'id': 39,\n",
      "  'title': 'doloremque quibusdam asperiores libero corrupti illum qui omnis',\n",
      "  'userId': 2},\n",
      " {'completed': True,\n",
      "  'id': 40,\n",
      "  'title': 'totam atque quo nesciunt',\n",
      "  'userId': 2},\n",
      " {'completed': False,\n",
      "  'id': 41,\n",
      "  'title': 'aliquid amet impedit consequatur aspernatur placeat eaque fugiat '\n",
      "           'suscipit',\n",
      "  'userId': 3},\n",
      " {'completed': False,\n",
      "  'id': 42,\n",
      "  'title': 'rerum perferendis error quia ut eveniet',\n",
      "  'userId': 3},\n",
      " {'completed': True,\n",
      "  'id': 43,\n",
      "  'title': 'tempore ut sint quis recusandae',\n",
      "  'userId': 3},\n",
      " {'completed': True,\n",
      "  'id': 44,\n",
      "  'title': 'cum debitis quis accusamus doloremque ipsa natus sapiente omnis',\n",
      "  'userId': 3},\n",
      " {'completed': False,\n",
      "  'id': 45,\n",
      "  'title': 'velit soluta adipisci molestias reiciendis harum',\n",
      "  'userId': 3},\n",
      " {'completed': False,\n",
      "  'id': 46,\n",
      "  'title': 'vel voluptatem repellat nihil placeat corporis',\n",
      "  'userId': 3},\n",
      " {'completed': False,\n",
      "  'id': 47,\n",
      "  'title': 'nam qui rerum fugiat accusamus',\n",
      "  'userId': 3},\n",
      " {'completed': False,\n",
      "  'id': 48,\n",
      "  'title': 'sit reprehenderit omnis quia',\n",
      "  'userId': 3},\n",
      " {'completed': False,\n",
      "  'id': 49,\n",
      "  'title': 'ut necessitatibus aut maiores debitis officia blanditiis velit et',\n",
      "  'userId': 3},\n",
      " {'completed': True,\n",
      "  'id': 50,\n",
      "  'title': 'cupiditate necessitatibus ullam aut quis dolor voluptate',\n",
      "  'userId': 3},\n",
      " {'completed': False,\n",
      "  'id': 51,\n",
      "  'title': 'distinctio exercitationem ab doloribus',\n",
      "  'userId': 3},\n",
      " {'completed': False,\n",
      "  'id': 52,\n",
      "  'title': 'nesciunt dolorum quis recusandae ad pariatur ratione',\n",
      "  'userId': 3},\n",
      " {'completed': False,\n",
      "  'id': 53,\n",
      "  'title': 'qui labore est occaecati recusandae aliquid quam',\n",
      "  'userId': 3},\n",
      " {'completed': True,\n",
      "  'id': 54,\n",
      "  'title': 'quis et est ut voluptate quam dolor',\n",
      "  'userId': 3},\n",
      " {'completed': True,\n",
      "  'id': 55,\n",
      "  'title': 'voluptatum omnis minima qui occaecati provident nulla voluptatem '\n",
      "           'ratione',\n",
      "  'userId': 3},\n",
      " {'completed': True,\n",
      "  'id': 56,\n",
      "  'title': 'deleniti ea temporibus enim',\n",
      "  'userId': 3},\n",
      " {'completed': False,\n",
      "  'id': 57,\n",
      "  'title': 'pariatur et magnam ea doloribus similique voluptatem rerum quia',\n",
      "  'userId': 3},\n",
      " {'completed': False,\n",
      "  'id': 58,\n",
      "  'title': 'est dicta totam qui explicabo doloribus qui dignissimos',\n",
      "  'userId': 3},\n",
      " {'completed': False,\n",
      "  'id': 59,\n",
      "  'title': 'perspiciatis velit id laborum placeat iusto et aliquam odio',\n",
      "  'userId': 3},\n",
      " {'completed': True,\n",
      "  'id': 60,\n",
      "  'title': 'et sequi qui architecto ut adipisci',\n",
      "  'userId': 3},\n",
      " {'completed': True,\n",
      "  'id': 61,\n",
      "  'title': 'odit optio omnis qui sunt',\n",
      "  'userId': 4},\n",
      " {'completed': False,\n",
      "  'id': 62,\n",
      "  'title': 'et placeat et tempore aspernatur sint numquam',\n",
      "  'userId': 4},\n",
      " {'completed': True,\n",
      "  'id': 63,\n",
      "  'title': 'doloremque aut dolores quidem fuga qui nulla',\n",
      "  'userId': 4},\n",
      " {'completed': False,\n",
      "  'id': 64,\n",
      "  'title': 'voluptas consequatur qui ut quia magnam nemo esse',\n",
      "  'userId': 4},\n",
      " {'completed': False,\n",
      "  'id': 65,\n",
      "  'title': 'fugiat pariatur ratione ut asperiores necessitatibus magni',\n",
      "  'userId': 4},\n",
      " {'completed': False,\n",
      "  'id': 66,\n",
      "  'title': 'rerum eum molestias autem voluptatum sit optio',\n",
      "  'userId': 4},\n",
      " {'completed': False,\n",
      "  'id': 67,\n",
      "  'title': 'quia voluptatibus voluptatem quos similique maiores repellat',\n",
      "  'userId': 4},\n",
      " {'completed': False,\n",
      "  'id': 68,\n",
      "  'title': 'aut id perspiciatis voluptatem iusto',\n",
      "  'userId': 4},\n",
      " {'completed': False,\n",
      "  'id': 69,\n",
      "  'title': 'doloribus sint dolorum ab adipisci itaque dignissimos aliquam '\n",
      "           'suscipit',\n",
      "  'userId': 4},\n",
      " {'completed': False,\n",
      "  'id': 70,\n",
      "  'title': 'ut sequi accusantium et mollitia delectus sunt',\n",
      "  'userId': 4},\n",
      " {'completed': False, 'id': 71, 'title': 'aut velit saepe ullam', 'userId': 4},\n",
      " {'completed': False,\n",
      "  'id': 72,\n",
      "  'title': 'praesentium facilis facere quis harum voluptatibus voluptatem eum',\n",
      "  'userId': 4},\n",
      " {'completed': True,\n",
      "  'id': 73,\n",
      "  'title': 'sint amet quia totam corporis qui exercitationem commodi',\n",
      "  'userId': 4},\n",
      " {'completed': False,\n",
      "  'id': 74,\n",
      "  'title': 'expedita tempore nobis eveniet laborum maiores',\n",
      "  'userId': 4},\n",
      " {'completed': False,\n",
      "  'id': 75,\n",
      "  'title': 'occaecati adipisci est possimus totam',\n",
      "  'userId': 4},\n",
      " {'completed': True, 'id': 76, 'title': 'sequi dolorem sed', 'userId': 4},\n",
      " {'completed': False,\n",
      "  'id': 77,\n",
      "  'title': 'maiores aut nesciunt delectus exercitationem vel assumenda '\n",
      "           'eligendi at',\n",
      "  'userId': 4},\n",
      " {'completed': False,\n",
      "  'id': 78,\n",
      "  'title': 'reiciendis est magnam amet nemo iste recusandae impedit quaerat',\n",
      "  'userId': 4},\n",
      " {'completed': True, 'id': 79, 'title': 'eum ipsa maxime ut', 'userId': 4},\n",
      " {'completed': True,\n",
      "  'id': 80,\n",
      "  'title': 'tempore molestias dolores rerum sequi voluptates ipsum consequatur',\n",
      "  'userId': 4},\n",
      " {'completed': True, 'id': 81, 'title': 'suscipit qui totam', 'userId': 5},\n",
      " {'completed': False,\n",
      "  'id': 82,\n",
      "  'title': 'voluptates eum voluptas et dicta',\n",
      "  'userId': 5},\n",
      " {'completed': True,\n",
      "  'id': 83,\n",
      "  'title': 'quidem at rerum quis ex aut sit quam',\n",
      "  'userId': 5},\n",
      " {'completed': False,\n",
      "  'id': 84,\n",
      "  'title': 'sunt veritatis ut voluptate',\n",
      "  'userId': 5},\n",
      " {'completed': True, 'id': 85, 'title': 'et quia ad iste a', 'userId': 5},\n",
      " {'completed': True, 'id': 86, 'title': 'incidunt ut saepe autem', 'userId': 5},\n",
      " {'completed': True,\n",
      "  'id': 87,\n",
      "  'title': 'laudantium quae eligendi consequatur quia et vero autem',\n",
      "  'userId': 5},\n",
      " {'completed': False,\n",
      "  'id': 88,\n",
      "  'title': 'vitae aut excepturi laboriosam sint aliquam et et accusantium',\n",
      "  'userId': 5},\n",
      " {'completed': True, 'id': 89, 'title': 'sequi ut omnis et', 'userId': 5},\n",
      " {'completed': True,\n",
      "  'id': 90,\n",
      "  'title': 'molestiae nisi accusantium tenetur dolorem et',\n",
      "  'userId': 5},\n",
      " {'completed': True,\n",
      "  'id': 91,\n",
      "  'title': 'nulla quis consequatur saepe qui id expedita',\n",
      "  'userId': 5},\n",
      " {'completed': True, 'id': 92, 'title': 'in omnis laboriosam', 'userId': 5},\n",
      " {'completed': True,\n",
      "  'id': 93,\n",
      "  'title': 'odio iure consequatur molestiae quibusdam necessitatibus quia sint',\n",
      "  'userId': 5},\n",
      " {'completed': False,\n",
      "  'id': 94,\n",
      "  'title': 'facilis modi saepe mollitia',\n",
      "  'userId': 5},\n",
      " {'completed': True,\n",
      "  'id': 95,\n",
      "  'title': 'vel nihil et molestiae iusto assumenda nemo quo ut',\n",
      "  'userId': 5},\n",
      " {'completed': False,\n",
      "  'id': 96,\n",
      "  'title': 'nobis suscipit ducimus enim asperiores voluptas',\n",
      "  'userId': 5},\n",
      " {'completed': False,\n",
      "  'id': 97,\n",
      "  'title': 'dolorum laboriosam eos qui iure aliquam',\n",
      "  'userId': 5},\n",
      " {'completed': True,\n",
      "  'id': 98,\n",
      "  'title': 'debitis accusantium ut quo facilis nihil quis sapiente '\n",
      "           'necessitatibus',\n",
      "  'userId': 5},\n",
      " {'completed': False,\n",
      "  'id': 99,\n",
      "  'title': 'neque voluptates ratione',\n",
      "  'userId': 5},\n",
      " {'completed': False,\n",
      "  'id': 100,\n",
      "  'title': 'excepturi a et neque qui expedita vel voluptate',\n",
      "  'userId': 5},\n",
      " {'completed': False,\n",
      "  'id': 101,\n",
      "  'title': 'explicabo enim cumque porro aperiam occaecati minima',\n",
      "  'userId': 6},\n",
      " {'completed': False, 'id': 102, 'title': 'sed ab consequatur', 'userId': 6},\n",
      " {'completed': False,\n",
      "  'id': 103,\n",
      "  'title': 'non sunt delectus illo nulla tenetur enim omnis',\n",
      "  'userId': 6},\n",
      " {'completed': False,\n",
      "  'id': 104,\n",
      "  'title': 'excepturi non laudantium quo',\n",
      "  'userId': 6},\n",
      " {'completed': True,\n",
      "  'id': 105,\n",
      "  'title': 'totam quia dolorem et illum repellat voluptas optio',\n",
      "  'userId': 6},\n",
      " {'completed': True,\n",
      "  'id': 106,\n",
      "  'title': 'ad illo quis voluptatem temporibus',\n",
      "  'userId': 6},\n",
      " {'completed': False,\n",
      "  'id': 107,\n",
      "  'title': 'praesentium facilis omnis laudantium fugit ad iusto nihil nesciunt',\n",
      "  'userId': 6},\n",
      " {'completed': True,\n",
      "  'id': 108,\n",
      "  'title': 'a eos eaque nihil et exercitationem incidunt delectus',\n",
      "  'userId': 6},\n",
      " {'completed': True,\n",
      "  'id': 109,\n",
      "  'title': 'autem temporibus harum quisquam in culpa',\n",
      "  'userId': 6},\n",
      " {'completed': True, 'id': 110, 'title': 'aut aut ea corporis', 'userId': 6},\n",
      " {'completed': False,\n",
      "  'id': 111,\n",
      "  'title': 'magni accusantium labore et id quis provident',\n",
      "  'userId': 6},\n",
      " {'completed': False,\n",
      "  'id': 112,\n",
      "  'title': 'consectetur impedit quisquam qui deserunt non rerum consequuntur '\n",
      "           'eius',\n",
      "  'userId': 6},\n",
      " {'completed': False,\n",
      "  'id': 113,\n",
      "  'title': 'quia atque aliquam sunt impedit voluptatum rerum assumenda nisi',\n",
      "  'userId': 6},\n",
      " {'completed': False,\n",
      "  'id': 114,\n",
      "  'title': 'cupiditate quos possimus corporis quisquam exercitationem beatae',\n",
      "  'userId': 6},\n",
      " {'completed': False, 'id': 115, 'title': 'sed et ea eum', 'userId': 6},\n",
      " {'completed': True,\n",
      "  'id': 116,\n",
      "  'title': 'ipsa dolores vel facilis ut',\n",
      "  'userId': 6},\n",
      " {'completed': False,\n",
      "  'id': 117,\n",
      "  'title': 'sequi quae est et qui qui eveniet asperiores',\n",
      "  'userId': 6},\n",
      " {'completed': False,\n",
      "  'id': 118,\n",
      "  'title': 'quia modi consequatur vero fugiat',\n",
      "  'userId': 6},\n",
      " {'completed': False,\n",
      "  'id': 119,\n",
      "  'title': 'corporis ducimus ea perspiciatis iste',\n",
      "  'userId': 6},\n",
      " {'completed': False,\n",
      "  'id': 120,\n",
      "  'title': 'dolorem laboriosam vel voluptas et aliquam quasi',\n",
      "  'userId': 6},\n",
      " {'completed': True,\n",
      "  'id': 121,\n",
      "  'title': 'inventore aut nihil minima laudantium hic qui omnis',\n",
      "  'userId': 7},\n",
      " {'completed': True,\n",
      "  'id': 122,\n",
      "  'title': 'provident aut nobis culpa',\n",
      "  'userId': 7},\n",
      " {'completed': False,\n",
      "  'id': 123,\n",
      "  'title': 'esse et quis iste est earum aut impedit',\n",
      "  'userId': 7},\n",
      " {'completed': False, 'id': 124, 'title': 'qui consectetur id', 'userId': 7},\n",
      " {'completed': False,\n",
      "  'id': 125,\n",
      "  'title': 'aut quasi autem iste tempore illum possimus',\n",
      "  'userId': 7},\n",
      " {'completed': True,\n",
      "  'id': 126,\n",
      "  'title': 'ut asperiores perspiciatis veniam ipsum rerum saepe',\n",
      "  'userId': 7},\n",
      " {'completed': True,\n",
      "  'id': 127,\n",
      "  'title': 'voluptatem libero consectetur rerum ut',\n",
      "  'userId': 7},\n",
      " {'completed': False,\n",
      "  'id': 128,\n",
      "  'title': 'eius omnis est qui voluptatem autem',\n",
      "  'userId': 7},\n",
      " {'completed': False,\n",
      "  'id': 129,\n",
      "  'title': 'rerum culpa quis harum',\n",
      "  'userId': 7},\n",
      " {'completed': True,\n",
      "  'id': 130,\n",
      "  'title': 'nulla aliquid eveniet harum laborum libero alias ut unde',\n",
      "  'userId': 7},\n",
      " {'completed': False, 'id': 131, 'title': 'qui ea incidunt quis', 'userId': 7},\n",
      " {'completed': True,\n",
      "  'id': 132,\n",
      "  'title': 'qui molestiae voluptatibus velit iure harum quisquam',\n",
      "  'userId': 7},\n",
      " {'completed': True,\n",
      "  'id': 133,\n",
      "  'title': 'et labore eos enim rerum consequatur sunt',\n",
      "  'userId': 7},\n",
      " {'completed': False,\n",
      "  'id': 134,\n",
      "  'title': 'molestiae doloribus et laborum quod ea',\n",
      "  'userId': 7},\n",
      " {'completed': False,\n",
      "  'id': 135,\n",
      "  'title': 'facere ipsa nam eum voluptates reiciendis vero qui',\n",
      "  'userId': 7},\n",
      " {'completed': False,\n",
      "  'id': 136,\n",
      "  'title': 'asperiores illo tempora fuga sed ut quasi adipisci',\n",
      "  'userId': 7},\n",
      " {'completed': False, 'id': 137, 'title': 'qui sit non', 'userId': 7},\n",
      " {'completed': True,\n",
      "  'id': 138,\n",
      "  'title': 'placeat minima consequatur rem qui ut',\n",
      "  'userId': 7},\n",
      " {'completed': False,\n",
      "  'id': 139,\n",
      "  'title': 'consequatur doloribus id possimus voluptas a voluptatem',\n",
      "  'userId': 7},\n",
      " {'completed': True,\n",
      "  'id': 140,\n",
      "  'title': 'aut consectetur in blanditiis deserunt quia sed laboriosam',\n",
      "  'userId': 7},\n",
      " {'completed': True,\n",
      "  'id': 141,\n",
      "  'title': 'explicabo consectetur debitis voluptates quas quae culpa rerum non',\n",
      "  'userId': 8},\n",
      " {'completed': True,\n",
      "  'id': 142,\n",
      "  'title': 'maiores accusantium architecto necessitatibus reiciendis ea aut',\n",
      "  'userId': 8},\n",
      " {'completed': False,\n",
      "  'id': 143,\n",
      "  'title': 'eum non recusandae cupiditate animi',\n",
      "  'userId': 8},\n",
      " {'completed': False,\n",
      "  'id': 144,\n",
      "  'title': 'ut eum exercitationem sint',\n",
      "  'userId': 8},\n",
      " {'completed': False,\n",
      "  'id': 145,\n",
      "  'title': 'beatae qui ullam incidunt voluptatem non nisi aliquam',\n",
      "  'userId': 8},\n",
      " {'completed': True,\n",
      "  'id': 146,\n",
      "  'title': 'molestiae suscipit ratione nihil odio libero impedit vero totam',\n",
      "  'userId': 8},\n",
      " {'completed': True,\n",
      "  'id': 147,\n",
      "  'title': 'eum itaque quod reprehenderit et facilis dolor autem ut',\n",
      "  'userId': 8},\n",
      " {'completed': False,\n",
      "  'id': 148,\n",
      "  'title': 'esse quas et quo quasi exercitationem',\n",
      "  'userId': 8},\n",
      " {'completed': False,\n",
      "  'id': 149,\n",
      "  'title': 'animi voluptas quod perferendis est',\n",
      "  'userId': 8},\n",
      " {'completed': False,\n",
      "  'id': 150,\n",
      "  'title': 'eos amet tempore laudantium fugit a',\n",
      "  'userId': 8},\n",
      " {'completed': True,\n",
      "  'id': 151,\n",
      "  'title': 'accusamus adipisci dicta qui quo ea explicabo sed vero',\n",
      "  'userId': 8},\n",
      " {'completed': False,\n",
      "  'id': 152,\n",
      "  'title': 'odit eligendi recusandae doloremque cumque non',\n",
      "  'userId': 8},\n",
      " {'completed': False,\n",
      "  'id': 153,\n",
      "  'title': 'ea aperiam consequatur qui repellat eos',\n",
      "  'userId': 8},\n",
      " {'completed': True, 'id': 154, 'title': 'rerum non ex sapiente', 'userId': 8},\n",
      " {'completed': True,\n",
      "  'id': 155,\n",
      "  'title': 'voluptatem nobis consequatur et assumenda magnam',\n",
      "  'userId': 8},\n",
      " {'completed': True,\n",
      "  'id': 156,\n",
      "  'title': 'nam quia quia nulla repellat assumenda quibusdam sit nobis',\n",
      "  'userId': 8},\n",
      " {'completed': True,\n",
      "  'id': 157,\n",
      "  'title': 'dolorem veniam quisquam deserunt repellendus',\n",
      "  'userId': 8},\n",
      " {'completed': True,\n",
      "  'id': 158,\n",
      "  'title': 'debitis vitae delectus et harum accusamus aut deleniti a',\n",
      "  'userId': 8},\n",
      " {'completed': True,\n",
      "  'id': 159,\n",
      "  'title': 'debitis adipisci quibusdam aliquam sed dolore ea praesentium nobis',\n",
      "  'userId': 8},\n",
      " {'completed': False,\n",
      "  'id': 160,\n",
      "  'title': 'et praesentium aliquam est',\n",
      "  'userId': 8},\n",
      " {'completed': True,\n",
      "  'id': 161,\n",
      "  'title': 'ex hic consequuntur earum omnis alias ut occaecati culpa',\n",
      "  'userId': 9},\n",
      " {'completed': True,\n",
      "  'id': 162,\n",
      "  'title': 'omnis laboriosam molestias animi sunt dolore',\n",
      "  'userId': 9},\n",
      " {'completed': False,\n",
      "  'id': 163,\n",
      "  'title': 'natus corrupti maxime laudantium et voluptatem laboriosam odit',\n",
      "  'userId': 9},\n",
      " {'completed': False,\n",
      "  'id': 164,\n",
      "  'title': 'reprehenderit quos aut aut consequatur est sed',\n",
      "  'userId': 9},\n",
      " {'completed': False,\n",
      "  'id': 165,\n",
      "  'title': 'fugiat perferendis sed aut quidem',\n",
      "  'userId': 9},\n",
      " {'completed': False,\n",
      "  'id': 166,\n",
      "  'title': 'quos quo possimus suscipit minima ut',\n",
      "  'userId': 9},\n",
      " {'completed': False,\n",
      "  'id': 167,\n",
      "  'title': 'et quis minus quo a asperiores molestiae',\n",
      "  'userId': 9},\n",
      " {'completed': False,\n",
      "  'id': 168,\n",
      "  'title': 'recusandae quia qui sunt libero',\n",
      "  'userId': 9},\n",
      " {'completed': True,\n",
      "  'id': 169,\n",
      "  'title': 'ea odio perferendis officiis',\n",
      "  'userId': 9},\n",
      " {'completed': False,\n",
      "  'id': 170,\n",
      "  'title': 'quisquam aliquam quia doloribus aut',\n",
      "  'userId': 9},\n",
      " {'completed': True,\n",
      "  'id': 171,\n",
      "  'title': 'fugiat aut voluptatibus corrupti deleniti velit iste odio',\n",
      "  'userId': 9},\n",
      " {'completed': False,\n",
      "  'id': 172,\n",
      "  'title': 'et provident amet rerum consectetur et voluptatum',\n",
      "  'userId': 9},\n",
      " {'completed': False, 'id': 173, 'title': 'harum ad aperiam quis', 'userId': 9},\n",
      " {'completed': False, 'id': 174, 'title': 'similique aut quo', 'userId': 9},\n",
      " {'completed': True,\n",
      "  'id': 175,\n",
      "  'title': 'laudantium eius officia perferendis provident perspiciatis '\n",
      "           'asperiores',\n",
      "  'userId': 9},\n",
      " {'completed': False,\n",
      "  'id': 176,\n",
      "  'title': 'magni soluta corrupti ut maiores rem quidem',\n",
      "  'userId': 9},\n",
      " {'completed': False,\n",
      "  'id': 177,\n",
      "  'title': 'et placeat temporibus voluptas est tempora quos quibusdam',\n",
      "  'userId': 9},\n",
      " {'completed': True,\n",
      "  'id': 178,\n",
      "  'title': 'nesciunt itaque commodi tempore',\n",
      "  'userId': 9},\n",
      " {'completed': True,\n",
      "  'id': 179,\n",
      "  'title': 'omnis consequuntur cupiditate impedit itaque ipsam quo',\n",
      "  'userId': 9},\n",
      " {'completed': True,\n",
      "  'id': 180,\n",
      "  'title': 'debitis nisi et dolorem repellat et',\n",
      "  'userId': 9},\n",
      " {'completed': False,\n",
      "  'id': 181,\n",
      "  'title': 'ut cupiditate sequi aliquam fuga maiores',\n",
      "  'userId': 10},\n",
      " {'completed': True,\n",
      "  'id': 182,\n",
      "  'title': 'inventore saepe cumque et aut illum enim',\n",
      "  'userId': 10},\n",
      " {'completed': True,\n",
      "  'id': 183,\n",
      "  'title': 'omnis nulla eum aliquam distinctio',\n",
      "  'userId': 10},\n",
      " {'completed': False,\n",
      "  'id': 184,\n",
      "  'title': 'molestias modi perferendis perspiciatis',\n",
      "  'userId': 10},\n",
      " {'completed': False,\n",
      "  'id': 185,\n",
      "  'title': 'voluptates dignissimos sed doloribus animi quaerat aut',\n",
      "  'userId': 10},\n",
      " {'completed': False,\n",
      "  'id': 186,\n",
      "  'title': 'explicabo odio est et',\n",
      "  'userId': 10},\n",
      " {'completed': False,\n",
      "  'id': 187,\n",
      "  'title': 'consequuntur animi possimus',\n",
      "  'userId': 10},\n",
      " {'completed': True, 'id': 188, 'title': 'vel non beatae est', 'userId': 10},\n",
      " {'completed': True,\n",
      "  'id': 189,\n",
      "  'title': 'culpa eius et voluptatem et',\n",
      "  'userId': 10},\n",
      " {'completed': True,\n",
      "  'id': 190,\n",
      "  'title': 'accusamus sint iusto et voluptatem exercitationem',\n",
      "  'userId': 10},\n",
      " {'completed': True,\n",
      "  'id': 191,\n",
      "  'title': 'temporibus atque distinctio omnis eius impedit tempore molestias '\n",
      "           'pariatur',\n",
      "  'userId': 10},\n",
      " {'completed': False,\n",
      "  'id': 192,\n",
      "  'title': 'ut quas possimus exercitationem sint voluptates',\n",
      "  'userId': 10},\n",
      " {'completed': True,\n",
      "  'id': 193,\n",
      "  'title': 'rerum debitis voluptatem qui eveniet tempora distinctio a',\n",
      "  'userId': 10},\n",
      " {'completed': False,\n",
      "  'id': 194,\n",
      "  'title': 'sed ut vero sit molestiae',\n",
      "  'userId': 10},\n",
      " {'completed': True,\n",
      "  'id': 195,\n",
      "  'title': 'rerum ex veniam mollitia voluptatibus pariatur',\n",
      "  'userId': 10},\n",
      " {'completed': True,\n",
      "  'id': 196,\n",
      "  'title': 'consequuntur aut ut fugit similique',\n",
      "  'userId': 10},\n",
      " {'completed': True,\n",
      "  'id': 197,\n",
      "  'title': 'dignissimos quo nobis earum saepe',\n",
      "  'userId': 10},\n",
      " {'completed': True,\n",
      "  'id': 198,\n",
      "  'title': 'quis eius est sint explicabo',\n",
      "  'userId': 10},\n",
      " {'completed': True,\n",
      "  'id': 199,\n",
      "  'title': 'numquam repellendus a magnam',\n",
      "  'userId': 10},\n",
      " {'completed': False,\n",
      "  'id': 200,\n",
      "  'title': 'ipsam aperiam voluptates qui',\n",
      "  'userId': 10}]\n"
     ]
    },
    {
     "ename": "NameError",
     "evalue": "name 'todo' is not defined",
     "output_type": "error",
     "traceback": [
      "\u001b[1;31m---------------------------------------------------------------------------\u001b[0m",
      "\u001b[1;31mNameError\u001b[0m                                 Traceback (most recent call last)",
      "Input \u001b[1;32mIn [104]\u001b[0m, in \u001b[0;36m<cell line: 13>\u001b[1;34m()\u001b[0m\n\u001b[0;32m     11\u001b[0m pprint(newdata)\n\u001b[0;32m     13\u001b[0m \u001b[38;5;28;01mwith\u001b[39;00m \u001b[38;5;28mopen\u001b[39m(\u001b[38;5;124m'\u001b[39m\u001b[38;5;124mencode-decode.json\u001b[39m\u001b[38;5;124m'\u001b[39m, \u001b[38;5;124m'\u001b[39m\u001b[38;5;124mw\u001b[39m\u001b[38;5;124m'\u001b[39m) \u001b[38;5;28;01mas\u001b[39;00m f:\n\u001b[1;32m---> 14\u001b[0m     json\u001b[38;5;241m.\u001b[39mdump(\u001b[43mtodo\u001b[49m\u001b[38;5;241m-\u001b[39m\u001b[38;5;28mlist\u001b[39m\u001b[38;5;241m.\u001b[39mjson, f)\n",
      "\u001b[1;31mNameError\u001b[0m: name 'todo' is not defined"
     ]
    }
   ],
   "source": [
    "# Write your solution here\n",
    "\n",
    "# YOUR CODE HERE\n",
    "import requests\n",
    "web_request = requests.get(\"https://jsonplaceholder.typicode.com/todos\")\n",
    "json_string = web_request.text\n",
    "newdata = json.loads(json_string)\n",
    "# pprint(newdata)\n",
    "for i in range(4):\n",
    "    newdata[i]['completed'] = False\n",
    "pprint(newdata)\n",
    "\n",
    "with open('encode-decode.json', 'w') as f:\n",
    "    json.dump(todo-list.json, f)"
   ]
  },
  {
   "cell_type": "code",
   "execution_count": null,
   "metadata": {
    "deletable": false,
    "editable": false,
    "nbgrader": {
     "cell_type": "code",
     "checksum": "590476da188d5781562ccdc52df86ff3",
     "grade": true,
     "grade_id": "q16-1-request-api",
     "locked": true,
     "points": 10,
     "schema_version": 3,
     "solution": false,
     "task": false
    },
    "tags": []
   },
   "outputs": [],
   "source": [
    "# Testing Cell (Do NOT modify this cell)"
   ]
  }
 ],
 "metadata": {
  "kernelspec": {
   "display_name": "Python 3 (ipykernel)",
   "language": "python",
   "name": "python3"
  },
  "language_info": {
   "codemirror_mode": {
    "name": "ipython",
    "version": 3
   },
   "file_extension": ".py",
   "mimetype": "text/x-python",
   "name": "python",
   "nbconvert_exporter": "python",
   "pygments_lexer": "ipython3",
   "version": "3.9.12"
  },
  "varInspector": {
   "cols": {
    "lenName": 16,
    "lenType": 16,
    "lenVar": 40
   },
   "kernels_config": {
    "python": {
     "delete_cmd_postfix": "",
     "delete_cmd_prefix": "del ",
     "library": "var_list.py",
     "varRefreshCmd": "print(var_dic_list())"
    },
    "r": {
     "delete_cmd_postfix": ") ",
     "delete_cmd_prefix": "rm(",
     "library": "var_list.r",
     "varRefreshCmd": "cat(var_dic_list()) "
    }
   },
   "types_to_exclude": [
    "module",
    "function",
    "builtin_function_or_method",
    "instance",
    "_Feature"
   ],
   "window_display": false
  },
  "vscode": {
   "interpreter": {
    "hash": "0ac57d2eed93d1985c061356ac1b47099e5703f3945d87a36acb05b5379e5e68"
   }
  }
 },
 "nbformat": 4,
 "nbformat_minor": 4
}
