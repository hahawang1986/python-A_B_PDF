{
 "cells": [
  {
   "cell_type": "markdown",
   "metadata": {},
   "source": [
    "### Instructions:\n",
    "\n",
    "- You can attempt any number of questions and in any order.  \n",
    "  See the assignment page for a description of the hurdle requirement for this assessment.\n",
    "- You may submit your practical for autograding as many times as you like to check on progress, however you will save time by checking and testing your own code before submitting.\n",
    "- Develop and check your answers in the spaces provided.\n",
    "- **Replace** the code `raise NotImplementedError()` with your solution to the question.\n",
    "- Do **NOT** remove any variables other provided markings already provided in the answer spaces.\n",
    "- Do **NOT** make any changes to this notebook outside of the spaces indicated.  \n",
    "  (If you do this, the submission system might not accept your work)\n",
    "\n",
    "### Submitting:\n",
    "\n",
    "1. Before you turn this problem in, make sure everything runs as expected by resetting this notebook.    \n",
    "   (You can do this from the menubar above by selecting `Kernel`&#8594;`Restart Kernel and Run All Cells...`)\n",
    "1. Don't forget to save your notebook after this step.\n",
    "1. Submit your .ipynb file to Gradescope via file upload or GitHub repository.\n",
    "1. You can submit as many times as needed.\n",
    "1. You **must** give your submitted file the **identical** filename to that which you downloaded without changing **any** aspects - spaces, underscores, capitalisation etc. If your operating system has changed the filename because you downloaded the file twice or more you **must** also fix this.  \n",
    "\n"
   ]
  },
  {
   "cell_type": "markdown",
   "metadata": {},
   "source": [
    "---"
   ]
  },
  {
   "cell_type": "markdown",
   "metadata": {
    "tags": []
   },
   "source": [
    "# <mark style=\"background: #2dc26b; color: #ffffff;\" >&nbsp;B3&nbsp;</mark>&ensp;Topic 9: Searching\n"
   ]
  },
  {
   "cell_type": "code",
   "execution_count": null,
   "metadata": {},
   "outputs": [],
   "source": [
    "from string import ascii_uppercase"
   ]
  },
  {
   "cell_type": "markdown",
   "metadata": {},
   "source": [
    "#### Question 01 &nbsp;&nbsp;&nbsp;&nbsp;&nbsp;&nbsp;(5 Points)\n",
    "\n",
    "Write a function defined as:\n",
    "```python\n",
    "def reverse_linear (un_list, match):\n",
    "```\n",
    "that performs a linear search on the list from the last element to the first returning the index of the first matching element as a tuple `(True, index)` or `(False, -1)` if not found.\n",
    "\n",
    "For example:\n",
    "```python\n",
    "reverse_linear ([7, 7], 7) # returns (True, 1)\n",
    "```"
   ]
  },
  {
   "cell_type": "code",
   "execution_count": 63,
   "metadata": {
    "deletable": false,
    "nbgrader": {
     "cell_type": "code",
     "checksum": "d9033e05da7eb91727253d5a2299257e",
     "grade": false,
     "grade_id": "q1",
     "locked": false,
     "schema_version": 3,
     "solution": true,
     "task": false
    },
    "tags": []
   },
   "outputs": [
    {
     "data": {
      "text/plain": [
       "(True, 1)"
      ]
     },
     "execution_count": 63,
     "metadata": {},
     "output_type": "execute_result"
    }
   ],
   "source": [
    "def reverse_linear (un_list, match):\n",
    "    if not isinstance(un_list,list):\n",
    "        return False,-1\n",
    "    for i in range(len(un_list)-1,-1,-1):\n",
    "        if un_list[i] == match:\n",
    "            return (True, i)\n",
    "    return (False,-1)\n",
    "reverse_linear ([7, 7], 7)"
   ]
  },
  {
   "cell_type": "code",
   "execution_count": null,
   "metadata": {
    "deletable": false,
    "editable": false,
    "nbgrader": {
     "cell_type": "code",
     "checksum": "bc699076e9c694f950ae7c014b30f6e1",
     "grade": true,
     "grade_id": "q1-reverse-linea",
     "locked": true,
     "points": 5,
     "schema_version": 3,
     "solution": false,
     "task": false
    },
    "tags": []
   },
   "outputs": [],
   "source": [
    "# Testing Cell (Do NOT modify this cell)"
   ]
  },
  {
   "cell_type": "markdown",
   "metadata": {},
   "source": [
    "#### Question 02 &nbsp;&nbsp;&nbsp;&nbsp;&nbsp;&nbsp;(5 Points)\n",
    "\n",
    "Write a function defined as:\n",
    "```python\n",
    "def weighted_binary_search (or_list, match):\n",
    "```\n",
    "that performs a **iterative binary search** on an ordered list of ints that returns the `index x value` (index multiplied by value) or `False` if the element is not found.\n",
    "\n",
    "For example:\n",
    "```python\n",
    "weighted_binary_search ([0, 3, 6], 6) == 12 # because (value) = 6 * (index) 2\n",
    "```"
   ]
  },
  {
   "cell_type": "code",
   "execution_count": 9,
   "metadata": {
    "deletable": false,
    "nbgrader": {
     "cell_type": "code",
     "checksum": "f4def7ca9d085c3f6c30536594ece005",
     "grade": false,
     "grade_id": "q2",
     "locked": false,
     "schema_version": 3,
     "solution": true,
     "task": false
    },
    "tags": []
   },
   "outputs": [
    {
     "data": {
      "text/plain": [
       "12"
      ]
     },
     "execution_count": 9,
     "metadata": {},
     "output_type": "execute_result"
    }
   ],
   "source": [
    "def weighted_binary_search (or_list, match):\n",
    "    low = 0\n",
    "    high = len(or_list)-1\n",
    "        \n",
    "    while low <= high:\n",
    "        mid = (low+high)//2\n",
    "        if or_list[mid] > match:\n",
    "            high = mid -1\n",
    "        elif or_list[mid] < match:\n",
    "            low = mid + 1\n",
    "        else:\n",
    "            return match * mid\n",
    "    return False         \n",
    "                \n",
    "    \n",
    "weighted_binary_search ([0, 3, 6], 6) "
   ]
  },
  {
   "cell_type": "code",
   "execution_count": null,
   "metadata": {
    "deletable": false,
    "editable": false,
    "nbgrader": {
     "cell_type": "code",
     "checksum": "d9d9d27cb3776888c72e14d91b093209",
     "grade": true,
     "grade_id": "q2-weighted-binary",
     "locked": true,
     "points": 5,
     "schema_version": 3,
     "solution": false,
     "task": false
    },
    "tags": []
   },
   "outputs": [],
   "source": [
    "# Testing Cell (Do NOT modify this cell)"
   ]
  },
  {
   "cell_type": "markdown",
   "metadata": {},
   "source": [
    "#### Question 03 &nbsp;&nbsp;&nbsp;&nbsp;&nbsp;&nbsp;(10 Points)\n",
    "\n",
    "Write a function defined as:\n",
    "```python\n",
    "def num_matches_jump_search (or_list, match, jump = 1):\n",
    "```\n",
    "\n",
    "that implements a **jump search** that takes the size of the jump (`jump >= 1`) as an input parameter to find the value `match`. If that value is found, the function should then use linear search to discover all adjacent values that also match to the `match` parameter. The search should return the number of items in the ordered list that match the search value (rather than the index) or `False` if the item was not found.\n",
    "\n",
    "For example:\n",
    "```python\n",
    "num_matches_jump_search ([0, 2, 3, 5, 5, 6, 8, 11, 12, 12, 12], 5, 2) == 2\n",
    "```"
   ]
  },
  {
   "cell_type": "code",
   "execution_count": 14,
   "metadata": {
    "deletable": false,
    "nbgrader": {
     "cell_type": "code",
     "checksum": "8f301466336ea10ada1001b1aaa81e4f",
     "grade": false,
     "grade_id": "q3",
     "locked": false,
     "schema_version": 3,
     "solution": true,
     "task": false
    },
    "tags": []
   },
   "outputs": [
    {
     "name": "stdout",
     "output_type": "stream",
     "text": [
      "4\n",
      "lst2\n",
      "lst1\n",
      "lst0\n"
     ]
    },
    {
     "data": {
      "text/plain": [
       "3"
      ]
     },
     "execution_count": 14,
     "metadata": {},
     "output_type": "execute_result"
    }
   ],
   "source": [
    "def num_matches_jump_search (or_list, match, jump = 1):\n",
    "    left = 0\n",
    "    right = jump\n",
    "    count = 0\n",
    "    #print(len(or_list))\n",
    "    while right < len(or_list) and or_list[right] <= match:\n",
    "        left = right \n",
    "        right += jump\n",
    "        print(right) \n",
    "    for i in range(min(right+1,len(or_list)-1),-1,-1):\n",
    "        if or_list[i] == match:\n",
    "            print( f'lst{i}')\n",
    "            count += 1\n",
    "        elif or_list[i] < match:\n",
    "            break\n",
    "                   \n",
    "    return count\n",
    "    \n",
    "    \n",
    "num_matches_jump_search ([0,0,0, 2, 3, 5, 5, 6, 8, 11, 12, 12, 12],0, 2) \n",
    "        "
   ]
  },
  {
   "cell_type": "code",
   "execution_count": null,
   "metadata": {
    "deletable": false,
    "editable": false,
    "nbgrader": {
     "cell_type": "code",
     "checksum": "2cf033d94797c764a1bc48310ccc38b2",
     "grade": true,
     "grade_id": "q3-jump",
     "locked": true,
     "points": 10,
     "schema_version": 3,
     "solution": false,
     "task": false
    },
    "tags": []
   },
   "outputs": [],
   "source": [
    "# Testing Cell (Do NOT modify this cell)"
   ]
  },
  {
   "cell_type": "markdown",
   "metadata": {},
   "source": [
    "#### Question 04 &nbsp;&nbsp;&nbsp;&nbsp;&nbsp;&nbsp;(10 Points)\n",
    "\n",
    "Write a function defined as:\n",
    "```python\n",
    "def binary_search_tuples_by_second_value (tu_list,  match):\n",
    "```\n",
    "that implements a binary search to find the second element in a list of tuples sorted by the second value in the tuple returning the tuple found at the index of the first match or `False` when the match is not found.\n",
    "\n",
    "For example:\n",
    "```python\n",
    "# because the tuple (1,2) has '2' in the second position.\n",
    "binary_search_tuples_by_second_value ([(1,2),(1,4),(3,5),(5,7)], 2) == (1, 2)\n",
    "```"
   ]
  },
  {
   "cell_type": "code",
   "execution_count": 26,
   "metadata": {
    "deletable": false,
    "nbgrader": {
     "cell_type": "code",
     "checksum": "5ecefc6747e5b4c592e4ce57d69972de",
     "grade": false,
     "grade_id": "q4",
     "locked": false,
     "schema_version": 3,
     "solution": true,
     "task": false
    },
    "tags": []
   },
   "outputs": [
    {
     "data": {
      "text/plain": [
       "(1, 2)"
      ]
     },
     "execution_count": 26,
     "metadata": {},
     "output_type": "execute_result"
    }
   ],
   "source": [
    "def binary_search_tuples_by_second_value (tu_list,  match):\n",
    "    low = 0\n",
    "    high = len(tu_list)-1\n",
    "    while low <= high:\n",
    "        mid = (low+high)//2\n",
    "        if tu_list[mid][1] > match:\n",
    "            high = mid-1\n",
    "        elif tu_list[mid][1] < match:\n",
    "            low = mid +1\n",
    "        else:\n",
    "            return tu_list[mid]\n",
    "    return False\n",
    "binary_search_tuples_by_second_value ([(1,2),(1,4),(3,5),(5,7)], 2)\n"
   ]
  },
  {
   "cell_type": "code",
   "execution_count": null,
   "metadata": {
    "deletable": false,
    "editable": false,
    "nbgrader": {
     "cell_type": "code",
     "checksum": "327dc6a1b2fea1e465c06253b576b4b6",
     "grade": true,
     "grade_id": "q4-binary-tuples",
     "locked": true,
     "points": 10,
     "schema_version": 3,
     "solution": false,
     "task": false
    }
   },
   "outputs": [],
   "source": [
    "# Testing Cell (Do NOT modify this cell)"
   ]
  },
  {
   "cell_type": "markdown",
   "metadata": {},
   "source": [
    "#### Question 05 &nbsp;&nbsp;&nbsp;&nbsp;&nbsp;&nbsp;(10 Points)\n",
    "\n",
    "Write a function defined as: \n",
    "```python\n",
    "def search_float_with_tolerance (or_list, match, tolerance = 0.5):\n",
    "```\n",
    "that will accepts an ordered list of floats and a tolerance that performs a search of any type for a float and returns the first value that matches plus or minus the tolerance or returns `False` if no value is found within that tolerance such that:\n",
    "```python\n",
    "(match - tolerance) <= match <= (match + tolerance)\n",
    "````    "
   ]
  },
  {
   "cell_type": "code",
   "execution_count": 60,
   "metadata": {
    "deletable": false,
    "nbgrader": {
     "cell_type": "code",
     "checksum": "a663c2473284e39ae0b45b3a676ce2d5",
     "grade": false,
     "grade_id": "q5",
     "locked": false,
     "schema_version": 3,
     "solution": true,
     "task": false
    },
    "tags": []
   },
   "outputs": [
    {
     "data": {
      "text/plain": [
       "2.4"
      ]
     },
     "execution_count": 60,
     "metadata": {},
     "output_type": "execute_result"
    }
   ],
   "source": [
    "import math\n",
    "# def search_float_with_tolerance (or_list, match, tolerance = 0.5):\n",
    "#     block_size = int(math.sqrt(len(or_list)))\n",
    "#     left = 0\n",
    "#     right = block_size\n",
    "#     while right < len(or_list) and or_list[right] < match -tolerance:\n",
    "#         left = right + 1\n",
    "#         right += block_size\n",
    "\n",
    "#     for i in range(left,min(right+1,len(or_list))):\n",
    "#         if or_list[i] >= match -tolerance:\n",
    "#             return or_list[i]\n",
    "#     return False\n",
    "                   \n",
    "# search_float_with_tolerance ([0,1,1.2,1.4,2.4,5.6], 2.3, tolerance = 0.5)\n",
    "def search_float_with_tolerance(or_list, match, tolerance=0.5):\n",
    "    left = 0\n",
    "    right = len(or_list) - 1\n",
    "\n",
    "    while left <= right:\n",
    "        mid = (left + right) // 2\n",
    "        if match - tolerance <= or_list[mid] <= match + tolerance:\n",
    "            return or_list[mid]\n",
    "        elif or_list[mid] < match - tolerance:\n",
    "            left = mid + 1\n",
    "        else:\n",
    "            right = mid - 1\n",
    "\n",
    "    return False\n",
    "search_float_with_tolerance ([0,1,1.2,1.4,2.4,5.6], 2.3, tolerance = 0.5)"
   ]
  },
  {
   "cell_type": "code",
   "execution_count": null,
   "metadata": {
    "deletable": false,
    "editable": false,
    "nbgrader": {
     "cell_type": "code",
     "checksum": "f17b1b982b44a59a1aa48e82144033fd",
     "grade": true,
     "grade_id": "q5-float-with-tolerance",
     "locked": true,
     "points": 10,
     "schema_version": 3,
     "solution": false,
     "task": false
    }
   },
   "outputs": [],
   "source": [
    "# Testing Cell (Do NOT modify this cell)"
   ]
  },
  {
   "cell_type": "markdown",
   "metadata": {},
   "source": [
    "#### Question 06 &nbsp;&nbsp;&nbsp;&nbsp;&nbsp;&nbsp;(10 Points)\n",
    "\n",
    "Write a function defined as:\n",
    "```python\n",
    "def search_num_matches (or_list, match):\n",
    "```\n",
    "that implements a search of any type on ordered data and returns the number of elements that match a value or False if no match is found. For a non-linear search, attempt to find a first match and then search linearly forwards and backwards in the list from the initial match or adopt your own hybrid approach.\n"
   ]
  },
  {
   "cell_type": "code",
   "execution_count": 40,
   "metadata": {
    "deletable": false,
    "nbgrader": {
     "cell_type": "code",
     "checksum": "169c01de6c7d320cb5e06d09d7357ae3",
     "grade": false,
     "grade_id": "q6",
     "locked": false,
     "schema_version": 3,
     "solution": true,
     "task": false
    },
    "tags": []
   },
   "outputs": [
    {
     "data": {
      "text/plain": [
       "2"
      ]
     },
     "execution_count": 40,
     "metadata": {},
     "output_type": "execute_result"
    }
   ],
   "source": [
    "import math\n",
    "def search_num_matches (or_list, match):\n",
    "    block_size = int(math.sqrt(len(or_list)))\n",
    "    left = 0\n",
    "    right = block_size\n",
    "    count = 0\n",
    "    while right < len(or_list) and or_list[right] < match:\n",
    "        low = right +1\n",
    "        right += block_size\n",
    "        \n",
    "    for i in range(left,len(or_list)):\n",
    "        if or_list[i] == match:\n",
    "            count += 1\n",
    "        elif or_list[i] > match:\n",
    "            break\n",
    "    return count\n",
    "\n",
    "search_num_matches ([0, 2, 3, 5, 5, 6, 8, 11, 12, 12, 12],5) "
   ]
  },
  {
   "cell_type": "code",
   "execution_count": null,
   "metadata": {
    "deletable": false,
    "editable": false,
    "nbgrader": {
     "cell_type": "code",
     "checksum": "9667713ffcfd32ce4bc254f129e3e492",
     "grade": true,
     "grade_id": "q6-num-matches",
     "locked": true,
     "points": 10,
     "schema_version": 3,
     "solution": false,
     "task": false
    },
    "tags": []
   },
   "outputs": [],
   "source": [
    "# Testing Cell (Do NOT modify this cell)"
   ]
  },
  {
   "cell_type": "markdown",
   "metadata": {},
   "source": [
    "#### Question 07 &nbsp;&nbsp;&nbsp;&nbsp;&nbsp;&nbsp;(10 Points)\n",
    "\n",
    "Write a function defined as:\n",
    "```python\n",
    "def binary_search_for_string (filename, match):\n",
    "```\n",
    "that reads a file consisting of an ordered list of fruit and vegetables (one per line, including some space separated values) and uses a **binary search** to return a tuple `(True, line_number)` if the `match` string exactly matches one line (excluding EOL) and `(False, -1)` otherwise. A file of test data is available here: [fruit-and-veg.txt](https://myuni.adelaide.edu.au/files/10860973/download?download_frd=1)."
   ]
  },
  {
   "cell_type": "code",
   "execution_count": 53,
   "metadata": {
    "deletable": false,
    "nbgrader": {
     "cell_type": "code",
     "checksum": "d6cb851dd0a979be002cfde30ff3bca8",
     "grade": false,
     "grade_id": "q7",
     "locked": false,
     "schema_version": 3,
     "solution": true,
     "task": false
    },
    "tags": []
   },
   "outputs": [
    {
     "name": "stdout",
     "output_type": "stream",
     "text": [
      "(True, 17)\n"
     ]
    }
   ],
   "source": [
    "def binary_search_for_string(filename, match):\n",
    "    with open(filename, 'r+') as f:\n",
    "        fruit = f.readlines()\n",
    "        for i in range(len(fruit)):\n",
    "            fruit[i] = fruit[i].strip()\n",
    "\n",
    "    low = 0\n",
    "    high = len(fruit) - 1  \n",
    "    while low <= high:\n",
    "        mid = (low + high) // 2\n",
    "        if fruit[mid] > match:\n",
    "            high = mid - 1\n",
    "        elif fruit[mid] < match:\n",
    "            low = mid + 1  \n",
    "        else:\n",
    "            return (True, mid)\n",
    "    return (False, -1)\n",
    "\n",
    "print(binary_search_for_string('fruit-and-veg.txt', \"Blueberries\"))\n"
   ]
  },
  {
   "cell_type": "code",
   "execution_count": null,
   "metadata": {
    "deletable": false,
    "editable": false,
    "nbgrader": {
     "cell_type": "code",
     "checksum": "591305cab19e5226c24686a56aade7e6",
     "grade": true,
     "grade_id": "q7-binary-for-string",
     "locked": true,
     "points": 10,
     "schema_version": 3,
     "solution": false,
     "task": false
    }
   },
   "outputs": [],
   "source": [
    "# Testing Cell (Do NOT modify this cell)"
   ]
  },
  {
   "cell_type": "markdown",
   "metadata": {},
   "source": [
    "#### Question 08 &nbsp;&nbsp;&nbsp;&nbsp;&nbsp;&nbsp;(10 Points)\n",
    "\n",
    "Write a function defined as:\n",
    "```python\n",
    "def linear_interpolate_index (slist, match_value, low_index, high_index):\n",
    "```\n",
    "that takes an ordered list of ascending numbers and a desired 'match'  value to search for in the list. \n",
    "\n",
    "The partition of interest in the list is defined by the index of the low and high values in the list. The function uses linear interpolation between `slist[high]` and `slist[low]` to return the index to try interpolation searching for the match value or `None` if the desired match falls outside the range `slist[low]` to `slist[high-1)]`.\n",
    "\n",
    "For example, a call to `linear_interpolate_index(list(range(0, 20, 2)), 6, 0, 9)` would return an index value of `3`."
   ]
  },
  {
   "cell_type": "code",
   "execution_count": 64,
   "metadata": {
    "deletable": false,
    "nbgrader": {
     "cell_type": "code",
     "checksum": "4a808879b1bfa21f76407e41cc3af64d",
     "grade": false,
     "grade_id": "q8",
     "locked": false,
     "schema_version": 3,
     "solution": true,
     "task": false
    },
    "tags": []
   },
   "outputs": [
    {
     "data": {
      "text/plain": [
       "3"
      ]
     },
     "execution_count": 64,
     "metadata": {},
     "output_type": "execute_result"
    }
   ],
   "source": [
    "def linear_interpolate_index (slist, match_value, low_index, high_index):\n",
    "    high_index = high_index -1\n",
    "    while slist[low_index]!=slist[high_index] and match_value >= slist[low_index] and match_value <=slist[high_index]:\n",
    "        mid = low_index+(high_index-low_index)*(match_value-slist[low_index])//(slist[high_index]-slist[low_index])\n",
    "        if slist[mid] > match_value:\n",
    "            high_index = mid -1\n",
    "        elif slist[mid] < match_value:\n",
    "            low_index = mid +1\n",
    "        else:\n",
    "            return mid\n",
    "    if slist[low_index] == match:\n",
    "        return low_index\n",
    "    else:\n",
    "        return false\n",
    "linear_interpolate_index ([0, 2, 3, 5, 5, 6, 8, 11, 12, 12, 12],5,1,8)   \n",
    "linear_interpolate_index(list(range(0, 20, 2)), 6, 0, 9)"
   ]
  },
  {
   "cell_type": "code",
   "execution_count": null,
   "metadata": {
    "deletable": false,
    "editable": false,
    "nbgrader": {
     "cell_type": "code",
     "checksum": "bc329668d29993130aac97355d31e2f0",
     "grade": true,
     "grade_id": "q8-interpolate",
     "locked": true,
     "points": 10,
     "schema_version": 3,
     "solution": false,
     "task": false
    }
   },
   "outputs": [],
   "source": [
    "# Testing Cell (Do NOT modify this cell)"
   ]
  },
  {
   "cell_type": "markdown",
   "metadata": {
    "tags": []
   },
   "source": [
    "#### Question 09 &nbsp;&nbsp;&nbsp;&nbsp;&nbsp;&nbsp;(15 Points)\n",
    "\n",
    "Write a function defined as:\n",
    "```python\n",
    "def interpolate_sort_and_search (filename, integer_match):\n",
    "```\n",
    "that loads a file of unordered floats and:\n",
    "- sorts the file contents using a quicksort with random partition scheme,\n",
    "- uses the function `linear_interpolate_index` in Question 8 to perform an interpolation search (or any other linear interpolation approach if you have not yet completed Question 8),\n",
    "- searches the contents of the file for a number where the whole number portion of the float matches the parameter `integer_match`,\n",
    "- returns a tuple `(True, line_number)` where `line_number` is the line number of the match in the file *prior to sorting* or `(False, -1)` depending if the search was unsuccessful.\n",
    "Sample test data is available here: [random-floats.txt](https://myuni.adelaide.edu.au/files/11368687/download?download_frd=1)."
   ]
  },
  {
   "cell_type": "code",
   "execution_count": 88,
   "metadata": {
    "deletable": false,
    "nbgrader": {
     "cell_type": "code",
     "checksum": "0b0341bf87fe1946fa5825abf98854fd",
     "grade": false,
     "grade_id": "q9",
     "locked": false,
     "schema_version": 3,
     "solution": true,
     "task": false
    },
    "tags": []
   },
   "outputs": [
    {
     "name": "stdout",
     "output_type": "stream",
     "text": [
      "['11.018055462616445\\n', '9.953141859312709\\n', '11.214052030296598\\n', '6.671148260576563\\n', '11.973082647915838\\n', '10.824971862474866\\n', '6.812104887393094\\n', '13.078092438469021\\n', '0.85203315315797\\n', '9.396980009363462\\n', '4.7018314391236045\\n', '12.112993489857097\\n', '0.6338109592099002\\n', '11.140722303997885\\n', '9.91747515645957\\n', '5.364614225436043\\n', '10.531013104467647\\n', '6.3190898703884715\\n', '5.750297422524916\\n', '12.172351633901817\\n', '7.627555148976966\\n', '4.189789586888004\\n', '10.900661987098234\\n', '9.05768935250183\\n', '11.795046439989925\\n', '0.628463897953246\\n', '5.140863628789882\\n', '7.904464223894904\\n', '12.55915105539377\\n', '2.20212009699181\\n', '2.58508396027236\\n', '4.856426619401032\\n', '7.783010373395249\\n', '8.020140957328396\\n', '7.8296655911743045\\n', '10.854941922179645\\n', '12.316119032158173\\n', '5.4345985804636046\\n', '6.649461339280814\\n', '-1.585689555858086\\n', '2.091160308766421\\n', '8.61040518129886\\n', '2.8741876678663703\\n', '9.847266295808627\\n', '1.687163861907061\\n', '7.051360885736841\\n', '6.786102403816901\\n']\n",
      "[(11, 0), (9, 1), (11, 2), (6, 3), (11, 4), (10, 5), (6, 6), (13, 7), (0, 8), (9, 9), (4, 10), (12, 11), (0, 12), (11, 13), (9, 14), (5, 15), (10, 16), (6, 17), (5, 18), (12, 19), (7, 20), (4, 21), (10, 22), (9, 23), (11, 24), (0, 25), (5, 26), (7, 27), (12, 28), (2, 29), (2, 30), (4, 31), (7, 32), (8, 33), (7, 34), (10, 35), (12, 36), (5, 37), (6, 38), (-1, 39), (2, 40), (8, 41), (2, 42), (9, 43), (1, 44), (7, 45), (6, 46)]\n",
      "[(-1, 39), (0, 8), (0, 12), (0, 25), (1, 44), (2, 29), (2, 30), (2, 40), (2, 42), (4, 10), (4, 21), (4, 31), (5, 15), (5, 18), (5, 26), (5, 37), (6, 3), (6, 6), (6, 17), (6, 38), (6, 46), (7, 20), (7, 27), (7, 32), (7, 34), (7, 45), (8, 33), (8, 41), (9, 1), (9, 9), (9, 14), (9, 23), (9, 43), (10, 5), (10, 16), (10, 22), (10, 35), (11, 0), (11, 2), (11, 4), (11, 13), (11, 24), (12, 11), (12, 19), (12, 28), (12, 36), (13, 7)]\n",
      "0\n",
      "0\n",
      "0\n"
     ]
    },
    {
     "data": {
      "text/plain": [
       "(True, 39)"
      ]
     },
     "execution_count": 88,
     "metadata": {},
     "output_type": "execute_result"
    }
   ],
   "source": [
    "import math\n",
    "def interpolate_sort_and_search (filename, integer_match):\n",
    "    with open(filename,\"+r\") as f:\n",
    "        floats = f.readlines()\n",
    "        print(floats)\n",
    "        for i,value in enumerate(floats):\n",
    "            floats[i] = (int(float(floats[i].strip())),i)    \n",
    "    print(floats)\n",
    "    \n",
    "    def quick_sort(lst):\n",
    "        if len(lst) <= 1:\n",
    "            return lst\n",
    "        else:\n",
    "            pivot = lst[-1]\n",
    "            left = []\n",
    "            right =[]\n",
    "\n",
    "            for i in range(0,len(lst)-1):\n",
    "                if lst[i][0] <= pivot[0]:\n",
    "                    left.append(lst[i])\n",
    "                else:\n",
    "                    right.append(lst[i])\n",
    "            return quick_sort(left) + [pivot] + quick_sort(right)   \n",
    "    sort_fruit = quick_sort(floats)\n",
    "    print(sort_fruit)\n",
    "\n",
    "    def interpolation_search(arr, match):\n",
    "        lo = 0\n",
    "        hi = len(arr) - 1\n",
    "\n",
    "        while arr[lo][0]!=arr[hi][0] and match >= arr[lo][0] and match <= arr[hi][0]: #避免arr[lo]!=arr[hi]\n",
    "            #arr[lo]!=arr[hi]是用来避免除以0的情况出现\n",
    "            mid = lo+(hi-lo)*(match-arr[lo][0])//(arr[hi][0]-arr[lo][0])\n",
    "            if arr[mid][0] > match:\n",
    "                hi = mid - 1\n",
    "            elif arr[mid][0] < match:\n",
    "                lo = mid +1\n",
    "            else:\n",
    "                return mid\n",
    "        if arr[lo][0] == match: \n",
    "        #个人认为这是arr[lo]==arr[hi] 条件下，即data都是相同值，判断match是不是跟arr相等\n",
    "            return lo\n",
    "        else:\n",
    "            return  -1\n",
    "    position = interpolation_search(sort_fruit, integer_match)\n",
    "    print(position)\n",
    "    if position != -1 :\n",
    "        lst = [True]\n",
    "        for i in range(position,len(sort_fruit)):\n",
    "            if sort_fruit[i][0] > integer_match:\n",
    "                right = i-1\n",
    "                break\n",
    "            else:\n",
    "                right = i\n",
    "        print(right)\n",
    "        for i in range(position,-1,-1):\n",
    "            if sort_fruit[i][0] < integer_match:\n",
    "                left = i+1\n",
    "                break\n",
    "            else:\n",
    "                left = i\n",
    "        print(left)\n",
    "        for i in range(left,right+1):\n",
    "            lst.append(sort_fruit[i][1])\n",
    "        return tuple(lst[:2])\n",
    "    else:\n",
    "        return (False,-1)          \n",
    "\n",
    "interpolate_sort_and_search(\"random-floats.txt\",-1)\n"
   ]
  },
  {
   "cell_type": "code",
   "execution_count": null,
   "metadata": {
    "deletable": false,
    "editable": false,
    "nbgrader": {
     "cell_type": "code",
     "checksum": "db294c4cb3ff7eef7bff10a702c57d0a",
     "grade": true,
     "grade_id": "q9-sort-and-search",
     "locked": true,
     "points": 15,
     "schema_version": 3,
     "solution": false,
     "task": false
    }
   },
   "outputs": [],
   "source": [
    "# Testing Cell (Do NOT modify this cell)"
   ]
  },
  {
   "cell_type": "markdown",
   "metadata": {},
   "source": [
    "#### Question 10 &nbsp;&nbsp;&nbsp;&nbsp;&nbsp;&nbsp;(15 Points)\n",
    "\n",
    "Following on from Question 09, write a function defined as:\n",
    "```python\n",
    "def binary_sort_and_search (filename, integer_match):\n",
    "```\n",
    "that loads the same file of unordered floats and:\n",
    "- sorts the file contents using a bubble scheme,\n",
    "- uses a binary search for a number where the whole number portion of the float matches the parameter `integer_match`,\n",
    "- returns a tuple `(True, line_number)` where `line_number` is the line number of the match in the file *prior to sorting* or `(False, -1)` depending if the search was unsuccessful."
   ]
  },
  {
   "cell_type": "code",
   "execution_count": 89,
   "metadata": {
    "deletable": false,
    "nbgrader": {
     "cell_type": "code",
     "checksum": "6855c48ed383741c6dfc96cbc4eec405",
     "grade": false,
     "grade_id": "q10",
     "locked": false,
     "schema_version": 3,
     "solution": true,
     "task": false
    },
    "tags": []
   },
   "outputs": [
    {
     "name": "stdout",
     "output_type": "stream",
     "text": [
      "[(11, 0), (9, 1), (11, 2), (6, 3), (11, 4), (10, 5), (6, 6), (13, 7), (0, 8), (9, 9), (4, 10), (12, 11), (0, 12), (11, 13), (9, 14), (5, 15), (10, 16), (6, 17), (5, 18), (12, 19), (7, 20), (4, 21), (10, 22), (9, 23), (11, 24), (0, 25), (5, 26), (7, 27), (12, 28), (2, 29), (2, 30), (4, 31), (7, 32), (8, 33), (7, 34), (10, 35), (12, 36), (5, 37), (6, 38), (-1, 39), (2, 40), (8, 41), (2, 42), (9, 43), (1, 44), (7, 45), (6, 46)]\n",
      "46\n",
      "46\n"
     ]
    },
    {
     "data": {
      "text/plain": [
       "(True, 7)"
      ]
     },
     "execution_count": 89,
     "metadata": {},
     "output_type": "execute_result"
    }
   ],
   "source": [
    "def binary_sort_and_search (filename, integer_match):\n",
    "    with open(filename,\"+r\") as f:\n",
    "        floats = f.readlines()\n",
    "        for i,value in enumerate(floats):\n",
    "            floats[i] = (int(float(floats[i].strip())),i)    \n",
    "    print(floats)\n",
    "    \n",
    "    n = len(floats)\n",
    "    for i in range(n-1,0,-1):\n",
    "        for j in range(i):\n",
    "            if floats[j][0] > floats[j+1][0]:\n",
    "                floats[j],floats[j+1] = floats[j+1],floats[j]\n",
    "      \n",
    "    def binary_search (lst,low,high,item):\n",
    "        while low <= high:\n",
    "            mid = (low+high)//2\n",
    "            if lst[mid][0] == item:\n",
    "                return mid\n",
    "            else:\n",
    "                if lst[mid][0] > item:\n",
    "                    high = mid -1\n",
    "                else:\n",
    "                    low = mid + 1\n",
    "        return -1\n",
    "    position = binary_search(floats,0,len(floats)-1,integer_match)\n",
    "\n",
    "    if position != -1 :\n",
    "        lst = [True]\n",
    "        for i in range(position,len(floats)):\n",
    "            if floats[i][0] > integer_match:\n",
    "                right = i-1\n",
    "                break\n",
    "            else:\n",
    "                right = i\n",
    "        print(right)\n",
    "        for i in range(position,-1,-1):\n",
    "            if floats[i][0] < integer_match:\n",
    "                left = i+1\n",
    "                break\n",
    "            else:\n",
    "                left = i\n",
    "        print(left)\n",
    "        for i in range(left,right+1):\n",
    "            lst.append(floats[i][1])\n",
    "        return tuple(lst[:2])\n",
    "    else:\n",
    "        return (False,-1) \n",
    "\n",
    "binary_sort_and_search(\"random-floats.txt\",13)       "
   ]
  },
  {
   "cell_type": "code",
   "execution_count": null,
   "metadata": {
    "deletable": false,
    "editable": false,
    "nbgrader": {
     "cell_type": "code",
     "checksum": "a69eec620ac762584bd81579dcfb7cf8",
     "grade": true,
     "grade_id": "q10-binary-sort-and-search",
     "locked": true,
     "points": 15,
     "schema_version": 3,
     "solution": false,
     "task": false
    },
    "tags": []
   },
   "outputs": [],
   "source": [
    "# Testing Cell (Do NOT modify this cell)"
   ]
  }
 ],
 "metadata": {
  "kernelspec": {
   "display_name": "Python 3 (ipykernel)",
   "language": "python",
   "name": "python3"
  },
  "language_info": {
   "codemirror_mode": {
    "name": "ipython",
    "version": 3
   },
   "file_extension": ".py",
   "mimetype": "text/x-python",
   "name": "python",
   "nbconvert_exporter": "python",
   "pygments_lexer": "ipython3",
   "version": "3.9.12"
  },
  "otter": {
   "tests": {
    "q1": {
     "name": "q1",
     "points": 1,
     "suites": [
      {
       "cases": [],
       "scored": true,
       "setup": "",
       "teardown": "",
       "type": "doctest"
      }
     ]
    },
    "q10": {
     "name": "q10",
     "points": 4,
     "suites": [
      {
       "cases": [],
       "scored": true,
       "setup": "",
       "teardown": "",
       "type": "doctest"
      }
     ]
    },
    "q11": {
     "name": "q11",
     "points": 6,
     "suites": [
      {
       "cases": [],
       "scored": true,
       "setup": "",
       "teardown": "",
       "type": "doctest"
      }
     ]
    },
    "q12": {
     "name": "q12",
     "points": 6,
     "suites": [
      {
       "cases": [],
       "scored": true,
       "setup": "",
       "teardown": "",
       "type": "doctest"
      }
     ]
    },
    "q13": {
     "name": "q13",
     "points": 6,
     "suites": [
      {
       "cases": [],
       "scored": true,
       "setup": "",
       "teardown": "",
       "type": "doctest"
      }
     ]
    },
    "q14": {
     "name": "q14",
     "points": 6,
     "suites": [
      {
       "cases": [],
       "scored": true,
       "setup": "",
       "teardown": "",
       "type": "doctest"
      }
     ]
    },
    "q15": {
     "name": "q15",
     "points": 6,
     "suites": [
      {
       "cases": [],
       "scored": true,
       "setup": "",
       "teardown": "",
       "type": "doctest"
      }
     ]
    },
    "q16": {
     "name": "q16",
     "points": 6,
     "suites": [
      {
       "cases": [],
       "scored": true,
       "setup": "",
       "teardown": "",
       "type": "doctest"
      }
     ]
    },
    "q17": {
     "name": "q17",
     "points": 8,
     "suites": [
      {
       "cases": [],
       "scored": true,
       "setup": "",
       "teardown": "",
       "type": "doctest"
      }
     ]
    },
    "q18": {
     "name": "q18",
     "points": 8,
     "suites": [
      {
       "cases": [],
       "scored": true,
       "setup": "",
       "teardown": "",
       "type": "doctest"
      }
     ]
    },
    "q19": {
     "name": "q19",
     "points": 12,
     "suites": [
      {
       "cases": [],
       "scored": true,
       "setup": "",
       "teardown": "",
       "type": "doctest"
      }
     ]
    },
    "q2": {
     "name": "q2",
     "points": 1,
     "suites": [
      {
       "cases": [],
       "scored": true,
       "setup": "",
       "teardown": "",
       "type": "doctest"
      }
     ]
    },
    "q20": {
     "name": "q20",
     "points": 12,
     "suites": [
      {
       "cases": [],
       "scored": true,
       "setup": "",
       "teardown": "",
       "type": "doctest"
      }
     ]
    },
    "q3": {
     "name": "q3",
     "points": 1,
     "suites": [
      {
       "cases": [],
       "scored": true,
       "setup": "",
       "teardown": "",
       "type": "doctest"
      }
     ]
    },
    "q4": {
     "name": "q4",
     "points": 1,
     "suites": [
      {
       "cases": [],
       "scored": true,
       "setup": "",
       "teardown": "",
       "type": "doctest"
      }
     ]
    },
    "q5": {
     "name": "q5",
     "points": 2,
     "suites": [
      {
       "cases": [],
       "scored": true,
       "setup": "",
       "teardown": "",
       "type": "doctest"
      }
     ]
    },
    "q6": {
     "name": "q6",
     "points": 2,
     "suites": [
      {
       "cases": [],
       "scored": true,
       "setup": "",
       "teardown": "",
       "type": "doctest"
      }
     ]
    },
    "q7": {
     "name": "q7",
     "points": 4,
     "suites": [
      {
       "cases": [],
       "scored": true,
       "setup": "",
       "teardown": "",
       "type": "doctest"
      }
     ]
    },
    "q8": {
     "name": "q8",
     "points": 4,
     "suites": [
      {
       "cases": [],
       "scored": true,
       "setup": "",
       "teardown": "",
       "type": "doctest"
      }
     ]
    },
    "q9": {
     "name": "q9",
     "points": 4,
     "suites": [
      {
       "cases": [],
       "scored": true,
       "setup": "",
       "teardown": "",
       "type": "doctest"
      }
     ]
    }
   }
  },
  "varInspector": {
   "cols": {
    "lenName": 16,
    "lenType": 16,
    "lenVar": 40
   },
   "kernels_config": {
    "python": {
     "delete_cmd_postfix": "",
     "delete_cmd_prefix": "del ",
     "library": "var_list.py",
     "varRefreshCmd": "print(var_dic_list())"
    },
    "r": {
     "delete_cmd_postfix": ") ",
     "delete_cmd_prefix": "rm(",
     "library": "var_list.r",
     "varRefreshCmd": "cat(var_dic_list()) "
    }
   },
   "types_to_exclude": [
    "module",
    "function",
    "builtin_function_or_method",
    "instance",
    "_Feature"
   ],
   "window_display": false
  }
 },
 "nbformat": 4,
 "nbformat_minor": 4
}
