{
 "cells": [
  {
   "cell_type": "markdown",
   "metadata": {},
   "source": [
    "### Instructions:\n",
    "\n",
    "- You can attempt any number of questions and in any order.  \n",
    "  See the assignment page for a description of the hurdle requirement for this assessment.\n",
    "- You may submit your practical for autograding as many times as you like to check on progress, however you will save time by checking and testing your own code before submitting.\n",
    "- Develop and check your answers in the spaces provided.\n",
    "- **Replace** the code `raise NotImplementedError()` with your solution to the question.\n",
    "- Do **NOT** remove any variables other provided markings already provided in the answer spaces.\n",
    "- Do **NOT** make any changes to this notebook outside of the spaces indicated.  \n",
    "  (If you do this, the submission system might not accept your work)\n",
    "\n",
    "### Submitting:\n",
    "\n",
    "1. Before you turn this problem in, make sure everything runs as expected by resetting this notebook.    \n",
    "   (You can do this from the menubar above by selecting `Kernel`&#8594;`Restart Kernel and Run All Cells...`)\n",
    "1. Don't forget to save your notebook after this step.\n",
    "1. Submit your .ipynb file to Gradescope via file upload or GitHub repository.\n",
    "1. You can submit as many times as needed.\n",
    "1. You **must** give your submitted file the **identical** filename to that which you downloaded without changing **any** aspects - spaces, underscores, capitalisation etc. If your operating system has changed the filename because you downloaded the file twice or more you **must** also fix this.  \n",
    "\n"
   ]
  },
  {
   "cell_type": "markdown",
   "metadata": {},
   "source": [
    "---"
   ]
  },
  {
   "cell_type": "markdown",
   "metadata": {},
   "source": [
    "# <mark style=\"background: #a48752; color: #ffffff;\" >&nbsp;A4&nbsp;</mark> Topic 12: Heaps"
   ]
  },
  {
   "cell_type": "markdown",
   "metadata": {},
   "source": [
    "#### Question 1&nbsp;&nbsp;&nbsp;&nbsp;&nbsp;&nbsp;(5 Points)\n",
    "Write a Python function, `q1_top_k_frequent()`, to return the `k` most frequent elements from a given non-empty list of words using `heapq`. The returned list should be ordered by frequency of the word.\n",
    "\n",
    "For example:\n",
    "```python\n",
    "# Given a list:\n",
    "list_ = ['yes', 'john', 'yes', 'danise', 'john', 'yes', 'john', 'yes', 'david', 'men', 'men'\n",
    "\n",
    "# The call:     \n",
    "freq = q1_top_k_frequent(list_, 3)\n",
    "     \n",
    "# returns the three most frequently occuring words:    \n",
    "['yes', 'john', 'men']       \n",
    "```"
   ]
  },
  {
   "cell_type": "code",
   "execution_count": 174,
   "metadata": {
    "ExecuteTime": {
     "end_time": "2022-03-28T08:13:13.775211Z",
     "start_time": "2022-03-28T08:13:13.754711Z"
    },
    "deletable": false,
    "nbgrader": {
     "cell_type": "code",
     "checksum": "de49466672ab96cc994d532e0879fbbc",
     "grade": false,
     "grade_id": "A1",
     "locked": false,
     "schema_version": 3,
     "solution": true,
     "task": false
    }
   },
   "outputs": [],
   "source": [
    "\n",
    "def q1_top_k_frequent(words, k):\n",
    "    import heapq as hq\n",
    "    hq.heapify(words)\n",
    "    dict1 = {}\n",
    "    for i in words:\n",
    "        if i in dict1.keys():\n",
    "            dict1[i] += 1\n",
    "        else:\n",
    "            dict1[i] = 1\n",
    "   # return dict1\n",
    "    heap_sort = [(-value,key) for key,value in dict1.items()]\n",
    "    hq.heapify(heap_sort)\n",
    "    return [i[1] for i in hq.nsmallest(k,heap_sort)]\n",
    "    "
   ]
  },
  {
   "cell_type": "code",
   "execution_count": 175,
   "metadata": {},
   "outputs": [],
   "source": [
    "# Test case\n",
    "\n",
    "q1_lst = ['yes', 'john', 'yes', 'danise', 'john', 'yes', 'john', 'yes', 'david', 'men', 'men']\n",
    "assert q1_top_k_frequent(q1_lst, 3) == ['yes', 'john', 'men']"
   ]
  },
  {
   "cell_type": "code",
   "execution_count": null,
   "metadata": {
    "ExecuteTime": {
     "end_time": "2022-03-28T08:18:53.367624Z",
     "start_time": "2022-03-28T08:18:53.356749Z"
    },
    "deletable": false,
    "editable": false,
    "nbgrader": {
     "cell_type": "code",
     "checksum": "d04f88a964ae397f0ecc0b5d049c26cb",
     "grade": true,
     "grade_id": "test_A1-kFrequent",
     "locked": true,
     "points": 5,
     "schema_version": 3,
     "solution": false,
     "task": false
    },
    "tags": []
   },
   "outputs": [],
   "source": [
    "# Testing Cell (Do NOT modify this cell)"
   ]
  },
  {
   "cell_type": "markdown",
   "metadata": {},
   "source": [
    "#### Question 2&nbsp;&nbsp;&nbsp;&nbsp;&nbsp;&nbsp;(5 Points)\n",
    "Write a Python function `merge_lists` to merge and return three unsorted input lists into a single list using `heapq`.\n",
    "\n",
    "For example, given:\n",
    "```python\n",
    "num1 = [25, 24, 15, 4, 5, 29, 110]\n",
    "num2 = [19, 20, 11, 56, 25, 233, 154]\n",
    "num3 = [24, 26, 54, 48]\n",
    "\n",
    "sorted_merged = merge_lists (num1, num2, num3)\n",
    "\n",
    "# returns\n",
    "[4, 5, 11, 15, 19, 20, 24, 24, 25, 25, 26, 29, 48, 54, 56, 110, 154, 233]\n",
    "```\n",
    "\n",
    "Hint: Use `merge` in heapq."
   ]
  },
  {
   "cell_type": "code",
   "execution_count": 3,
   "metadata": {
    "ExecuteTime": {
     "end_time": "2022-03-28T23:24:01.886602Z",
     "start_time": "2022-03-28T23:24:01.865661Z"
    },
    "deletable": false,
    "nbgrader": {
     "cell_type": "code",
     "checksum": "81947fb789204db839ab371306f729a8",
     "grade": false,
     "grade_id": "A2",
     "locked": false,
     "schema_version": 3,
     "solution": true,
     "task": false
    }
   },
   "outputs": [],
   "source": [
    "import heapq as hq\n",
    "\n",
    "def merge_lists (l1, l2, l3):\n",
    "#     hq.heapify(l1)\n",
    "#     hq.heapify(l2)\n",
    "#     hq.heapify(l3)\n",
    "#     l1 =list(l1)\n",
    "#     l2 =list(l2)\n",
    "#     l3 =list(l3)\n",
    "    l1.sort()\n",
    "    l2.sort()\n",
    "    l3.sort()\n",
    "#     print(list(l1))\n",
    "    merged = hq.merge(l1,l2,l3)\n",
    "   # merged = hq.merge(l1,l2,l3,key=None, reverse=False)\n",
    "    return list(merged)\n",
    "\n",
    "def merge_lists (l1, l2, l3):\n",
    "#     hq.heapify(l1)\n",
    "#     hq.heapify(l2)\n",
    "#     hq.heapify(l3)\n",
    "#     l1 =list(l1)\n",
    "#     l2 =list(l2)\n",
    "#     l3 =list(l3)\n",
    "    lst =  l1+l2+l3\n",
    "#     print(list(l1))\n",
    "    hq.heapify(lst)\n",
    "    lst1=[]\n",
    "    for i in range(len(lst)-1):\n",
    "        lst1.append(hq.heappop(lst))\n",
    "    return lst1"
   ]
  },
  {
   "cell_type": "code",
   "execution_count": 4,
   "metadata": {},
   "outputs": [
    {
     "name": "stdout",
     "output_type": "stream",
     "text": [
      "[4, 5, 15, 24, 25, 29, 110]\n"
     ]
    },
    {
     "data": {
      "text/plain": [
       "[4, 5, 11, 15, 19, 20, 24, 24, 25, 25, 26, 29, 48, 54, 56, 110, 154]"
      ]
     },
     "execution_count": 4,
     "metadata": {},
     "output_type": "execute_result"
    }
   ],
   "source": [
    "num1 = [25, 24, 15, 4, 5, 29, 110]\n",
    "num2 = [19, 20, 11, 56, 25, 233, 154]\n",
    "num3 = [24, 26, 54, 48]\n",
    "num1.sort()\n",
    "print(num1)\n",
    "merge_lists (num1, num2, num3)"
   ]
  },
  {
   "cell_type": "code",
   "execution_count": 61,
   "metadata": {},
   "outputs": [],
   "source": [
    "# Test case\n",
    "\n",
    "num1 = [25, 24, 15, 4, 5, 29, 110]\n",
    "num2 = [19, 20, 11, 56, 25, 233, 154]\n",
    "num3 = [24, 26, 54, 48]\n",
    "\n",
    "assert merge_lists (num1, num2, num3) == \\\n",
    "[4, 5, 11, 15, 19, 20, 24, 24, 25, 25, 26, 29, 48, 54, 56, 110, 154, 233]"
   ]
  },
  {
   "cell_type": "code",
   "execution_count": null,
   "metadata": {
    "ExecuteTime": {
     "end_time": "2022-03-28T23:06:47.614853Z",
     "start_time": "2022-03-28T23:06:47.601888Z"
    },
    "deletable": false,
    "editable": false,
    "nbgrader": {
     "cell_type": "code",
     "checksum": "12474ac509f7acec8cf02477cd69c0e4",
     "grade": true,
     "grade_id": "test_A2-merge",
     "locked": true,
     "points": 5,
     "schema_version": 3,
     "solution": false,
     "task": false
    },
    "tags": []
   },
   "outputs": [],
   "source": [
    "# Testing Cell (Do NOT modify this cell)"
   ]
  },
  {
   "cell_type": "markdown",
   "metadata": {},
   "source": [
    "#### Question 3&nbsp;&nbsp;&nbsp;&nbsp;&nbsp;&nbsp;(10 Points)\n",
    "Write a Python function called `q3_string` using instances of `heapq` to rearrange the letters of a given string so that no two identical characters are adjacent to each other and return the modified string. If it is not possible to arrange the strign so that identical characters are not adjacent, an empty string is returned.\n",
    "\n",
    "For example:\n",
    "```python\n",
    "q3_string(\"aab\")  #returns aba\n",
    "q3_string(\"aaa\")  #returns \"\"\n",
    "q3_string(\"aabb\") #returns abab or baba\n",
    "```"
   ]
  },
  {
   "cell_type": "code",
   "execution_count": 5,
   "metadata": {
    "ExecuteTime": {
     "end_time": "2022-03-28T23:25:21.296007Z",
     "start_time": "2022-03-28T23:25:21.281020Z"
    },
    "deletable": false,
    "nbgrader": {
     "cell_type": "code",
     "checksum": "e76460316ee95b5f284f6a2518548faf",
     "grade": false,
     "grade_id": "A3",
     "locked": false,
     "schema_version": 3,
     "solution": true,
     "task": false
    }
   },
   "outputs": [],
   "source": [
    "\n",
    "import heapq as hq\n",
    "from collections import Counter\n",
    "\n",
    "#Counter类是一个简单但非常实用的工具，用于统计可哈希对象中各元素出现的次数，\n",
    "#并以字典形式返回统计结果\n",
    "\n",
    "\n",
    "def q3_string(s):\n",
    "    counts = Counter(s)\n",
    "    max_heap = [(-value, key) for key, value in counts.items()]\n",
    "    hq.heapify(max_heap)\n",
    "    result = []\n",
    "    while len(max_heap) >= 2:\n",
    "        count1, char1 = hq.heappop(max_heap)\n",
    "        count2, char2 = hq.heappop(max_heap)\n",
    "        result.extend([char1, char2])\n",
    "        if count1 + 1 != 0:\n",
    "            hq.heappush(max_heap, (count1 + 1, char1))\n",
    "        if count2 + 1 != 0:\n",
    "            hq.heappush(max_heap, (count2 + 1, char2))\n",
    "    if max_heap:\n",
    "        count, char = hq.heappop(max_heap)\n",
    "        if -count > 1:\n",
    "            return \"\"\n",
    "        result.append(char)\n",
    "    return ''.join(result)"
   ]
  },
  {
   "cell_type": "code",
   "execution_count": null,
   "metadata": {},
   "outputs": [],
   "source": []
  },
  {
   "cell_type": "code",
   "execution_count": 9,
   "metadata": {},
   "outputs": [
    {
     "data": {
      "text/plain": [
       "'acafabacdf'"
      ]
     },
     "execution_count": 9,
     "metadata": {},
     "output_type": "execute_result"
    }
   ],
   "source": [
    "q3_string(\"aaaabccdff\")"
   ]
  },
  {
   "cell_type": "code",
   "execution_count": 69,
   "metadata": {},
   "outputs": [],
   "source": [
    "# Test cases\n",
    "\n",
    "assert q3_string(\"aab\") == 'aba'\n",
    "assert not q3_string(\"aaa\")\n",
    "assert q3_string(\"aabb\") == 'abab' or q3_string(\"aabb\") == 'baba'"
   ]
  },
  {
   "cell_type": "code",
   "execution_count": null,
   "metadata": {
    "ExecuteTime": {
     "end_time": "2022-03-28T23:28:14.565766Z",
     "start_time": "2022-03-28T23:28:14.562767Z"
    },
    "deletable": false,
    "editable": false,
    "nbgrader": {
     "cell_type": "code",
     "checksum": "30038b0b441652ce4ef46b97651e1763",
     "grade": true,
     "grade_id": "test_A3-string",
     "locked": true,
     "points": 10,
     "schema_version": 3,
     "solution": false,
     "task": false
    }
   },
   "outputs": [],
   "source": [
    "# Testing Cell (Do NOT modify this cell)"
   ]
  },
  {
   "cell_type": "markdown",
   "metadata": {},
   "source": [
    "#### Question 4&nbsp;&nbsp;&nbsp;&nbsp;&nbsp;&nbsp;(10 Points)\n",
    "Write a Python function `q4_median`, to compute the [median](https://en.wikipedia.org/wiki/Median) of all elements in a non empty list using two instances of `heapq`. The function must return the median value as a float. \n",
    "\n",
    "You can think of the median as the \"middle\" value in a sorted list. If there are an even number of elements in the list, then the median becomes the average of the two middle values. Otherwise, the median is simply the middle value in the sorted list.\n",
    "\n",
    "The algorithmic approach is to use a min heap to contain the half of the input values greater than the current median and a max heap to contain the lower half of the input values. By keeping these two heaps balanced (either equal in size or the max heap containing one extra element if an odd number of elements have been considered), it is straight forward to find the median as the average of the roots of the heaps if an even number of values otherwise the root of the max heap.\n",
    "\n",
    "This is a popular coding challenge on sites like [leetcode](https://leetcode.com/) and numerous examples exist online. Rather than copying an existing solution, try to work through [this algorithm desciption](https://stephenjoel2k.medium.com/two-heaps-min-heap-max-heap-c3d32cbb671d) in Java and write your own implementation in Python. The advantage of using this algorithm is that, for a stream of unsorted data, a running median can be kept and performance is very good with time complexity O(n log n).\n",
    "\n",
    "For example:\n",
    "```python\n",
    "q4_median([1, 2])                #returns 1.5\n",
    "q4_median([1, 2, 3])             #returns 2.0\n",
    "q4_median([3, 2, 3, 3, 4, 1, 5]) #returns 3.0\n",
    "```"
   ]
  },
  {
   "cell_type": "code",
   "execution_count": 122,
   "metadata": {
    "ExecuteTime": {
     "end_time": "2022-03-28T23:29:22.345970Z",
     "start_time": "2022-03-28T23:29:22.329287Z"
    },
    "deletable": false,
    "nbgrader": {
     "cell_type": "code",
     "checksum": "e3ce00a789a45e10e41852941edfb9d0",
     "grade": false,
     "grade_id": "A4",
     "locked": false,
     "schema_version": 3,
     "solution": true,
     "task": false
    }
   },
   "outputs": [],
   "source": [
    "import heapq \n",
    "# import math\n",
    "# def q4_median(li):\n",
    "#     li.sort()\n",
    "#     l = math.ceil(len(li)/2)\n",
    "#     print(list(li))\n",
    "#     max_list = [-i for i in li[:l]]\n",
    "#     min_list = li[l:]\n",
    "#     hq.heapify(min_list)\n",
    "#     hq.heapify(max_list)\n",
    "#     print(min_list)\n",
    "#     print(max_list)\n",
    "#     if len(max_list) == len(min_list):\n",
    "#         return (-1*hq.heappop(max_list)+hq.heappop(min_list))/2\n",
    "#     else:\n",
    "#         return -1*hq.heappop(max_list)\n",
    "def q4_median(nums):\n",
    "    min_heap = []  # stores the larger half seen so far\n",
    "    max_heap = []  # stores the smaller half seen so far\n",
    "    for num in nums:\n",
    "        #[3, 2, 3, 3, 4, 1, 5]\n",
    "        # balance the heaps to keep the median in max_heap if odd, otherwise average of roots\n",
    "        if len(max_heap) == len(min_heap):\n",
    "            heapq.heappush(max_heap, -heapq.heappushpop(min_heap, num))\n",
    "        else:\n",
    "            heapq.heappush(min_heap, -heapq.heappushpop(max_heap, -num))\n",
    "    # at this point, max_heap contains the lower half and min_heap contains the upper half\n",
    "    if len(max_heap) == len(min_heap):\n",
    "        return (-max_heap[0] + min_heap[0]) / 2.0\n",
    "    else:\n",
    "        return -float(max_heap[0])"
   ]
  },
  {
   "cell_type": "code",
   "execution_count": 123,
   "metadata": {},
   "outputs": [
    {
     "data": {
      "text/plain": [
       "1.5"
      ]
     },
     "execution_count": 123,
     "metadata": {},
     "output_type": "execute_result"
    }
   ],
   "source": [
    "q4_median([2, 1])"
   ]
  },
  {
   "cell_type": "code",
   "execution_count": 124,
   "metadata": {},
   "outputs": [],
   "source": [
    "# Test cases\n",
    "\n",
    "assert q4_median([1, 2]) == 1.5\n",
    "assert q4_median([1, 2, 3]) ==  2.0\n",
    "assert q4_median([3, 2, 3, 3, 4, 1, 5]) == 3.0"
   ]
  },
  {
   "cell_type": "code",
   "execution_count": null,
   "metadata": {
    "ExecuteTime": {
     "end_time": "2022-03-28T23:31:32.251198Z",
     "start_time": "2022-03-28T23:31:32.241222Z"
    },
    "deletable": false,
    "editable": false,
    "nbgrader": {
     "cell_type": "code",
     "checksum": "869a44bdf8ea4b924387be5d0f8462e7",
     "grade": true,
     "grade_id": "test_A4-median",
     "locked": true,
     "points": 10,
     "schema_version": 3,
     "solution": false,
     "task": false
    }
   },
   "outputs": [],
   "source": [
    "# Testing Cell (Do NOT modify this cell)"
   ]
  },
  {
   "cell_type": "markdown",
   "metadata": {},
   "source": [
    "#### Question 5&nbsp;&nbsp;&nbsp;&nbsp;&nbsp;&nbsp;(10 Points)\n",
    "Suppose that you are given two sorted, ascending, equal-sized lists of integers and an integer `k`. Write a Python function, `q5_minimumpairs(num1, num2, k)`, to find the `k` number of smallest pairs `(m, n)`, which consists of one element from the first list (`m`) and one element from the second list (`n`) using `heapq` such that each pair `(m, n)` is chosen so that the sum `m + n` is as small as possible. \n",
    "\n",
    "For example:\n",
    "```python\n",
    "    q5_minimumpairs ([1,3,7], [2,4,6], 2)\n",
    "```\n",
    "should return the two smallest pairs we can create with one element each from `l1` and `l2` ordered in ascending order:\n",
    "```python\n",
    "    [[1, 2], [1, 4]]\n",
    "    # or\n",
    "    [[1, 2], [3, 2]]   \n",
    "```\n",
    "You should consider how you can use the properties of a heap and what type of heap to use to implement your solution to this problem. "
   ]
  },
  {
   "cell_type": "code",
   "execution_count": 132,
   "metadata": {
    "ExecuteTime": {
     "end_time": "2022-03-28T23:39:29.623205Z",
     "start_time": "2022-03-28T23:39:29.616253Z"
    },
    "deletable": false,
    "nbgrader": {
     "cell_type": "code",
     "checksum": "534f70c2ab0b54b2f0c860f1732b10d8",
     "grade": false,
     "grade_id": "A5",
     "locked": false,
     "schema_version": 3,
     "solution": true,
     "task": false
    }
   },
   "outputs": [
    {
     "name": "stdout",
     "output_type": "stream",
     "text": [
      "[(3, [1, 2]), (5, [1, 4]), (5, [3, 2]), (5, [3, 2]), (7, [3, 4]), (9, [3, 6]), (7, [1, 6]), (7, [3, 4]), (9, [3, 6]), (9, [7, 2]), (11, [7, 4]), (13, [7, 6])]\n"
     ]
    },
    {
     "data": {
      "text/plain": [
       "[[1, 2], [1, 4], [3, 2], [3, 2]]"
      ]
     },
     "execution_count": 132,
     "metadata": {},
     "output_type": "execute_result"
    }
   ],
   "source": [
    "\n",
    "\n",
    "import heapq\n",
    "\n",
    "def q5_minimumpairs(num1, num2, k):\n",
    "    heap = []\n",
    "    for i in num1:\n",
    "        for j in num2:\n",
    "            heapq.heappush(heap, (i + j, [i, j]))\n",
    "    res = []\n",
    "    print(heap)\n",
    "    for _ in range(k):\n",
    "        if heap:\n",
    "            res.append(heapq.heappop(heap)[1])\n",
    "        else:\n",
    "            break\n",
    "    return res\n",
    "pairs = q5_minimumpairs ([1,3,3,7], [2,4,6], 4)\n",
    "pairs"
   ]
  },
  {
   "cell_type": "code",
   "execution_count": 126,
   "metadata": {},
   "outputs": [],
   "source": [
    "# Test cases\n",
    "\n",
    "pairs = q5_minimumpairs ([1,3,7], [2,4,6], 2)\n",
    "assert pairs[0] == [1, 2] \n",
    "assert [1, 4] in pairs or [3, 2] in pairs"
   ]
  },
  {
   "cell_type": "code",
   "execution_count": null,
   "metadata": {
    "ExecuteTime": {
     "end_time": "2022-03-28T23:35:10.510048Z",
     "start_time": "2022-03-28T23:35:10.504094Z"
    },
    "deletable": false,
    "editable": false,
    "nbgrader": {
     "cell_type": "code",
     "checksum": "5babb07c046a8fcdfed86aeb53dab1ea",
     "grade": true,
     "grade_id": "test_A5-minPairs",
     "locked": true,
     "points": 10,
     "schema_version": 3,
     "solution": false,
     "task": false
    }
   },
   "outputs": [],
   "source": [
    "# Testing Cell (Do NOT modify this cell)"
   ]
  },
  {
   "cell_type": "markdown",
   "metadata": {},
   "source": [
    "#### Question 6&nbsp;&nbsp;&nbsp;&nbsp;&nbsp;&nbsp;(10 Points)\n",
    "Suppose you are given `n` ropes of different lengths (where `n > 1`), where you need to connect these ropes into one rope. The cost to connect two ropes is equal to the sum of their lengths. You need to connect the ropes with minimum cost.\n",
    "\n",
    "For example, given 4 ropes of lengths 4, 3, 2, and 6 (i.e. `[4, 3, 2, 6]`), you can connect the ropes in the following ways to get the minimum cost. \n",
    "- First, connect ropes of lengths 2 and 3. Now you have three ropes of lengths 4, 6, and 5. \n",
    "- Now connect ropes of lengths 4 and 5. Now you have two ropes of lengths 6 and 9. \n",
    "- Finally connect the two ropes and all ropes have connected.\n",
    "\n",
    "Total cost for connecting all ropes is 5 + 9 + 15 = 29. This is the optimised cost for connecting ropes. \n",
    "\n",
    "Write a function `q6_mincost(lst)`, which returns the minimum cost using a priority queue."
   ]
  },
  {
   "cell_type": "code",
   "execution_count": 136,
   "metadata": {
    "ExecuteTime": {
     "end_time": "2022-03-28T23:48:06.994956Z",
     "start_time": "2022-03-28T23:48:06.983971Z"
    },
    "deletable": false,
    "nbgrader": {
     "cell_type": "code",
     "checksum": "7b10515d772c2dff2e319dcb6b297516",
     "grade": false,
     "grade_id": "A6",
     "locked": false,
     "schema_version": 3,
     "solution": true,
     "task": false
    }
   },
   "outputs": [
    {
     "data": {
      "text/plain": [
       "29"
      ]
     },
     "execution_count": 136,
     "metadata": {},
     "output_type": "execute_result"
    }
   ],
   "source": [
    "def q6_mincost(lst):\n",
    "    # add all ropes to the priority queue\n",
    "    heap = lst[:]\n",
    "    heapq.heapify(heap)\n",
    "\n",
    "    # repeatedly remove the two smallest ropes, connect them, and add the result back to the queue\n",
    "    cost = 0\n",
    "    while len(heap) > 1:\n",
    "        rope1 = heapq.heappop(heap)\n",
    "        rope2 = heapq.heappop(heap)\n",
    "        combined_rope = rope1 + rope2\n",
    "        cost += combined_rope\n",
    "        heapq.heappush(heap, combined_rope)\n",
    "\n",
    "    # return the final cost\n",
    "    return cost\n",
    "\n",
    "q6_mincost([4, 3, 2, 6]) "
   ]
  },
  {
   "cell_type": "code",
   "execution_count": 134,
   "metadata": {},
   "outputs": [],
   "source": [
    "# Test cases\n",
    "\n",
    "assert q6_mincost([10,20,30]) == 90\n",
    "assert q6_mincost([4, 3, 2, 6]) == 29\n",
    "assert q6_mincost([1, 2, 5, 10, 35, 89]) == 224"
   ]
  },
  {
   "cell_type": "code",
   "execution_count": null,
   "metadata": {
    "ExecuteTime": {
     "end_time": "2022-03-28T23:48:11.530251Z",
     "start_time": "2022-03-28T23:48:11.519274Z"
    },
    "deletable": false,
    "editable": false,
    "nbgrader": {
     "cell_type": "code",
     "checksum": "6fd0c8c6518c1779d4782979189be1f1",
     "grade": true,
     "grade_id": "test_A6-minCost",
     "locked": true,
     "points": 10,
     "schema_version": 3,
     "solution": false,
     "task": false
    }
   },
   "outputs": [],
   "source": [
    "# Testing Cell (Do NOT modify this cell)"
   ]
  },
  {
   "cell_type": "markdown",
   "metadata": {},
   "source": [
    "#### Question 7&nbsp;&nbsp;&nbsp;&nbsp;&nbsp;&nbsp;(10 Points) \n",
    "Given a non-empty list of words, return the `k` most frequent elements using priority queues. Use the method `q7_topwords(lst, k)`, which returns the top `k` words as a list ordered by frequency. \n",
    "\n",
    "For example, given:\n",
    "```python\n",
    "q7_topwords(['green', 'blue', 'yellow', 'green', 'green', 'blue', 'blue', 'brown', 'blue', 'brown'], 2)\n",
    "\n",
    "# returns\n",
    "['blue', 'green']\n",
    "```"
   ]
  },
  {
   "cell_type": "code",
   "execution_count": 143,
   "metadata": {
    "ExecuteTime": {
     "end_time": "2022-03-29T00:40:03.117011Z",
     "start_time": "2022-03-29T00:40:03.102599Z"
    },
    "deletable": false,
    "nbgrader": {
     "cell_type": "code",
     "checksum": "60d80ca0f85da2e3d92415ac37b6ac0e",
     "grade": false,
     "grade_id": "A7",
     "locked": false,
     "schema_version": 3,
     "solution": true,
     "task": false
    }
   },
   "outputs": [
    {
     "data": {
      "text/plain": [
       "['i', 'love']"
      ]
     },
     "execution_count": 143,
     "metadata": {},
     "output_type": "execute_result"
    }
   ],
   "source": [
    "import heapq\n",
    "\n",
    "def q7_topwords(words, k):\n",
    "    counts = Counter(words)\n",
    "    max_heap = [(-value, key) for key, value in counts.items()]\n",
    "    #hq.heapify(max_heap)\n",
    "    lst =[]\n",
    "    result=[]\n",
    "    for i in max_heap:\n",
    "        heapq.heappush(lst,i)\n",
    "    if k > len(counts):\n",
    "        k = len(counts)\n",
    "    elif k < 1:\n",
    "        k = 1\n",
    "    while k:\n",
    "        result.append(heapq.heappop(lst)[1])\n",
    "        k-=1\n",
    "    return result\n",
    "        \n",
    "q7_topwords([\"i\", \"love\", \"COMP_SCI_2710\", \"i\", \"love\", \"coding\"], 2)           "
   ]
  },
  {
   "cell_type": "code",
   "execution_count": 144,
   "metadata": {},
   "outputs": [],
   "source": [
    "# Test cases\n",
    "\n",
    "assert q7_topwords([\"i\", \"love\", \"COMP_SCI_2710\", \"i\", \"love\", \"coding\"], 2) == [\"i\", \"love\"]\n",
    "\n",
    "top_words = q7_topwords([\"to\", \"be\", \"or\", \"not\", \"to\", \"be\"], 1)\n",
    "assert 'to' in top_words or 'be' in top_words\n",
    "\n",
    "top_words = q7_topwords([\"to\", \"be\", \"or\", \"not\", \"to\", \"be\"], 2)\n",
    "assert 'to' in top_words and 'be' in top_words"
   ]
  },
  {
   "cell_type": "code",
   "execution_count": null,
   "metadata": {
    "ExecuteTime": {
     "end_time": "2022-03-29T00:14:59.668116Z",
     "start_time": "2022-03-29T00:14:59.654644Z"
    },
    "deletable": false,
    "editable": false,
    "nbgrader": {
     "cell_type": "code",
     "checksum": "d6f96d2153548a02b02ae0b0591148f5",
     "grade": true,
     "grade_id": "test_A7-topWords",
     "locked": true,
     "points": 10,
     "schema_version": 3,
     "solution": false,
     "task": false
    }
   },
   "outputs": [],
   "source": [
    "# Testing Cell (Do NOT modify this cell)"
   ]
  },
  {
   "cell_type": "markdown",
   "metadata": {},
   "source": [
    "#### Question 8&nbsp;&nbsp;&nbsp;&nbsp;&nbsp;&nbsp;(15 Points) \n",
    "\n",
    "Given two class definitions `PriorityQueueNode` and `PriorityQueue`:\n",
    "\n",
    "```python\n",
    "class PriorityQueueNode:\n",
    "    def __init__(self, value, pr):\n",
    "       #your implementation\n",
    "\n",
    "# Implementation of Priority Queue\n",
    "class PriorityQueue:\n",
    "     \n",
    "    def __init__(self):\n",
    "        #your implementation\n",
    "         \n",
    "    # Method to check Priority Queue is Empty or not \n",
    "    def isEmpty(self):\n",
    "        #your implementation\n",
    "     \n",
    "    # Method to add items in priority queue according to their priority value (lowest priority first)\n",
    "    def push(self, value, priority):\n",
    "         #your implementation\n",
    "     \n",
    "    # Method to remove lowest priority item from the Priority Queue \n",
    "    # Returns the value or None if the list is empty.\n",
    "    def pop(self):\n",
    "        #your implementation\n",
    "             \n",
    "    # Method to return lowest priority node value (not removing it)\n",
    "    def peek(self):\n",
    "         #your implementation\n",
    "             \n",
    "    # Method to Traverse through priority queue and return it as a list\n",
    "    def traverse(self):\n",
    "        #your implementation\n",
    "```\n",
    "Develop a priority queue implementation using singly linked lists by completing the classes above. \n",
    "\n",
    "Create an instance `queue1` and push the values 4 (priority 1), 5 (priority 2), 6 (priority 3), 7 (priority 0) and pop once. Use `traverse` to check whether the operations have been performed correctly."
   ]
  },
  {
   "cell_type": "code",
   "execution_count": 168,
   "metadata": {
    "ExecuteTime": {
     "end_time": "2022-03-29T00:51:11.957562Z",
     "start_time": "2022-03-29T00:51:11.942572Z"
    },
    "deletable": false,
    "nbgrader": {
     "cell_type": "code",
     "checksum": "ffcdb50fe97ccc33786c0375a5f9a0e4",
     "grade": false,
     "grade_id": "A8",
     "locked": false,
     "schema_version": 3,
     "solution": true,
     "task": false
    }
   },
   "outputs": [],
   "source": [
    "class PriorityQueueNode:\n",
    "    def __init__(self, value, pr):\n",
    "        self.data = (value,pr)\n",
    "        self.next = None\n",
    "\n",
    "# Implementation of Priority Queue\n",
    "class PriorityQueue:\n",
    "     \n",
    "    def __init__(self):\n",
    "        self.head = None\n",
    "         \n",
    "    # Method to check Priority Queue is Empty or not \n",
    "    # if Empty then it will return True. Otherwise False\n",
    "    def isEmpty(self):\n",
    "        return not self.head\n",
    "            \n",
    "     \n",
    "    # Method to add items in priority queue according to their priority value (lowest priority first)\n",
    "    def push(self, value, priority):\n",
    "        node = PriorityQueueNode(value,priority)\n",
    "        if self.isEmpty():\n",
    "            self.head = node\n",
    "        else:\n",
    "            cur = self.head\n",
    "            while cur != None:\n",
    "                if cur.next != None:\n",
    "                    if cur.data[1] > node.data[1]:\n",
    "                        node.next = self.head\n",
    "                        self.head = node\n",
    "                        break\n",
    "                    elif cur.data[1] <= node.data[1] and cur.next.data[1] >= node.data[1]:\n",
    "                        node.next = cur.next\n",
    "                        cur.next = node\n",
    "                        break\n",
    "                    else:\n",
    "                        cur = cur.next\n",
    "                else: #the last one element of the linked list \n",
    "                      #or only one element in the linked list\n",
    "                    if cur.data[1] <= node.data[1]:\n",
    "                        cur.next = node\n",
    "                        break\n",
    "                    else:\n",
    "                        node.next = self.head\n",
    "                        self.head = node\n",
    "                        break\n",
    "\n",
    "     \n",
    "    # Method to remove lowest priority item from the Priority Queue\n",
    "    def pop(self):\n",
    "        if self.isEmpty():\n",
    "            return \"linked list is empty\"\n",
    "        else:\n",
    "            cur = self.head\n",
    "            if cur.next == None:\n",
    "                self.head = None\n",
    "                result = cur.data[0]\n",
    "                del cur\n",
    "                return result\n",
    "            else:\n",
    "                self.head = cur.next\n",
    "                result = cur.data[0]\n",
    "                del cur\n",
    "                return result\n",
    "            \n",
    "             \n",
    "    # Method to return lowest priority node value (not removing it)\n",
    "    def peek(self):\n",
    "        if self.isEmpty():\n",
    "            return \"linked list is empty\"\n",
    "        else:\n",
    "            cur = self.head\n",
    "            return cur.data[0]\n",
    "             \n",
    "    # Method to Traverse through priority queue and retrun it as a list\n",
    "    def traverse(self):\n",
    "        cur = self.head\n",
    "        lst = []\n",
    "        while cur != None:\n",
    "            lst.append(cur.data[0])\n",
    "            cur = cur.next\n",
    "        return lst\n",
    "\n",
    "\n"
   ]
  },
  {
   "cell_type": "code",
   "execution_count": 170,
   "metadata": {},
   "outputs": [
    {
     "data": {
      "text/plain": [
       "['apple', 'cherry', 'banana']"
      ]
     },
     "execution_count": 170,
     "metadata": {},
     "output_type": "execute_result"
    }
   ],
   "source": [
    "queue1 = PriorityQueue()\n",
    "\n",
    "assert queue1.isEmpty()\n",
    "\n",
    "queue1.push(4, 1)\n",
    "queue1.traverse()\n",
    "\n",
    "queue1.push(5, 2)\n",
    "queue1.push(6, 3)\n",
    "queue1.push(7, 0)\n",
    "queue1.traverse()\n",
    "\n",
    "assert not queue1.isEmpty()\n",
    "\n",
    "# Now pop the priority 0 item\n",
    "queue1.pop() \n",
    "queue1.traverse()\n",
    "\n",
    "queue2 = PriorityQueue()\n",
    "queue2.push(1, 5)\n",
    "queue2.push(2, 3)\n",
    "queue2.push(3, 1)\n",
    "queue2.push(4, 2)\n",
    "queue2.peek()\n",
    "\n",
    "queue3 = PriorityQueue()\n",
    "queue3.push(\"apple\", 1)\n",
    "queue3.push(\"banana\", 2)\n",
    "queue3.push(\"cherry\", 1)\n",
    "\n",
    "queue3.traverse()"
   ]
  },
  {
   "cell_type": "code",
   "execution_count": null,
   "metadata": {},
   "outputs": [],
   "source": [
    "# Test cases\n",
    "\n",
    "queue1 = PriorityQueue()\n",
    "\n",
    "assert queue1.isEmpty()\n",
    "\n",
    "queue1.push(4, 1)\n",
    "queue1.push(5, 2)\n",
    "queue1.push(6, 3)\n",
    "queue1.push(7, 0)\n",
    "assert queue1.traverse() == [7, 4, 5, 6]\n",
    "assert not queue1.isEmpty()\n",
    "\n",
    "# Now pop the priority 0 item\n",
    "assert queue1.pop() == 7\n",
    "\n",
    "# And check...\n",
    "assert queue1.traverse() == [4, 5, 6]\n",
    "\n",
    "queue2 = PriorityQueue()\n",
    "queue2.push(1, 5)\n",
    "queue2.push(2, 3)\n",
    "queue2.push(3, 1)\n",
    "queue2.push(4, 2)\n",
    "assert queue2.peek() == 3\n",
    "\n",
    "queue3 = PriorityQueue()\n",
    "queue3.push(\"apple\", 1)\n",
    "queue3.push(\"banana\", 2)\n",
    "queue3.push(\"cherry\", 1)\n",
    "\n",
    "# Note that \"cherry\" pushed past \"apple\"\n",
    "assert queue3.traverse() == [\"apple\", \"cherry\", \"banana\"]"
   ]
  },
  {
   "cell_type": "code",
   "execution_count": null,
   "metadata": {
    "ExecuteTime": {
     "end_time": "2022-03-29T00:44:15.950238Z",
     "start_time": "2022-03-29T00:44:15.933283Z"
    },
    "deletable": false,
    "editable": false,
    "nbgrader": {
     "cell_type": "code",
     "checksum": "e1b5331b40e5dfa1735800e25cb19f54",
     "grade": true,
     "grade_id": "test_A8-priority",
     "locked": true,
     "points": 15,
     "schema_version": 3,
     "solution": false,
     "task": false
    },
    "tags": []
   },
   "outputs": [],
   "source": [
    "# Testing Cell (Do NOT modify this cell)"
   ]
  },
  {
   "cell_type": "markdown",
   "metadata": {},
   "source": [
    "#### Question 9&nbsp;&nbsp;&nbsp;&nbsp;&nbsp;&nbsp;(10 Points)\n",
    "\n",
    "Write a function `q9_mostfrequent (arr, k)` using priority queues that finds the `k` numbers having the greatest frequency in an input array `arr`. If two numbers have the same frequency, then the larger number should be given preference. The numbers should be displayed in **decreasing** order of their frequencies. \n",
    "\n",
    "For example:\n",
    "```python\n",
    "assert q9_mostfrequent([3, 1, 4, 4, 5, 2, 6, 1], 2) == [4, 1]\n",
    "\n",
    "assert q9_mostfrequent([1, 1, 2, 2], 1) == [2]\n",
    "# because equal frequency and 2 > 1\n",
    "```"
   ]
  },
  {
   "cell_type": "code",
   "execution_count": 12,
   "metadata": {
    "ExecuteTime": {
     "end_time": "2022-03-29T00:54:49.136543Z",
     "start_time": "2022-03-29T00:54:49.117557Z"
    },
    "deletable": false,
    "nbgrader": {
     "cell_type": "code",
     "checksum": "6d98768d46577e63cb83f72179cf2e17",
     "grade": false,
     "grade_id": "A9",
     "locked": false,
     "schema_version": 3,
     "solution": true,
     "task": false
    }
   },
   "outputs": [
    {
     "ename": "TypeError",
     "evalue": "'<' not supported between instances of 'str' and 'int'",
     "output_type": "error",
     "traceback": [
      "\u001b[1;31m---------------------------------------------------------------------------\u001b[0m",
      "\u001b[1;31mTypeError\u001b[0m                                 Traceback (most recent call last)",
      "Input \u001b[1;32mIn [12]\u001b[0m, in \u001b[0;36m<cell line: 21>\u001b[1;34m()\u001b[0m\n\u001b[0;32m     16\u001b[0m     \u001b[38;5;28;01mreturn\u001b[39;00m [\u001b[38;5;241m-\u001b[39mi[\u001b[38;5;241m1\u001b[39m] \u001b[38;5;28;01mfor\u001b[39;00m i \u001b[38;5;129;01min\u001b[39;00m heapq\u001b[38;5;241m.\u001b[39mnsmallest(k,heap_lst)]\n\u001b[0;32m     20\u001b[0m data \u001b[38;5;241m=\u001b[39m [(\u001b[38;5;241m1\u001b[39m, \u001b[38;5;241m2\u001b[39m), (\u001b[38;5;241m1\u001b[39m, \u001b[38;5;124m\"\u001b[39m\u001b[38;5;124m1\u001b[39m\u001b[38;5;124m\"\u001b[39m), (\u001b[38;5;241m1\u001b[39m, \u001b[38;5;241m3\u001b[39m), (\u001b[38;5;241m1\u001b[39m, \u001b[38;5;241m1\u001b[39m)]\n\u001b[1;32m---> 21\u001b[0m \u001b[43mheapq\u001b[49m\u001b[38;5;241;43m.\u001b[39;49m\u001b[43mheapify\u001b[49m\u001b[43m(\u001b[49m\u001b[43mdata\u001b[49m\u001b[43m)\u001b[49m\n\u001b[0;32m     22\u001b[0m \u001b[38;5;28mprint\u001b[39m(data)\n",
      "\u001b[1;31mTypeError\u001b[0m: '<' not supported between instances of 'str' and 'int'"
     ]
    }
   ],
   "source": [
    "import heapq\n",
    "\n",
    "def q9_mostfrequent(arr, k):\n",
    "    dict1 ={}\n",
    "    for i in arr:\n",
    "        if i in dict1:\n",
    "            dict1[i] += 1\n",
    "        else:\n",
    "            dict1[i] = 1\n",
    "    lst = [(-value,-key) for key, value in dict1.items()]\n",
    "    heap_lst=[]    \n",
    "    for i in lst:\n",
    "        heapq.heappush(heap_lst,i)\n",
    "    \n",
    "    print(heapq.nsmallest(k,heap_lst))\n",
    "    return [-i[1] for i in heapq.nsmallest(k,heap_lst)]\n",
    "        \n",
    "        \n",
    "\n",
    "data = [(1, 2), (1, 1), (1, 3), (1, 1)]\n",
    "heapq.heapify(data)\n",
    "print(data)"
   ]
  },
  {
   "cell_type": "code",
   "execution_count": 212,
   "metadata": {},
   "outputs": [
    {
     "name": "stdout",
     "output_type": "stream",
     "text": [
      "[(-3, -1), (-2, -2)]\n",
      "[(-2, -2)]\n"
     ]
    },
    {
     "data": {
      "text/plain": [
       "[2]"
      ]
     },
     "execution_count": 212,
     "metadata": {},
     "output_type": "execute_result"
    }
   ],
   "source": [
    "q9_mostfrequent([1,1,1,2,2,3], 2)\n",
    "q9_mostfrequent([1,1,2,2,3], 1)"
   ]
  },
  {
   "cell_type": "code",
   "execution_count": 213,
   "metadata": {},
   "outputs": [
    {
     "name": "stdout",
     "output_type": "stream",
     "text": [
      "[(-3, -1), (-2, -2)]\n",
      "[(-2, -2)]\n",
      "[(-1, -5), (-1, -4), (-1, -3)]\n"
     ]
    }
   ],
   "source": [
    "# Test cases\n",
    "\n",
    "assert q9_mostfrequent([1,1,1,2,2,3], 2) == [1, 2]\n",
    "\n",
    "assert q9_mostfrequent([1,1,2,2,3], 1) == [2]\n",
    "\n",
    "assert q9_mostfrequent([1,2,3,4,5], 3) == [5, 4, 3]"
   ]
  },
  {
   "cell_type": "code",
   "execution_count": null,
   "metadata": {
    "ExecuteTime": {
     "end_time": "2022-03-29T00:52:31.001297Z",
     "start_time": "2022-03-29T00:52:30.997308Z"
    },
    "deletable": false,
    "editable": false,
    "nbgrader": {
     "cell_type": "code",
     "checksum": "74b263ad8f80382625bb5b049738b0e8",
     "grade": true,
     "grade_id": "test_A9-mostFrequent",
     "locked": true,
     "points": 10,
     "schema_version": 3,
     "solution": false,
     "task": false
    }
   },
   "outputs": [],
   "source": [
    "# Testing Cell (Do NOT modify this cell)\n",
    "# Hidden test cases"
   ]
  },
  {
   "cell_type": "markdown",
   "metadata": {},
   "source": [
    "#### Question 10&nbsp;&nbsp;&nbsp;&nbsp;&nbsp;&nbsp;(15 Points)\n",
    "Given an unsorted integer list, write a function `q10_find (nums, target)` to find a pair of numbers in `nums` with the given sum `target` in it using hash maps. Return the (first) matching pair as a tuple or `False` if no matching pair is found.\n",
    "\n",
    "For example, given `q10_find([8, 7, 2, 5, 3, 1], 10)`, the output should be `(8, 2)`."
   ]
  },
  {
   "cell_type": "code",
   "execution_count": 14,
   "metadata": {
    "ExecuteTime": {
     "end_time": "2022-03-29T01:18:35.258063Z",
     "start_time": "2022-03-29T01:18:35.236899Z"
    },
    "deletable": false,
    "nbgrader": {
     "cell_type": "code",
     "checksum": "4cbb2893df1d1ef80870f530cf68a2cc",
     "grade": false,
     "grade_id": "A10",
     "locked": false,
     "schema_version": 3,
     "solution": true,
     "task": false
    }
   },
   "outputs": [],
   "source": [
    "class HashMap:\n",
    "  \n",
    "    #create empty bucket list of given size\n",
    "    def __init__(self, size):\n",
    "        self.size = size\n",
    "        self.hash_map = self.create_buckets()\n",
    "  \n",
    "    def create_buckets(self):\n",
    "        return [[] for _ in range(self.size)]\n",
    "  \n",
    "    #insert values into hash map\n",
    "    def set_val(self, key, val):\n",
    "        \n",
    "        #get the index from the key using hash function\n",
    "        hashed_key = hash(key) % self.size\n",
    "          \n",
    "        #get the bucket corresponding to index\n",
    "        bucket = self.hash_map[hashed_key]\n",
    "  \n",
    "        found_key = False\n",
    "        for index, record in enumerate(bucket):\n",
    "            record_key, record_val = record\n",
    "              \n",
    "            #check if the bucket has same key as the key to be inserted\n",
    "            if record_key == key:\n",
    "                found_key = True\n",
    "                break\n",
    "  \n",
    "        #if the bucket has same key as the key to be inserted, update the key value. Otherwise append the new key-value pair to the bucket\n",
    "        if found_key:\n",
    "            bucket[index] = (key, val)\n",
    "        else:\n",
    "            bucket.append((key, val))\n",
    "  \n",
    "    #return searched value with specific key\n",
    "    def get_val(self, key):\n",
    "        \n",
    "        #get the index from the key using hash function\n",
    "        hashed_key = hash(key) % self.size\n",
    "          \n",
    "        #get the bucket corresponding to index\n",
    "        bucket = self.hash_map[hashed_key]\n",
    "  \n",
    "        found_key = False\n",
    "        for index, record in enumerate(bucket):\n",
    "            record_key, record_val = record\n",
    "              \n",
    "            #check if the bucket has same key as the key being searched\n",
    "            if record_key == key:\n",
    "                found_key = True\n",
    "                break\n",
    "  \n",
    "        #if the bucket has same key as the key being searched, return the value found. Otherwise indicate there was no record found\n",
    "        if found_key:\n",
    "            return record_val\n",
    "        else:\n",
    "            return \"No record found\"\n",
    "  \n",
    "    #remove a value with specific key\n",
    "    def delete_val(self, key):\n",
    "        \n",
    "        #get the index from the key using hash function\n",
    "        hashed_key = hash(key) % self.size\n",
    "          \n",
    "        #get the bucket corresponding to index\n",
    "        bucket = self.hash_map[hashed_key]\n",
    "  \n",
    "        found_key = False\n",
    "        for index, record in enumerate(bucket):\n",
    "            record_key, record_val = record\n",
    "              \n",
    "            #check if the bucket has same key as the key to be deleted\n",
    "            if record_key == key:\n",
    "                found_key = True\n",
    "                break\n",
    "        if found_key:\n",
    "            bucket.pop(index)\n",
    "        return\n",
    "  \n",
    "    #to print the items of hash map\n",
    "    def __str__(self):\n",
    "        return \"\".join(str(item) for item in self.hash_map)\n",
    "  \n",
    "  \n",
    "\n",
    "\n",
    "def q10_find(nums, target):\n",
    "    hash_map = HashMap(len(nums))\n",
    "    for i in nums:\n",
    "        hash_map.set_val(i,True)\n",
    "#     print(hash_map)\n",
    "#     return hash_map.get_val(1)   \n",
    "    for i in nums:\n",
    "        pair = target-i\n",
    "#         print(pair)\n",
    "#         print(hash_map.get_val(pair))\n",
    "        if hash_map.get_val(pair) == True:\n",
    "            return (i,pair)"
   ]
  },
  {
   "cell_type": "code",
   "execution_count": 15,
   "metadata": {},
   "outputs": [
    {
     "data": {
      "text/plain": [
       "{2, 8}"
      ]
     },
     "execution_count": 15,
     "metadata": {},
     "output_type": "execute_result"
    }
   ],
   "source": [
    "set(q10_find([8, 7, 2, 5, 3, 1], 10))"
   ]
  },
  {
   "cell_type": "code",
   "execution_count": 16,
   "metadata": {},
   "outputs": [],
   "source": [
    "# Test case\n",
    "\n",
    "# Transform to sets for comparison to avoid awkwardness about order in the tuple.\n",
    "assert set(q10_find([8, 7, 2, 5, 3, 1], 10)) == {8, 2}"
   ]
  },
  {
   "cell_type": "code",
   "execution_count": null,
   "metadata": {
    "ExecuteTime": {
     "end_time": "2022-03-29T01:16:06.709957Z",
     "start_time": "2022-03-29T01:16:06.707452Z"
    },
    "deletable": false,
    "editable": false,
    "nbgrader": {
     "cell_type": "code",
     "checksum": "8e3cf4c37d0dd4d8f569f0fb0069c958",
     "grade": true,
     "grade_id": "test_A10-find",
     "locked": true,
     "points": 15,
     "schema_version": 3,
     "solution": false,
     "task": false
    },
    "tags": []
   },
   "outputs": [],
   "source": [
    "# Testing Cell (Do NOT modify this cell)"
   ]
  }
 ],
 "metadata": {
  "hide_input": false,
  "kernelspec": {
   "display_name": "Python 3 (ipykernel)",
   "language": "python",
   "name": "python3"
  },
  "language_info": {
   "codemirror_mode": {
    "name": "ipython",
    "version": 3
   },
   "file_extension": ".py",
   "mimetype": "text/x-python",
   "name": "python",
   "nbconvert_exporter": "python",
   "pygments_lexer": "ipython3",
   "version": "3.9.12"
  },
  "nbTranslate": {
   "displayLangs": [
    "*"
   ],
   "hotkey": "alt-t",
   "langInMainMenu": true,
   "sourceLang": "en",
   "targetLang": "fr",
   "useGoogleTranslate": true
  },
  "toc": {
   "base_numbering": 1,
   "nav_menu": {},
   "number_sections": true,
   "sideBar": true,
   "skip_h1_title": false,
   "title_cell": "Table of Contents",
   "title_sidebar": "Contents",
   "toc_cell": false,
   "toc_position": {},
   "toc_section_display": true,
   "toc_window_display": false
  },
  "varInspector": {
   "cols": {
    "lenName": 16,
    "lenType": 16,
    "lenVar": 40
   },
   "kernels_config": {
    "python": {
     "delete_cmd_postfix": "",
     "delete_cmd_prefix": "del ",
     "library": "var_list.py",
     "varRefreshCmd": "print(var_dic_list())"
    },
    "r": {
     "delete_cmd_postfix": ") ",
     "delete_cmd_prefix": "rm(",
     "library": "var_list.r",
     "varRefreshCmd": "cat(var_dic_list()) "
    }
   },
   "types_to_exclude": [
    "module",
    "function",
    "builtin_function_or_method",
    "instance",
    "_Feature"
   ],
   "window_display": false
  }
 },
 "nbformat": 4,
 "nbformat_minor": 4
}
